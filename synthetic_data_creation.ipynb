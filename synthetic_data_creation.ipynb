{
 "cells": [
  {
   "cell_type": "markdown",
   "id": "2ff44a82642f85f8",
   "metadata": {},
   "source": [
    "Create dataset from swiss card images"
   ]
  },
  {
   "cell_type": "code",
   "id": "initial_id",
   "metadata": {
    "ExecuteTime": {
     "end_time": "2025-04-11T10:48:12.436338Z",
     "start_time": "2025-04-11T10:48:12.100564Z"
    }
   },
   "source": [
    "import math\n",
    "import numpy as np\n",
    "import cv2 as cv\n",
    "from pathlib import Path\n",
    "import random\n",
    "from itertools import cycle\n",
    "\n",
    "from jassair.utils import get_dataset_path, Datasets, get_class_for_name\n",
    "from jassair.synthetic_data import rotate_image, add_drop_shadow, augment_image, Vignette, LightSpots, RotateMult90, LightingGradient, ColorJitter, NoiseNormal, GaussianBlur, PerspectiveWarp, WhiteBalanceShift"
   ],
   "outputs": [],
   "execution_count": 1
  },
  {
   "cell_type": "markdown",
   "id": "37f4e2861091dcb1",
   "metadata": {},
   "source": [
    "## Create background images"
   ]
  },
  {
   "cell_type": "code",
   "id": "4c86e85ae6266008",
   "metadata": {
    "ExecuteTime": {
     "end_time": "2025-04-11T10:48:12.464234Z",
     "start_time": "2025-04-11T10:48:12.456637Z"
    }
   },
   "source": "#dest_path = get_dataset_path(Datasets.BACKGROUNDS)",
   "outputs": [],
   "execution_count": 2
  },
  {
   "cell_type": "code",
   "id": "a7bc297b95a28c86",
   "metadata": {
    "ExecuteTime": {
     "end_time": "2025-04-11T10:48:14.262658Z",
     "start_time": "2025-04-11T10:48:12.964755Z"
    }
   },
   "source": [
    "target_x = 640\n",
    "\n",
    "source_path = Path(\"data/raw_backgrounds\")\n",
    "\n",
    "for i, image_path in enumerate(source_path.glob(\"*\"), 1):\n",
    "    image = cv.imread(image_path)\n",
    "    \n",
    "    h, w = image.shape[:2]\n",
    "    h_2, w_2 = h // 2, w // 2\n",
    "    x = min(h, w)\n",
    "    x_2 = x // 2\n",
    "    \n",
    "    if x < target_x:\n",
    "        raise ValueError(f\"Image {image_path} is too small!, {image.shape[:2]}\")\n",
    "    \n",
    "    h_start = h_2 - x_2\n",
    "    h_stop = h_2 + x_2\n",
    "    w_start = w_2 - x_2\n",
    "    w_stop = w_2 + x_2        \n",
    "    \n",
    "    image = image[h_start:h_stop, w_start:w_stop]\n",
    "\n",
    "    image = cv.resize(image, (target_x, target_x))\n",
    "    cv.imwrite(f\"{dest_path}/background_{i}.png\", image) "
   ],
   "outputs": [
    {
     "ename": "NameError",
     "evalue": "name 'dest_path' is not defined",
     "output_type": "error",
     "traceback": [
      "\u001B[31m---------------------------------------------------------------------------\u001B[39m",
      "\u001B[31mNameError\u001B[39m                                 Traceback (most recent call last)",
      "\u001B[36mCell\u001B[39m\u001B[36m \u001B[39m\u001B[32mIn[3]\u001B[39m\u001B[32m, line 24\u001B[39m\n\u001B[32m     21\u001B[39m image = image[h_start:h_stop, w_start:w_stop]\n\u001B[32m     23\u001B[39m image = cv.resize(image, (target_x, target_x))\n\u001B[32m---> \u001B[39m\u001B[32m24\u001B[39m cv.imwrite(\u001B[33mf\u001B[39m\u001B[33m\"\u001B[39m\u001B[38;5;132;01m{\u001B[39;00m\u001B[43mdest_path\u001B[49m\u001B[38;5;132;01m}\u001B[39;00m\u001B[33m/background_\u001B[39m\u001B[38;5;132;01m{\u001B[39;00mi\u001B[38;5;132;01m}\u001B[39;00m\u001B[33m.png\u001B[39m\u001B[33m\"\u001B[39m, image) \n",
      "\u001B[31mNameError\u001B[39m: name 'dest_path' is not defined"
     ]
    }
   ],
   "execution_count": 3
  },
  {
   "cell_type": "markdown",
   "id": "1032abea6d427fa",
   "metadata": {},
   "source": [
    "## Read images"
   ]
  },
  {
   "cell_type": "code",
   "id": "b5b4c2b62685f157",
   "metadata": {
    "ExecuteTime": {
     "end_time": "2025-04-11T10:48:15.832654Z",
     "start_time": "2025-04-11T10:48:15.826620Z"
    }
   },
   "source": "dataset_path = get_dataset_path(Datasets.CARD_TEMPLATE)",
   "outputs": [],
   "execution_count": 4
  },
  {
   "cell_type": "code",
   "id": "b5c8d31de965b899",
   "metadata": {
    "ExecuteTime": {
     "end_time": "2025-04-11T10:48:15.944233Z",
     "start_time": "2025-04-11T10:48:15.938824Z"
    }
   },
   "source": [
    "FOREGROUND_IMAGES: list[tuple[np.ndarray, int]] = []"
   ],
   "outputs": [],
   "execution_count": 5
  },
  {
   "cell_type": "code",
   "id": "68f8507962614df4",
   "metadata": {
    "ExecuteTime": {
     "end_time": "2025-04-11T10:48:18.426883Z",
     "start_time": "2025-04-11T10:48:16.141567Z"
    }
   },
   "source": [
    "for image_path in dataset_path.glob(\"*\"):\n",
    "    image = cv.imread(image_path, cv.IMREAD_UNCHANGED)\n",
    "    label = int(get_class_for_name(image_path.stem))\n",
    "    \n",
    "    FOREGROUND_IMAGES.append((image, label))\n",
    "print(len(FOREGROUND_IMAGES))"
   ],
   "outputs": [
    {
     "name": "stdout",
     "output_type": "stream",
     "text": [
      "36\n"
     ]
    }
   ],
   "execution_count": 6
  },
  {
   "cell_type": "code",
   "id": "c2b3e81ef7940b17",
   "metadata": {
    "ExecuteTime": {
     "end_time": "2025-04-11T10:48:18.463513Z",
     "start_time": "2025-04-11T10:48:18.457919Z"
    }
   },
   "source": [
    "BACKGROUND_IMAGES : list[np.ndarray] = []"
   ],
   "outputs": [],
   "execution_count": 7
  },
  {
   "cell_type": "code",
   "id": "1daf11993f47598d",
   "metadata": {
    "ExecuteTime": {
     "end_time": "2025-04-11T10:48:20.082341Z",
     "start_time": "2025-04-11T10:48:18.496073Z"
    }
   },
   "source": [
    "for image_path in get_dataset_path(Datasets.BACKGROUNDS).glob(\"*\"):\n",
    "    BACKGROUND_IMAGES.append(cv.imread(image_path))\n",
    "print(len(BACKGROUND_IMAGES))"
   ],
   "outputs": [
    {
     "name": "stdout",
     "output_type": "stream",
     "text": [
      "99\n"
     ]
    }
   ],
   "execution_count": 8
  },
  {
   "cell_type": "markdown",
   "id": "f2e3ea94fb61c765",
   "metadata": {},
   "source": [
    "## YOLO Dataset description"
   ]
  },
  {
   "cell_type": "code",
   "id": "2ace2e634393b2b1",
   "metadata": {
    "ExecuteTime": {
     "end_time": "2025-04-11T10:48:20.110922Z",
     "start_time": "2025-04-11T10:48:20.098919Z"
    }
   },
   "source": [
    "DESCRIPTION = \"\"\"train: ./train/images\n",
    "val: ./valid/images\n",
    "test: ./test/images\n",
    "\n",
    "nc: 36\n",
    "names: ['Eichel 10', 'Eichel 6', 'Eichel 7', 'Eichel 8', 'Eichel 9', 'Eichel Ass', 'Eichel Konig', 'Eichel Ober', 'Eichel Under', 'Rose 10', 'Rose 6', 'Rose 7', 'Rose 8', 'Rose 9', 'Rose Ass', 'Rose Konig', 'Rose Ober', 'Rose Under', 'Schelle 10', 'Schelle 6', 'Schelle 7', 'Schelle 8', 'Schelle 9', 'Schelle Ass', 'Schelle Konig', 'Schelle Ober', 'Schelle Under', 'Schilte 10', 'Schilte 6', 'Schilte 7', 'Schilte 8', 'Schilte 9', 'Schilte Ass', 'Schilte Konig', 'Schilte Ober', 'Schilte Under']\n",
    "\"\"\""
   ],
   "outputs": [],
   "execution_count": 9
  },
  {
   "cell_type": "markdown",
   "id": "7d3478bcae6262a2",
   "metadata": {},
   "source": [
    "## Create synthetic images"
   ]
  },
  {
   "metadata": {
    "ExecuteTime": {
     "end_time": "2025-04-11T10:48:20.144570Z",
     "start_time": "2025-04-11T10:48:20.131074Z"
    }
   },
   "cell_type": "code",
   "source": [
    "BACKGROUND_AUGMENTS = [\n",
    "    RotateMult90(),\n",
    "    ColorJitter(hue=0.1)\n",
    "]"
   ],
   "id": "121330197cdcc5ca",
   "outputs": [],
   "execution_count": 10
  },
  {
   "metadata": {
    "ExecuteTime": {
     "end_time": "2025-04-11T11:09:49.458136Z",
     "start_time": "2025-04-11T11:09:49.450342Z"
    }
   },
   "cell_type": "code",
   "source": [
    "FINAL_AUGMENT = [\n",
    "    ColorJitter(0.3, 0.3, 0.2, 0.1),\n",
    "    LightingGradient(0.7),\n",
    "    LightSpots(),\n",
    "    Vignette(0.3)\n",
    "]"
   ],
   "id": "2f7d638afd598690",
   "outputs": [],
   "execution_count": 35
  },
  {
   "metadata": {
    "ExecuteTime": {
     "end_time": "2025-04-11T11:09:49.689972Z",
     "start_time": "2025-04-11T11:09:49.682638Z"
    }
   },
   "cell_type": "code",
   "source": "class PlacementError(Exception): ...",
   "id": "d87ecafa89ab152b",
   "outputs": [],
   "execution_count": 36
  },
  {
   "cell_type": "code",
   "id": "36b7c3c1cc872625",
   "metadata": {
    "ExecuteTime": {
     "end_time": "2025-04-11T11:09:50.623363Z",
     "start_time": "2025-04-11T11:09:50.616376Z"
    }
   },
   "source": [
    "def iou(box1, box2):\n",
    "    x1, y1, x2, y2 = box1\n",
    "    x1b, y1b, x2b, y2b = box2\n",
    "    xi1, yi1 = max(x1, x1b), max(y1, y1b)\n",
    "    xi2, yi2 = min(x2, x2b), min(y2, y2b)\n",
    "    inter_area = max(0, xi2 - xi1) * max(0, yi2 - yi1)\n",
    "    box1_area = (x2 - x1) * (y2 - y1)\n",
    "    box2_area = (x2b - x1b) * (y2b - y1b)\n",
    "    union_area = box1_area + box2_area - inter_area\n",
    "    return inter_area / union_area if union_area else 0"
   ],
   "outputs": [],
   "execution_count": 37
  },
  {
   "cell_type": "code",
   "id": "109897711e0b824d",
   "metadata": {
    "ExecuteTime": {
     "end_time": "2025-04-11T11:09:51.057212Z",
     "start_time": "2025-04-11T11:09:51.042343Z"
    }
   },
   "source": [
    "def generate_synthetic_card_scene(bg: np.ndarray, card_images: list[np.ndarray], angles: list[float], scale: float = 0.7, iou_threshold: float = 0.1) -> tuple[np.ndarray, list[str]]:\n",
    "    \"\"\"\n",
    "    Generates a realistic card scene on a background.\n",
    "    Returns final image and YOLO-format annotations.\n",
    "    \"\"\"\n",
    "    bg = augment_image(bg, BACKGROUND_AUGMENTS)\n",
    "    h_bg, w_bg = bg.shape[:2]\n",
    "    \n",
    "    shadowed = [add_drop_shadow(img, (50, 50), 20, 0.8) for img in card_images]\n",
    "    rotated = [rotate_image(img, angle) for img, angle in zip(shadowed, angles)]\n",
    "    max_card = max(rotated, key=lambda x: sum(x.shape[:2]))\n",
    "    h_max, w_max = max_card.shape[:2]\n",
    "    ratio = min(h_bg / h_max, w_bg / w_max)\n",
    "    \n",
    "    processed_cards = []\n",
    "    for img in rotated:\n",
    "        h, w = img.shape[:2]\n",
    "        processed_cards.append((cv.resize(img, (int(w * ratio * scale), int(h * ratio * scale))), (h, w)))\n",
    "\n",
    "    boxes = []\n",
    "    placed = []\n",
    "    for card, (bh_card, bw_card) in processed_cards:\n",
    "        h_card, w_card = card.shape[:2]\n",
    "        max_attempts = 30\n",
    "        for _ in range(max_attempts):\n",
    "            x = np.random.randint(0, w_bg - w_card)\n",
    "            y = np.random.randint(0, h_bg - h_card)\n",
    "\n",
    "            # Check for overlap\n",
    "            bbox = (x, y, x + w_card, y + h_card)\n",
    "            if all(iou(bbox, existing) < iou_threshold for existing in placed):\n",
    "                placed.append(bbox)\n",
    "                break\n",
    "        else:\n",
    "            raise PlacementError(\"Unable to place card without overlap\")\n",
    "\n",
    "        roi = bg[y:y+h_card, x:x+w_card]\n",
    "        alpha = card[:, :, 3] / 255\n",
    "        alpha_3ch = np.dstack([alpha]*3)\n",
    "        card_rgb = card[:, :, :3]\n",
    "        blended = (roi * (1 - alpha_3ch) + card_rgb * alpha_3ch)\n",
    "        bg[y:y+h_card, x:x+w_card] = blended\n",
    "\n",
    "        # YOLO box\n",
    "        cx = (x + w_card / 2) / w_bg\n",
    "        cy = (y + h_card / 2) / h_bg\n",
    "        bw = w_card / w_bg\n",
    "        bh = h_card / h_bg\n",
    "        boxes.append(f\"{cx} {cy} {bw} {bh}\")\n",
    "\n",
    "    final = augment_image(bg, FINAL_AUGMENT)\n",
    "    return final, boxes"
   ],
   "outputs": [],
   "execution_count": 38
  },
  {
   "cell_type": "code",
   "id": "9ec382e0ac6d3442",
   "metadata": {
    "ExecuteTime": {
     "end_time": "2025-04-11T11:09:51.559790Z",
     "start_time": "2025-04-11T11:09:51.540488Z"
    }
   },
   "source": [
    "def create_synthetic_images(num_images: int, image_dest: Path, label_dest: Path, set_name: str, cards_per_image: tuple[int, int], overlap_threshold: float):\n",
    "    images = iter(())\n",
    "    for i in range(num_images):\n",
    "        if not i % 128:\n",
    "            random.shuffle(FOREGROUND_IMAGES)\n",
    "            images = cycle(FOREGROUND_IMAGES)\n",
    "        \n",
    "        bg = random.choice(BACKGROUND_IMAGES).copy()\n",
    "        \n",
    "        num_cards = random.randint(*cards_per_image)\n",
    "        cards = [next(images) for _ in range(num_cards)]\n",
    "        angles = [random.gauss(0, 45.0) for _ in range(num_cards)]\n",
    "        labels = [card[1] for card in cards]\n",
    "        cards = [card[0].copy() for card in cards]\n",
    "        scale = random.uniform(0.5 / max(1.0, math.log2(num_cards * (2 - overlap_threshold))), 0.8 / max(1.0, math.log2(num_cards * (2 - overlap_threshold))))\n",
    "    \n",
    "        # Overlay object onto background\n",
    "        synthetic_image, boxes = generate_synthetic_card_scene(bg, cards, angles, scale, overlap_threshold)\n",
    "    \n",
    "        # Save image\n",
    "        cv.imwrite(f\"{image_dest}/{set_name}_{i}.png\", synthetic_image)\n",
    "        with (label_dest / f\"{set_name}_{i}.txt\").open(\"w+\", encoding=\"utf-8\") as f:\n",
    "            for label, box in zip(labels, boxes):\n",
    "                f.write(f\"{label} {box}\\n\")"
   ],
   "outputs": [],
   "execution_count": 39
  },
  {
   "cell_type": "code",
   "id": "623b933d5b0524de",
   "metadata": {
    "ExecuteTime": {
     "end_time": "2025-04-11T11:09:51.983689Z",
     "start_time": "2025-04-11T11:09:51.971185Z"
    }
   },
   "source": [
    "def create_synthetic_dataset(dataset_dest: Path, num_train: int, num_val: int, num_test: int, cards_per_image: tuple[int, int], max_overlap: float):\n",
    "    # Create training data\n",
    "    image_target = dataset_dest / \"train\" / \"images\"\n",
    "    image_target.mkdir(parents=True, exist_ok=True)\n",
    "    label_target = dataset_dest / \"train\" / \"labels\"\n",
    "    label_target.mkdir(parents=True, exist_ok=True)\n",
    "    create_synthetic_images(num_train, image_target, label_target, \"train\", cards_per_image, max_overlap)\n",
    "    \n",
    "    # Create validation data\n",
    "    image_target = dataset_dest / \"valid\" / \"images\"\n",
    "    image_target.mkdir(parents=True, exist_ok=True)\n",
    "    label_target = dataset_dest / \"valid\" / \"labels\"\n",
    "    label_target.mkdir(parents=True, exist_ok=True)\n",
    "    create_synthetic_images(num_val, image_target, label_target, \"valid\", cards_per_image, max_overlap)\n",
    "    \n",
    "    # Create test data\n",
    "    image_target = dataset_dest / \"test\" / \"images\"\n",
    "    image_target.mkdir(parents=True, exist_ok=True)\n",
    "    label_target = dataset_dest / \"test\" / \"labels\"\n",
    "    label_target.mkdir(parents=True, exist_ok=True)\n",
    "    create_synthetic_images(num_test, image_target, label_target, \"test\", cards_per_image, max_overlap)\n",
    "    \n",
    "    # Write data.yaml\n",
    "    with (dataset_dest / \"data.yaml\").open(\"w+\", encoding=\"utf-8\") as f:\n",
    "        f.write(DESCRIPTION)\n",
    "        "
   ],
   "outputs": [],
   "execution_count": 40
  },
  {
   "cell_type": "code",
   "id": "f93266ad26862481",
   "metadata": {
    "ExecuteTime": {
     "end_time": "2025-04-11T11:09:52.695167Z",
     "start_time": "2025-04-11T11:09:52.685380Z"
    }
   },
   "source": [
    "num_train = 10\n",
    "num_valid = 0\n",
    "num_test = 0\n",
    "overlap = 0.1\n",
    "cards_per_image = (1, 1)"
   ],
   "outputs": [],
   "execution_count": 41
  },
  {
   "cell_type": "code",
   "id": "19d9a1f38a7d239b",
   "metadata": {
    "ExecuteTime": {
     "end_time": "2025-04-11T11:09:56.354775Z",
     "start_time": "2025-04-11T11:09:53.091449Z"
    }
   },
   "source": [
    "random.seed(42)\n",
    "create_synthetic_dataset(get_dataset_path(Datasets.SYNTHETIC_SINGLE), num_train, num_valid, num_test, cards_per_image, overlap)\n",
    "\n",
    "print(\"Synthetic dataset created successfully!\")"
   ],
   "outputs": [
    {
     "name": "stdout",
     "output_type": "stream",
     "text": [
      "Synthetic dataset created successfully!\n"
     ]
    }
   ],
   "execution_count": 42
  },
  {
   "metadata": {
    "ExecuteTime": {
     "end_time": "2025-04-11T10:48:14.428659300Z",
     "start_time": "2025-04-11T10:45:09.578313Z"
    }
   },
   "cell_type": "code",
   "source": "",
   "id": "af2177049baaf4c5",
   "outputs": [],
   "execution_count": null
  }
 ],
 "metadata": {
  "kernelspec": {
   "display_name": "Python 3 (ipykernel)",
   "language": "python",
   "name": "python3"
  },
  "language_info": {
   "codemirror_mode": {
    "name": "ipython",
    "version": 3
   },
   "file_extension": ".py",
   "mimetype": "text/x-python",
   "name": "python",
   "nbconvert_exporter": "python",
   "pygments_lexer": "ipython3",
   "version": "3.12.9"
  }
 },
 "nbformat": 4,
 "nbformat_minor": 5
}
