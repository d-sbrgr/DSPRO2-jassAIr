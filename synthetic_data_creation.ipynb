{
 "cells": [
  {
   "metadata": {},
   "cell_type": "markdown",
   "source": "Create dataset from swiss card images",
   "id": "2ff44a82642f85f8"
  },
  {
   "metadata": {
    "ExecuteTime": {
     "end_time": "2025-03-24T09:50:51.678008Z",
     "start_time": "2025-03-24T09:50:45.507075Z"
    }
   },
   "cell_type": "code",
   "source": "%pip install opencv-python numpy",
   "id": "155fef444451dcee",
   "outputs": [
    {
     "name": "stdout",
     "output_type": "stream",
     "text": [
      "Looking in indexes: https://devops.bt.siemens.com/artifactory/api/pypi/pypi-all/simple\n",
      "Collecting opencv-python\n",
      "  Using cached https://devops.bt.siemens.com/artifactory/api/pypi/pypi-all/packages/packages/a4/7d/f1c30a92854540bf789e9cd5dde7ef49bbe63f855b85a2e6b3db8135c591/opencv_python-4.11.0.86-cp37-abi3-win_amd64.whl (39.5 MB)\n",
      "Collecting numpy\n",
      "  Using cached https://devops.bt.siemens.com/artifactory/api/pypi/pypi-all/packages/packages/46/69/8c4f928741c2a8efa255fdc7e9097527c6dc4e4df147e3cadc5d9357ce85/numpy-2.2.4-cp312-cp312-win_amd64.whl (12.6 MB)\n",
      "Installing collected packages: numpy, opencv-python\n",
      "Successfully installed numpy-2.2.4 opencv-python-4.11.0.86\n",
      "Note: you may need to restart the kernel to use updated packages.\n"
     ]
    },
    {
     "name": "stderr",
     "output_type": "stream",
     "text": [
      "\n",
      "[notice] A new release of pip is available: 24.2 -> 25.0.1\n",
      "[notice] To update, run: python.exe -m pip install --upgrade pip\n"
     ]
    }
   ],
   "execution_count": 1
  },
  {
   "cell_type": "code",
   "id": "initial_id",
   "metadata": {
    "collapsed": true,
    "ExecuteTime": {
     "end_time": "2025-03-24T10:14:14.120910Z",
     "start_time": "2025-03-24T10:14:14.114013Z"
    }
   },
   "source": [
    "import math\n",
    "import numpy as np\n",
    "import cv2 as cv\n",
    "from pathlib import Path\n",
    "import random\n",
    "from itertools import cycle\n",
    "\n",
    "from jassair.utils import get_dataset_path, Datasets"
   ],
   "outputs": [],
   "execution_count": 14
  },
  {
   "metadata": {},
   "cell_type": "markdown",
   "source": "## Create background images",
   "id": "37f4e2861091dcb1"
  },
  {
   "metadata": {
    "ExecuteTime": {
     "end_time": "2025-03-24T10:14:14.649001Z",
     "start_time": "2025-03-24T10:14:14.633653Z"
    }
   },
   "cell_type": "code",
   "source": "dest_path = get_dataset_path(Datasets.BACKGROUNDS)",
   "id": "4c86e85ae6266008",
   "outputs": [],
   "execution_count": 15
  },
  {
   "metadata": {
    "ExecuteTime": {
     "end_time": "2025-03-24T10:14:15.056482Z",
     "start_time": "2025-03-24T10:14:15.049268Z"
    }
   },
   "cell_type": "code",
   "source": [
    "target_x = 640\n",
    "\n",
    "for i, image_path in enumerate(Path(\"data/raw_backgrounds\").glob(\"*.jpg\"), 1):\n",
    "    image = cv.imread(image_path)\n",
    "    \n",
    "    h, w = image.shape[:2]\n",
    "    h_2, w_2 = h // 2, w // 2\n",
    "    x = min(h, w)\n",
    "    x_2 = x // 2\n",
    "    \n",
    "    if x < target_x:\n",
    "        raise ValueError(f\"Image {image_path} is too small!, {image.shape[:2]}\")\n",
    "    \n",
    "    h_start = h_2 - x_2\n",
    "    h_stop = h_2 + x_2\n",
    "    w_start = w_2 - x_2\n",
    "    w_stop = w_2 + x_2        \n",
    "    \n",
    "    image = image[h_start:h_stop, w_start:w_stop]\n",
    "\n",
    "    image = cv.resize(image, (target_x, target_x))\n",
    "    cv.imwrite(f\"{dest_path}/background_{i}.png\", image) "
   ],
   "id": "a7bc297b95a28c86",
   "outputs": [],
   "execution_count": 16
  },
  {
   "metadata": {},
   "cell_type": "markdown",
   "source": "## Read images",
   "id": "1032abea6d427fa"
  },
  {
   "metadata": {
    "ExecuteTime": {
     "end_time": "2025-03-24T10:14:16.525576Z",
     "start_time": "2025-03-24T10:14:16.519324Z"
    }
   },
   "cell_type": "code",
   "source": "dataset_path = get_dataset_path(Datasets.SWISS)",
   "id": "b5b4c2b62685f157",
   "outputs": [],
   "execution_count": 17
  },
  {
   "metadata": {
    "ExecuteTime": {
     "end_time": "2025-03-24T10:14:16.834474Z",
     "start_time": "2025-03-24T10:14:16.827615Z"
    }
   },
   "cell_type": "code",
   "source": "FOREGROUND_IMAGES: list[tuple[np.ndarray, int]] = []",
   "id": "b5c8d31de965b899",
   "outputs": [],
   "execution_count": 18
  },
  {
   "metadata": {
    "ExecuteTime": {
     "end_time": "2025-03-24T10:14:17.255220Z",
     "start_time": "2025-03-24T10:14:17.177771Z"
    }
   },
   "cell_type": "code",
   "source": [
    "for image_path in (dataset_path / \"test\" / \"images\").glob(\"*.jpg\"):\n",
    "    image = cv.imread(image_path)\n",
    "    label_path = dataset_path / \"test\" / \"labels\" / f\"{image_path.stem}.txt\"\n",
    "    with label_path.open(\"r\", encoding=\"utf-8\") as f:\n",
    "        label = int(f.readline().split()[0])\n",
    "    \n",
    "    FOREGROUND_IMAGES.append((image, label))"
   ],
   "id": "68f8507962614df4",
   "outputs": [],
   "execution_count": 19
  },
  {
   "metadata": {
    "ExecuteTime": {
     "end_time": "2025-03-24T10:14:17.681367Z",
     "start_time": "2025-03-24T10:14:17.649477Z"
    }
   },
   "cell_type": "code",
   "source": "BACKGROUND_IMAGES : list[np.ndarray] = []",
   "id": "c2b3e81ef7940b17",
   "outputs": [],
   "execution_count": 20
  },
  {
   "metadata": {
    "ExecuteTime": {
     "end_time": "2025-03-24T10:14:21.767731Z",
     "start_time": "2025-03-24T10:14:18.070014Z"
    }
   },
   "cell_type": "code",
   "source": [
    "for image_path in get_dataset_path(Datasets.BACKGROUNDS).glob(\"*.png\"):\n",
    "    BACKGROUND_IMAGES.append(cv.imread(image_path))"
   ],
   "id": "1daf11993f47598d",
   "outputs": [],
   "execution_count": 21
  },
  {
   "metadata": {},
   "cell_type": "markdown",
   "source": "## YOLO Dataset description",
   "id": "f2e3ea94fb61c765"
  },
  {
   "metadata": {
    "ExecuteTime": {
     "end_time": "2025-03-24T11:19:00.821209Z",
     "start_time": "2025-03-24T11:19:00.815380Z"
    }
   },
   "cell_type": "code",
   "source": [
    "DESCRIPTION = \"\"\"train: ./train/images\n",
    "val: ./valid/images\n",
    "test: ./test/images\n",
    "\n",
    "nc: 36\n",
    "names: ['Eichel 10', 'Eichel 6', 'Eichel 7', 'Eichel 8', 'Eichel 9', 'Eichel Ass', 'Eichel Konig', 'Eichel Ober', 'Eichel Under', 'Rose 10', 'Rose 6', 'Rose 7', 'Rose 8', 'Rose 9', 'Rose Ass', 'Rose Konig', 'Rose Ober', 'Rose Under', 'Schelle 10', 'Schelle 6', 'Schelle 7', 'Schelle 8', 'Schelle 9', 'Schelle Ass', 'Schelle Konig', 'Schelle Ober', 'Schelle Under', 'Schilte 10', 'Schilte 6', 'Schilte 7', 'Schilte 8', 'Schilte 9', 'Schilte Ass', 'Schilte Konig', 'Schilte Ober', 'Schilte Under']\n",
    "\"\"\""
   ],
   "id": "2ace2e634393b2b1",
   "outputs": [],
   "execution_count": 181
  },
  {
   "metadata": {},
   "cell_type": "markdown",
   "source": "## Create synthetic images",
   "id": "7d3478bcae6262a2"
  },
  {
   "metadata": {
    "ExecuteTime": {
     "end_time": "2025-03-24T11:19:01.136280Z",
     "start_time": "2025-03-24T11:19:01.131536Z"
    }
   },
   "cell_type": "code",
   "source": [
    "def rotate_image(fg, angle):\n",
    "    \"\"\"Rotates the image without cropping any part of it.\"\"\"\n",
    "    h, w = fg.shape[:2]\n",
    "    center = (w // 2, h // 2)\n",
    "\n",
    "    # Compute the bounding box of the rotated image\n",
    "    rot_matrix = cv.getRotationMatrix2D(center, angle, 1.0)\n",
    "    cos = np.abs(rot_matrix[0, 0])\n",
    "    sin = np.abs(rot_matrix[0, 1])\n",
    "\n",
    "    # Compute new bounding box dimensions\n",
    "    new_w = int((h * sin) + (w * cos))\n",
    "    new_h = int((h * cos) + (w * sin))\n",
    "\n",
    "    # Adjust the rotation matrix to consider the new image size\n",
    "    rot_matrix[0, 2] += (new_w / 2) - center[0]\n",
    "    rot_matrix[1, 2] += (new_h / 2) - center[1]\n",
    "\n",
    "    # Perform rotation\n",
    "    rotated_fg = cv.warpAffine(fg, rot_matrix, (new_w, new_h), borderMode=cv.BORDER_CONSTANT, borderValue=(0, 0, 0, 0))\n",
    "    \n",
    "    return rotated_fg"
   ],
   "id": "e4ca925e55a92a72",
   "outputs": [],
   "execution_count": 182
  },
  {
   "metadata": {
    "ExecuteTime": {
     "end_time": "2025-03-24T11:19:01.301989Z",
     "start_time": "2025-03-24T11:19:01.289244Z"
    }
   },
   "cell_type": "code",
   "source": [
    "def calculate_overlap_percentage(x1, y1, w1, h1, x2, y2, w2, h2):\n",
    "    intersection_width = max(0, min(x1 + w1, x2 + w2) - max(x1, x2))\n",
    "    intersection_height = max(0, min(y1 + h1, y2 + h2) - max(y1, y2))\n",
    "    intersection_area = intersection_width * intersection_height\n",
    "\n",
    "    union_area = w1 * h1 + w2 * h2 - intersection_area\n",
    "\n",
    "    overlap_percentage = intersection_area / union_area\n",
    "    return overlap_percentage"
   ],
   "id": "22f2cb728a8ba47",
   "outputs": [],
   "execution_count": 183
  },
  {
   "metadata": {
    "ExecuteTime": {
     "end_time": "2025-03-24T11:19:01.445539Z",
     "start_time": "2025-03-24T11:19:01.437995Z"
    }
   },
   "cell_type": "code",
   "source": [
    "def check_overlap(x, y, image, placed_images, overlap_threshold: float):\n",
    "    for (p_x, p_y), img in placed_images:\n",
    "        r1, c1 = image.shape[:2]\n",
    "        r2, c2 = img.shape[:2]\n",
    "        if calculate_overlap_percentage(x, y, c1, r1, p_x, p_y, c2, r2) > overlap_threshold:\n",
    "            return True\n",
    "    return False"
   ],
   "id": "8fa2605cd7be3df4",
   "outputs": [],
   "execution_count": 184
  },
  {
   "metadata": {
    "ExecuteTime": {
     "end_time": "2025-03-24T11:19:01.605801Z",
     "start_time": "2025-03-24T11:19:01.594793Z"
    }
   },
   "cell_type": "code",
   "source": [
    "def get_card_positions(bg_height, bg_width, cards, overlap_threshold: float):\n",
    "    placed_images = []\n",
    "\n",
    "    for card in cards:\n",
    "        for i in range(10):\n",
    "            x, y = np.random.randint(0, bg_width - card.shape[1]), np.random.randint(0, bg_height - card.shape[0])\n",
    "            if not check_overlap(x, y, card, placed_images, overlap_threshold):\n",
    "                break\n",
    "        else:\n",
    "            return None\n",
    "        placed_images.append(((x, y), card))\n",
    "    return [coords for coords, _ in placed_images]"
   ],
   "id": "97fac8aa8d1dd95d",
   "outputs": [],
   "execution_count": 185
  },
  {
   "metadata": {
    "ExecuteTime": {
     "end_time": "2025-03-24T11:19:01.769401Z",
     "start_time": "2025-03-24T11:19:01.757148Z"
    }
   },
   "cell_type": "code",
   "source": [
    "def overlay_image(bg: np.ndarray, cards: list[np.ndarray], scale: float, angles: list[float], overlap_threshold: float):\n",
    "    \"\"\"\n",
    "    Overlays a foreground object on a background at a given position, scale, and rotation.\n",
    "    \"\"\"\n",
    "    # Resize foreground image\n",
    "    cards = [rotate_image(card, angle) for card, angle in zip(cards, angles)]\n",
    "    h_bg, w_bg = bg.shape[:2]\n",
    "    \n",
    "    max_card = max(cards, key=lambda x: sum(x.shape[:2]))\n",
    "    h_max, w_max = max_card.shape[:2]\n",
    "    ratio = min(h_bg / h_max, w_bg / w_max)\n",
    "    shapes = [(int(card.shape[0] * ratio * scale), int(card.shape[1] * ratio * scale)) for card in cards]\n",
    "    cards = [cv.resize(card, (shape[1], shape[0])) for card, shape in zip(cards, shapes)]\n",
    "    while True:\n",
    "        if positions := get_card_positions(h_bg, w_bg, cards, overlap_threshold):\n",
    "            break\n",
    "    \n",
    "    boxes = []\n",
    "    for card, (x, y), (new_h, new_w) in zip(cards, positions, shapes):\n",
    "        roi = bg[y:y+new_h, x:x+new_w]\n",
    "    \n",
    "        # Create mask where fg is non-black (i.e., has content)\n",
    "        mask = np.any(card > 0, axis=-1).astype(np.uint8) * 255  # Threshold to ignore black areas\n",
    "    \n",
    "        # Convert mask to 3 channels\n",
    "        mask_inv = cv.bitwise_not(mask)\n",
    "        mask_3ch = cv.merge((mask, mask, mask)) / 255.0\n",
    "        mask_inv_3ch = cv.merge((mask_inv, mask_inv, mask_inv)) / 255.0\n",
    "    \n",
    "        # Blend images using mask\n",
    "        fg_part = (card * mask_3ch).astype(np.uint8)\n",
    "        bg_part = (roi * mask_inv_3ch).astype(np.uint8)\n",
    "        blended = cv.add(bg_part, fg_part)\n",
    "    \n",
    "        # Place blended region back onto background\n",
    "        bg[y:y+new_h, x:x+new_w] = blended\n",
    "        boxes.append(f\"{(x + new_w / 2) / w_bg} {(y + new_h / 2) / h_bg} {new_w / w_bg} {new_h / h_bg}\")\n",
    "\n",
    "    return bg, boxes"
   ],
   "id": "36b7c3c1cc872625",
   "outputs": [],
   "execution_count": 186
  },
  {
   "metadata": {
    "ExecuteTime": {
     "end_time": "2025-03-24T11:19:01.927791Z",
     "start_time": "2025-03-24T11:19:01.914043Z"
    }
   },
   "cell_type": "code",
   "source": [
    "def create_synthetic_images(num_images: int, image_dest: Path, label_dest: Path, set_name: str, cards_per_image: tuple[int, int], overlap_threshold: float):\n",
    "    images = iter(())\n",
    "    for i in range(num_images):\n",
    "        if not i % 128:\n",
    "            random.shuffle(FOREGROUND_IMAGES)\n",
    "            images = cycle(FOREGROUND_IMAGES)\n",
    "        \n",
    "        bg = random.choice(BACKGROUND_IMAGES).copy()\n",
    "        \n",
    "        num_cards = random.randint(*cards_per_image)\n",
    "        cards = [next(images) for _ in range(num_cards)]\n",
    "        angles = [random.gauss(0, 45.0) for _ in range(num_cards)]\n",
    "        labels = [card[1] for card in cards]\n",
    "        cards = [card[0].copy() for card in cards]\n",
    "        scale = random.uniform(0.6 / max(1.0, math.log2(num_cards * (2 - overlap_threshold))), 1.0 / max(1.0, math.log2(num_cards * (2 - overlap_threshold))))\n",
    "    \n",
    "        # Overlay object onto background\n",
    "        synthetic_image, boxes = overlay_image(bg, cards, scale, angles, overlap_threshold)\n",
    "    \n",
    "        # Save image\n",
    "        cv.imwrite(f\"{image_dest}/{set_name}_{i}.png\", synthetic_image)\n",
    "        with (label_dest / f\"{set_name}_{i}.txt\").open(\"w+\", encoding=\"utf-8\") as f:\n",
    "            for label, box in zip(labels, boxes):\n",
    "                f.write(f\"{label} {box}\\n\")"
   ],
   "id": "9ec382e0ac6d3442",
   "outputs": [],
   "execution_count": 187
  },
  {
   "metadata": {
    "ExecuteTime": {
     "end_time": "2025-03-24T11:21:54.786610Z",
     "start_time": "2025-03-24T11:21:54.778254Z"
    }
   },
   "cell_type": "code",
   "source": [
    "def create_synthetic_dataset(dataset_dest: Path, num_train: int, num_val: int, num_test: int, cards_per_image: tuple[int, int], max_overlap: float):\n",
    "    # Create training data\n",
    "    image_target = dataset_dest / \"train\" / \"images\"\n",
    "    image_target.mkdir(parents=True, exist_ok=True)\n",
    "    label_target = dataset_dest / \"train\" / \"labels\"\n",
    "    label_target.mkdir(parents=True, exist_ok=True)\n",
    "    create_synthetic_images(num_train, image_target, label_target, \"train\", cards_per_image, max_overlap)\n",
    "    \n",
    "    # Create validation data\n",
    "    image_target = dataset_dest / \"valid\" / \"images\"\n",
    "    image_target.mkdir(parents=True, exist_ok=True)\n",
    "    label_target = dataset_dest / \"valid\" / \"labels\"\n",
    "    label_target.mkdir(parents=True, exist_ok=True)\n",
    "    create_synthetic_images(num_val, image_target, label_target, \"valid\", cards_per_image, max_overlap)\n",
    "    \n",
    "    # Create test data\n",
    "    image_target = dataset_dest / \"test\" / \"images\"\n",
    "    image_target.mkdir(parents=True, exist_ok=True)\n",
    "    label_target = dataset_dest / \"test\" / \"labels\"\n",
    "    label_target.mkdir(parents=True, exist_ok=True)\n",
    "    create_synthetic_images(num_test, image_target, label_target, \"test\", cards_per_image, max_overlap)\n",
    "    \n",
    "    # Write data.yaml\n",
    "    with (dataset_dest / \"data.yaml\").open(\"w+\", encoding=\"utf-8\") as f:\n",
    "        f.write(DESCRIPTION)\n",
    "        "
   ],
   "id": "623b933d5b0524de",
   "outputs": [],
   "execution_count": 197
  },
  {
   "metadata": {
    "ExecuteTime": {
     "end_time": "2025-03-24T11:21:55.040758Z",
     "start_time": "2025-03-24T11:21:55.024073Z"
    }
   },
   "cell_type": "code",
   "source": [
    "num_train = 100\n",
    "num_valid = 10\n",
    "num_test = 10\n",
    "overlap = 0.0\n",
    "cards_per_image = (1, 1)"
   ],
   "id": "f93266ad26862481",
   "outputs": [],
   "execution_count": 198
  },
  {
   "metadata": {
    "ExecuteTime": {
     "end_time": "2025-03-24T11:21:58.440773Z",
     "start_time": "2025-03-24T11:21:55.762228Z"
    }
   },
   "cell_type": "code",
   "source": [
    "random.seed(42)\n",
    "create_synthetic_dataset(get_dataset_path(Datasets.SYNTHETIC_SINGLE), num_train, num_valid, num_test, cards_per_image, overlap)\n",
    "\n",
    "print(\"Synthetic dataset created successfully!\")"
   ],
   "id": "19d9a1f38a7d239b",
   "outputs": [
    {
     "name": "stdout",
     "output_type": "stream",
     "text": [
      "Synthetic dataset created successfully!\n"
     ]
    }
   ],
   "execution_count": 199
  },
  {
   "metadata": {
    "ExecuteTime": {
     "end_time": "2025-03-24T09:28:40.599265Z",
     "start_time": "2025-03-24T09:28:40.594662Z"
    }
   },
   "cell_type": "code",
   "source": "",
   "id": "baa61767a8556faa",
   "outputs": [],
   "execution_count": null
  }
 ],
 "metadata": {
  "kernelspec": {
   "display_name": "Python 3",
   "language": "python",
   "name": "python3"
  },
  "language_info": {
   "codemirror_mode": {
    "name": "ipython",
    "version": 2
   },
   "file_extension": ".py",
   "mimetype": "text/x-python",
   "name": "python",
   "nbconvert_exporter": "python",
   "pygments_lexer": "ipython2",
   "version": "2.7.6"
  }
 },
 "nbformat": 4,
 "nbformat_minor": 5
}
