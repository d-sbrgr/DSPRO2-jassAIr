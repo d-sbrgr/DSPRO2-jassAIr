{
 "cells": [
  {
   "cell_type": "markdown",
   "id": "2ff44a82642f85f8",
   "metadata": {},
   "source": [
    "Create dataset from swiss card images"
   ]
  },
  {
   "cell_type": "code",
   "id": "initial_id",
   "metadata": {
    "ExecuteTime": {
     "end_time": "2025-04-14T16:58:15.948332Z",
     "start_time": "2025-04-14T16:58:14.153160Z"
    }
   },
   "source": [
    "import math\n",
    "import numpy as np\n",
    "import cv2 as cv\n",
    "from pathlib import Path\n",
    "import random\n",
    "from itertools import cycle\n",
    "\n",
    "from jassair.synthetic_data.image_augmentation import Augmentation\n",
    "from jassair.utils import get_dataset_path, Datasets, get_class_for_name, CardClass\n",
    "from jassair.synthetic_data import rotate_image, add_drop_shadow, augment_image, Vignette, LightSpots, RotateMult90, \\\n",
    "    LightingGradient, ColorJitter, NoiseNormal, GaussianBlur, PerspectiveWarp, WhiteBalanceShift, SynthConfig"
   ],
   "outputs": [],
   "execution_count": 1
  },
  {
   "cell_type": "markdown",
   "id": "37f4e2861091dcb1",
   "metadata": {},
   "source": [
    "## Create background images"
   ]
  },
  {
   "cell_type": "code",
   "id": "4c86e85ae6266008",
   "metadata": {
    "ExecuteTime": {
     "end_time": "2025-04-14T16:58:15.979151Z",
     "start_time": "2025-04-14T16:58:15.970973Z"
    }
   },
   "source": "dest_path = get_dataset_path(Datasets.BACKGROUNDS)",
   "outputs": [],
   "execution_count": 2
  },
  {
   "cell_type": "code",
   "id": "a7bc297b95a28c86",
   "metadata": {
    "ExecuteTime": {
     "end_time": "2025-04-14T16:58:15.997313Z",
     "start_time": "2025-04-14T16:58:15.988792Z"
    }
   },
   "source": [
    "transform_backgrounds = False\n",
    "\n",
    "target_x = 640\n",
    "\n",
    "source_path = Path(\"data/raw_backgrounds\")\n",
    "\n",
    "if transform_backgrounds:\n",
    "    for i, image_path in enumerate(source_path.glob(\"*\"), 1):\n",
    "        image = cv.imread(image_path)\n",
    "\n",
    "        h, w = image.shape[:2]\n",
    "        h_2, w_2 = h // 2, w // 2\n",
    "        x = min(h, w)\n",
    "        x_2 = x // 2\n",
    "\n",
    "        if x < target_x:\n",
    "            raise ValueError(f\"Image {image_path} is too small!, {image.shape[:2]}\")\n",
    "\n",
    "        h_start = h_2 - x_2\n",
    "        h_stop = h_2 + x_2\n",
    "        w_start = w_2 - x_2\n",
    "        w_stop = w_2 + x_2\n",
    "\n",
    "        image = image[h_start:h_stop, w_start:w_stop]\n",
    "\n",
    "        image = cv.resize(image, (target_x, target_x))\n",
    "        cv.imwrite(f\"{dest_path}/background_{i}.png\", image)"
   ],
   "outputs": [],
   "execution_count": 3
  },
  {
   "metadata": {
    "ExecuteTime": {
     "end_time": "2025-04-14T16:58:16.012019Z",
     "start_time": "2025-04-14T16:58:16.004535Z"
    }
   },
   "cell_type": "code",
   "source": [
    "def create_single_color_background(color: str, height: int = 640, width: int = 640):\n",
    "    r = int(color[:2], base=16)\n",
    "    g = int(color[2:4], base=16)\n",
    "    b = int(color[4:], base=16)\n",
    "\n",
    "    img = np.zeros((height, width, 3), np.uint8)\n",
    "    img[:] = (b, g, r)\n",
    "    return img"
   ],
   "id": "b1bd51a160bb5965",
   "outputs": [],
   "execution_count": 4
  },
  {
   "cell_type": "markdown",
   "id": "1032abea6d427fa",
   "metadata": {},
   "source": [
    "## Read images"
   ]
  },
  {
   "cell_type": "code",
   "id": "b5b4c2b62685f157",
   "metadata": {
    "ExecuteTime": {
     "end_time": "2025-04-14T16:58:16.026010Z",
     "start_time": "2025-04-14T16:58:16.020788Z"
    }
   },
   "source": "dataset_path = get_dataset_path(Datasets.CARD_TEMPLATE)",
   "outputs": [],
   "execution_count": 5
  },
  {
   "cell_type": "code",
   "id": "b5c8d31de965b899",
   "metadata": {
    "ExecuteTime": {
     "end_time": "2025-04-14T16:58:16.846541Z",
     "start_time": "2025-04-14T16:58:16.840270Z"
    }
   },
   "source": [
    "FOREGROUND_IMAGES: list[tuple[np.ndarray, int]] = []"
   ],
   "outputs": [],
   "execution_count": 6
  },
  {
   "cell_type": "code",
   "id": "68f8507962614df4",
   "metadata": {
    "ExecuteTime": {
     "end_time": "2025-04-14T16:58:18.774670Z",
     "start_time": "2025-04-14T16:58:16.967494Z"
    }
   },
   "source": [
    "for image_path in dataset_path.glob(\"*\"):\n",
    "    image = cv.imread(image_path, cv.IMREAD_UNCHANGED)\n",
    "    label = int(get_class_for_name(image_path.stem))\n",
    "\n",
    "    FOREGROUND_IMAGES.append((image, label))\n",
    "print(len(FOREGROUND_IMAGES))"
   ],
   "outputs": [
    {
     "name": "stdout",
     "output_type": "stream",
     "text": [
      "36\n"
     ]
    }
   ],
   "execution_count": 7
  },
  {
   "cell_type": "code",
   "id": "c2b3e81ef7940b17",
   "metadata": {
    "ExecuteTime": {
     "end_time": "2025-04-14T16:58:18.814083Z",
     "start_time": "2025-04-14T16:58:18.807974Z"
    }
   },
   "source": "BACKGROUND_IMAGES: list[np.ndarray] = []",
   "outputs": [],
   "execution_count": 8
  },
  {
   "cell_type": "code",
   "id": "1daf11993f47598d",
   "metadata": {
    "ExecuteTime": {
     "end_time": "2025-04-14T16:58:21.096723Z",
     "start_time": "2025-04-14T16:58:18.895409Z"
    }
   },
   "source": [
    "for image_path in get_dataset_path(Datasets.BACKGROUNDS).glob(\"*\"):\n",
    "    BACKGROUND_IMAGES.append(cv.imread(image_path))\n",
    "print(len(BACKGROUND_IMAGES))"
   ],
   "outputs": [
    {
     "name": "stdout",
     "output_type": "stream",
     "text": [
      "99\n"
     ]
    }
   ],
   "execution_count": 9
  },
  {
   "cell_type": "markdown",
   "id": "f2e3ea94fb61c765",
   "metadata": {},
   "source": [
    "## YOLO Dataset description"
   ]
  },
  {
   "cell_type": "code",
   "id": "2ace2e634393b2b1",
   "metadata": {
    "ExecuteTime": {
     "end_time": "2025-04-14T16:58:21.173799Z",
     "start_time": "2025-04-14T16:58:21.163052Z"
    }
   },
   "source": [
    "def create_dataset_description(classes: int, labels: list[str]):\n",
    "    return (f\"train: ./train/images\\n\"\n",
    "            f\"val: ./valid/images\\n\"\n",
    "            f\"test: ./test/images\\n\\n\"\n",
    "            f\"nc: {classes}\\n\"\n",
    "            f\"names: {labels}\\n\")"
   ],
   "outputs": [],
   "execution_count": 10
  },
  {
   "cell_type": "markdown",
   "id": "7d3478bcae6262a2",
   "metadata": {},
   "source": [
    "## Create synthetic images"
   ]
  },
  {
   "metadata": {
    "ExecuteTime": {
     "end_time": "2025-04-14T16:58:21.240216Z",
     "start_time": "2025-04-14T16:58:21.232025Z"
    }
   },
   "cell_type": "code",
   "source": "class PlacementError(Exception): ...",
   "id": "d87ecafa89ab152b",
   "outputs": [],
   "execution_count": 11
  },
  {
   "cell_type": "code",
   "id": "36b7c3c1cc872625",
   "metadata": {
    "ExecuteTime": {
     "end_time": "2025-04-14T16:58:21.283632Z",
     "start_time": "2025-04-14T16:58:21.271871Z"
    }
   },
   "source": [
    "def iou(box1, box2):\n",
    "    x1, y1, x2, y2 = box1\n",
    "    x1b, y1b, x2b, y2b = box2\n",
    "    xi1, yi1 = max(x1, x1b), max(y1, y1b)\n",
    "    xi2, yi2 = min(x2, x2b), min(y2, y2b)\n",
    "    inter_area = max(0, xi2 - xi1) * max(0, yi2 - yi1)\n",
    "    box1_area = (x2 - x1) * (y2 - y1)\n",
    "    box2_area = (x2b - x1b) * (y2b - y1b)\n",
    "    union_area = box1_area + box2_area - inter_area\n",
    "    return inter_area / union_area if union_area else 0"
   ],
   "outputs": [],
   "execution_count": 12
  },
  {
   "cell_type": "code",
   "id": "109897711e0b824d",
   "metadata": {
    "ExecuteTime": {
     "end_time": "2025-04-14T16:58:21.379787Z",
     "start_time": "2025-04-14T16:58:21.351028Z"
    }
   },
   "source": [
    "def generate_synthetic_card_scene(\n",
    "        bg: np.ndarray,\n",
    "        card_images: list[np.ndarray],\n",
    "        angles: list[float],\n",
    "        scale: float = 0.7,\n",
    "        iou_threshold: float = 0.1,\n",
    "        augment_bg: list[Augmentation] = (),\n",
    "        augment_final: list[Augmentation] = (),\n",
    ") -> tuple[np.ndarray, list[str]]:\n",
    "    \"\"\"\n",
    "    Generates a realistic card scene on a background.\n",
    "    Returns final image and YOLO-format annotations.\n",
    "    \"\"\"\n",
    "    shadow_size = 30\n",
    "    \n",
    "    if augment_bg:\n",
    "        bg = augment_image(bg, augment_bg)\n",
    "    h_bg, w_bg = bg.shape[:2]\n",
    "\n",
    "    rotated = [rotate_image(img, angle) for img, angle in zip(card_images, angles)]\n",
    "    max_card = max(rotated, key=lambda x: sum(x.shape[:2]))\n",
    "    h_max, w_max = max_card.shape[:2]\n",
    "    ratio = min(h_bg / h_max, w_bg / w_max)\n",
    "\n",
    "    processed_cards = []\n",
    "    for img in rotated:\n",
    "        r = ratio * scale\n",
    "        o_h, o_w = img.shape[:2]\n",
    "        shadowed = add_drop_shadow(img, (shadow_size, shadow_size), 15, 0.8)\n",
    "        h, w = shadowed.shape[:2]\n",
    "        h = int(h * r)\n",
    "        w = int(w * r)\n",
    "        processed_cards.append((cv.resize(shadowed, (w, h)), (int(o_h * r), int(o_w * r))))\n",
    "\n",
    "    boxes = []\n",
    "    placed = []\n",
    "    for (card, (new_h, new_w)), angle in zip(processed_cards, angles):\n",
    "        h_card, w_card = card.shape[:2]\n",
    "        MAX_ATTEMPTS = 15\n",
    "        for _ in range(MAX_ATTEMPTS):\n",
    "            x = np.random.randint(0, w_bg - w_card)\n",
    "            y = np.random.randint(0, h_bg - h_card)\n",
    "\n",
    "            # Check for overlap\n",
    "            bbox = (x, y, x + w_card, y + h_card)\n",
    "            if all(iou(bbox, existing) < iou_threshold for existing in placed):\n",
    "                placed.append(bbox)\n",
    "                break\n",
    "        else:\n",
    "            raise PlacementError(\"Unable to place card without overlap\")\n",
    "\n",
    "        roi = bg[y:y + h_card, x:x + w_card]\n",
    "        alpha = card[:, :, 3] / 255\n",
    "        alpha_3ch = np.dstack([alpha] * 3)\n",
    "        card_rgb = card[:, :, :3]\n",
    "        blended = (roi * (1 - alpha_3ch) + card_rgb * alpha_3ch)\n",
    "        bg[y:y + h_card, x:x + w_card] = blended\n",
    "\n",
    "        # YOLO box\n",
    "        h_diff = h_card - new_h\n",
    "        w_diff = w_card - new_w\n",
    "        f = 1 - (abs(45 - (angle % 90)) / 45)\n",
    "        \n",
    "        cx = (x + (w_diff / 2) + (new_w / 2)) / w_bg\n",
    "        cy = (y + (h_diff / 2) + (new_h / 2)) / h_bg\n",
    "        bw = (new_w - w_diff * f) / w_bg\n",
    "        bh = (new_h - h_diff * f) / h_bg\n",
    "        boxes.append(f\"{cx} {cy} {bw} {bh}\")\n",
    "\n",
    "    if augment_final:\n",
    "        bg = augment_image(bg, augment_final)\n",
    "    return bg, boxes"
   ],
   "outputs": [],
   "execution_count": 13
  },
  {
   "cell_type": "code",
   "id": "9ec382e0ac6d3442",
   "metadata": {
    "ExecuteTime": {
     "end_time": "2025-04-14T17:01:44.241592Z",
     "start_time": "2025-04-14T17:01:44.223670Z"
    }
   },
   "source": [
    "def create_synthetic_images(\n",
    "        images: list[np.ndarray],\n",
    "        backgrounds: list[np.ndarray],\n",
    "        num_images: int,\n",
    "        image_dest: Path,\n",
    "        label_dest: Path,\n",
    "        set_name: str,\n",
    "        config: SynthConfig\n",
    "):\n",
    "    imgs = iter(())\n",
    "    i = 0\n",
    "    while i < num_images:\n",
    "        if not i % 128:\n",
    "            random.shuffle(images)\n",
    "            imgs = cycle(images)\n",
    "\n",
    "        bg = random.choice(backgrounds).copy()\n",
    "\n",
    "        num_cards = random.randint(config.min_cards_per_image, config.max_cards_per_image)\n",
    "        cards = [next(imgs) for _ in range(num_cards)]\n",
    "        angles = [random.gauss(0, 45.0) for _ in range(num_cards)]\n",
    "        labels = [card[1] for card in cards]\n",
    "        cards = [card[0].copy() for card in cards]\n",
    "        scale = random.uniform(0.5 / max(1.0, math.log2(num_cards * (2 - config.max_overlap))),\n",
    "                               0.8 / max(1.0, math.log2(num_cards * (2 - config.max_overlap))))\n",
    "        scale *= (1 + 0.5 * math.log10(num_cards))\n",
    "\n",
    "        # Overlay object onto background\n",
    "        try:\n",
    "            synthetic_image, boxes = generate_synthetic_card_scene(\n",
    "                bg,\n",
    "                cards,\n",
    "                angles,\n",
    "                scale,\n",
    "                config.max_overlap,\n",
    "                config.augment_background,\n",
    "                config.augment_final\n",
    "            )\n",
    "        except PlacementError:\n",
    "            continue\n",
    "\n",
    "        # Save image\n",
    "        cv.imwrite(f\"{image_dest}/{set_name}_{i}.png\", synthetic_image)\n",
    "        with (label_dest / f\"{set_name}_{i}.txt\").open(\"w+\", encoding=\"utf-8\") as f:\n",
    "            for label, box in zip(labels, boxes):\n",
    "                f.write(f\"{label} {box}\\n\")\n",
    "                \n",
    "        i += 1"
   ],
   "outputs": [],
   "execution_count": 18
  },
  {
   "cell_type": "code",
   "id": "623b933d5b0524de",
   "metadata": {
    "ExecuteTime": {
     "end_time": "2025-04-14T17:01:44.408991Z",
     "start_time": "2025-04-14T17:01:44.397261Z"
    }
   },
   "source": [
    "def create_synthetic_dataset(\n",
    "        dataset_dest: Path,\n",
    "        config: SynthConfig\n",
    "):\n",
    "    if config.classes:\n",
    "        images = [(i, l) for i, l in FOREGROUND_IMAGES if l in config.classes]\n",
    "        labels = [CardClass(l).name.replace(\"_\", \" \").lower() for _, l in sorted(images, key=lambda x: x[1])]\n",
    "        images = [(i, l) for l, (i, _) in enumerate(images)]\n",
    "    else:\n",
    "        images = FOREGROUND_IMAGES\n",
    "        labels = [CardClass(l).name.replace(\"_\", \" \").lower() for _, l in sorted(images, key=lambda x: x[1])]\n",
    "\n",
    "    if config.backgrounds:\n",
    "        backgrounds = [create_single_color_background(color) for color in config.backgrounds]\n",
    "    else:\n",
    "        backgrounds = BACKGROUND_IMAGES\n",
    "\n",
    "    # Create training data\n",
    "    image_target = dataset_dest / \"train\" / \"images\"\n",
    "    image_target.mkdir(parents=True, exist_ok=True)\n",
    "    label_target = dataset_dest / \"train\" / \"labels\"\n",
    "    label_target.mkdir(parents=True, exist_ok=True)\n",
    "    create_synthetic_images(images, backgrounds, config.num_train, image_target, label_target, \"train\", config)\n",
    "\n",
    "    # Create validation data\n",
    "    image_target = dataset_dest / \"valid\" / \"images\"\n",
    "    image_target.mkdir(parents=True, exist_ok=True)\n",
    "    label_target = dataset_dest / \"valid\" / \"labels\"\n",
    "    label_target.mkdir(parents=True, exist_ok=True)\n",
    "    create_synthetic_images(images, backgrounds, config.num_valid, image_target, label_target, \"valid\", config)\n",
    "\n",
    "    # Create test data\n",
    "    image_target = dataset_dest / \"test\" / \"images\"\n",
    "    image_target.mkdir(parents=True, exist_ok=True)\n",
    "    label_target = dataset_dest / \"test\" / \"labels\"\n",
    "    label_target.mkdir(parents=True, exist_ok=True)\n",
    "    create_synthetic_images(images, backgrounds, config.num_test, image_target, label_target, \"test\", config)\n",
    "\n",
    "    # Write data.yaml\n",
    "    with (dataset_dest / \"data.yaml\").open(\"w+\", encoding=\"utf-8\") as f:\n",
    "        f.write(create_dataset_description(len(config.classes), labels))\n"
   ],
   "outputs": [],
   "execution_count": 19
  },
  {
   "cell_type": "code",
   "id": "f93266ad26862481",
   "metadata": {
    "ExecuteTime": {
     "end_time": "2025-04-14T17:02:23.310248Z",
     "start_time": "2025-04-14T17:02:23.298294Z"
    }
   },
   "source": [
    "# Target Dataset\n",
    "target = Datasets.S_1TO9_36C_NOVLP\n",
    "\n",
    "# Base configurations\n",
    "config = SynthConfig()\n",
    "config.num_train = 3600\n",
    "config.num_valid = 360\n",
    "config.num_test = 360\n",
    "config.max_overlap = 0.1\n",
    "config.min_cards_per_image = 1\n",
    "config.max_cards_per_image = 9\n",
    "\n",
    "# Augmentation configuration\n",
    "config.augment_background = [\n",
    "    RotateMult90(),\n",
    "    # ColorJitter(hue=0.1)\n",
    "]\n",
    "\n",
    "config.augment_final = [\n",
    "    # ColorJitter(0.3, 0.3, 0.2, 0.1),\n",
    "    # LightingGradient(0.7),\n",
    "    # LightSpots(),\n",
    "    # Vignette(0.3)\n",
    "]\n",
    "\n",
    "# Classes and background configurations\n",
    "config.classes = []\n",
    "\n",
    "config.backgrounds = []"
   ],
   "outputs": [],
   "execution_count": 22
  },
  {
   "cell_type": "code",
   "id": "19d9a1f38a7d239b",
   "metadata": {
    "ExecuteTime": {
     "end_time": "2025-04-14T17:02:30.011663Z",
     "start_time": "2025-04-14T17:02:23.463482Z"
    }
   },
   "source": [
    "random.seed(42)\n",
    "create_synthetic_dataset(get_dataset_path(target), config)\n",
    "\n",
    "print(\"Synthetic dataset created successfully!\")"
   ],
   "outputs": [
    {
     "name": "stdout",
     "output_type": "stream",
     "text": [
      "Synthetic dataset created successfully!\n"
     ]
    }
   ],
   "execution_count": 23
  },
  {
   "metadata": {
    "ExecuteTime": {
     "end_time": "2025-04-14T16:58:27.063658Z",
     "start_time": "2025-04-14T16:58:27.054584Z"
    }
   },
   "cell_type": "code",
   "source": "",
   "id": "af2177049baaf4c5",
   "outputs": [],
   "execution_count": null
  }
 ],
 "metadata": {
  "kernelspec": {
   "display_name": "Python 3 (ipykernel)",
   "language": "python",
   "name": "python3"
  },
  "language_info": {
   "codemirror_mode": {
    "name": "ipython",
    "version": 3
   },
   "file_extension": ".py",
   "mimetype": "text/x-python",
   "name": "python",
   "nbconvert_exporter": "python",
   "pygments_lexer": "ipython3",
   "version": "3.12.9"
  }
 },
 "nbformat": 4,
 "nbformat_minor": 5
}
