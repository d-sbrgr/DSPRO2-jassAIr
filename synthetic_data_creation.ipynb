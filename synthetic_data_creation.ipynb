{
 "cells": [
  {
   "cell_type": "code",
   "id": "b48e84b8-4f5e-42ec-ab90-17e9b49d5f73",
   "metadata": {
    "ExecuteTime": {
     "end_time": "2025-04-15T17:06:52.243552Z",
     "start_time": "2025-04-15T17:06:48.315551Z"
    }
   },
   "source": [
    "%pip install -q numpy opencv-python"
   ],
   "outputs": [
    {
     "name": "stdout",
     "output_type": "stream",
     "text": [
      "Note: you may need to restart the kernel to use updated packages.\n"
     ]
    },
    {
     "name": "stderr",
     "output_type": "stream",
     "text": [
      "\n",
      "[notice] A new release of pip is available: 24.2 -> 25.0.1\n",
      "[notice] To update, run: python.exe -m pip install --upgrade pip\n"
     ]
    }
   ],
   "execution_count": 1
  },
  {
   "cell_type": "markdown",
   "id": "2ff44a82642f85f8",
   "metadata": {},
   "source": [
    "Create dataset from swiss card images"
   ]
  },
  {
   "cell_type": "code",
   "id": "initial_id",
   "metadata": {
    "ExecuteTime": {
     "end_time": "2025-04-15T17:07:03.373241Z",
     "start_time": "2025-04-15T17:07:03.364837Z"
    }
   },
   "source": [
    "import math\n",
    "import numpy as np\n",
    "import cv2 as cv\n",
    "from pathlib import Path\n",
    "import random\n",
    "from itertools import cycle, accumulate\n",
    "\n",
    "from jassair.synthetic_data.image_augmentation import Augmentation\n",
    "from jassair.utils import get_dataset_path, Datasets, get_class_for_name, CardClass\n",
    "from jassair.synthetic_data import rotate_image, add_drop_shadow, get_yolo_boxes, augment_image, Vignette, LightSpots, RotateMult90, LightingGradient, ColorJitter, NoiseNormal, GaussianBlur, PerspectiveWarp, WhiteBalanceShift, SynthConfig"
   ],
   "outputs": [],
   "execution_count": 23
  },
  {
   "cell_type": "markdown",
   "id": "37f4e2861091dcb1",
   "metadata": {},
   "source": [
    "## Create background images"
   ]
  },
  {
   "cell_type": "code",
   "id": "4c86e85ae6266008",
   "metadata": {
    "ExecuteTime": {
     "end_time": "2025-04-15T17:07:03.387151Z",
     "start_time": "2025-04-15T17:07:03.382741Z"
    }
   },
   "source": [
    "dest_path = get_dataset_path(Datasets.BACKGROUNDS)"
   ],
   "outputs": [],
   "execution_count": 24
  },
  {
   "cell_type": "code",
   "id": "a7bc297b95a28c86",
   "metadata": {
    "ExecuteTime": {
     "end_time": "2025-04-15T17:07:03.410304Z",
     "start_time": "2025-04-15T17:07:03.400695Z"
    }
   },
   "source": [
    "transform_backgrounds = False\n",
    "\n",
    "target_x = 640\n",
    "\n",
    "source_path = Path(\"data/raw_backgrounds\")\n",
    "\n",
    "if transform_backgrounds:\n",
    "    for i, image_path in enumerate(source_path.glob(\"*\"), 1):\n",
    "        image = cv.imread(image_path)\n",
    "\n",
    "        h, w = image.shape[:2]\n",
    "        h_2, w_2 = h // 2, w // 2\n",
    "        x = min(h, w)\n",
    "        x_2 = x // 2\n",
    "\n",
    "        if x < target_x:\n",
    "            raise ValueError(f\"Image {image_path} is too small!, {image.shape[:2]}\")\n",
    "\n",
    "        h_start = h_2 - x_2\n",
    "        h_stop = h_2 + x_2\n",
    "        w_start = w_2 - x_2\n",
    "        w_stop = w_2 + x_2\n",
    "\n",
    "        image = image[h_start:h_stop, w_start:w_stop]\n",
    "\n",
    "        image = cv.resize(image, (target_x, target_x))\n",
    "        cv.imwrite(f\"{dest_path}/background_{i}.png\", image)"
   ],
   "outputs": [],
   "execution_count": 25
  },
  {
   "cell_type": "code",
   "id": "b1bd51a160bb5965",
   "metadata": {
    "ExecuteTime": {
     "end_time": "2025-04-15T17:07:03.435706Z",
     "start_time": "2025-04-15T17:07:03.425391Z"
    }
   },
   "source": [
    "def create_single_color_background(color: str, height: int = 640, width: int = 640):\n",
    "    r = int(color[:2], base=16)\n",
    "    g = int(color[2:4], base=16)\n",
    "    b = int(color[4:], base=16)\n",
    "\n",
    "    img = np.zeros((height, width, 3), np.uint8)\n",
    "    img[:] = (b, g, r)\n",
    "    return img"
   ],
   "outputs": [],
   "execution_count": 26
  },
  {
   "cell_type": "markdown",
   "id": "1032abea6d427fa",
   "metadata": {},
   "source": [
    "## Read images"
   ]
  },
  {
   "cell_type": "code",
   "id": "b5b4c2b62685f157",
   "metadata": {
    "ExecuteTime": {
     "end_time": "2025-04-15T17:07:03.458925Z",
     "start_time": "2025-04-15T17:07:03.451965Z"
    }
   },
   "source": [
    "dataset_path = get_dataset_path(Datasets.CARD_TEMPLATE)"
   ],
   "outputs": [],
   "execution_count": 27
  },
  {
   "cell_type": "code",
   "id": "b5c8d31de965b899",
   "metadata": {
    "ExecuteTime": {
     "end_time": "2025-04-15T17:07:03.483773Z",
     "start_time": "2025-04-15T17:07:03.477959Z"
    }
   },
   "source": [
    "FOREGROUND_IMAGES: list[tuple[np.ndarray, int]] = []"
   ],
   "outputs": [],
   "execution_count": 28
  },
  {
   "cell_type": "code",
   "id": "68f8507962614df4",
   "metadata": {
    "ExecuteTime": {
     "end_time": "2025-04-15T17:07:05.128800Z",
     "start_time": "2025-04-15T17:07:03.498886Z"
    }
   },
   "source": [
    "for image_path in dataset_path.glob(\"*\"):\n",
    "    image = cv.imread(image_path, cv.IMREAD_UNCHANGED)\n",
    "    label = int(get_class_for_name(image_path.stem))\n",
    "\n",
    "    FOREGROUND_IMAGES.append((image, label))\n",
    "print(len(FOREGROUND_IMAGES))"
   ],
   "outputs": [
    {
     "name": "stdout",
     "output_type": "stream",
     "text": [
      "36\n"
     ]
    }
   ],
   "execution_count": 29
  },
  {
   "cell_type": "code",
   "id": "c2b3e81ef7940b17",
   "metadata": {
    "ExecuteTime": {
     "end_time": "2025-04-15T17:07:05.171997Z",
     "start_time": "2025-04-15T17:07:05.166817Z"
    }
   },
   "source": [
    "BACKGROUND_IMAGES: list[np.ndarray] = []"
   ],
   "outputs": [],
   "execution_count": 30
  },
  {
   "cell_type": "code",
   "id": "1daf11993f47598d",
   "metadata": {
    "ExecuteTime": {
     "end_time": "2025-04-15T17:07:06.583227Z",
     "start_time": "2025-04-15T17:07:05.233369Z"
    }
   },
   "source": [
    "for image_path in get_dataset_path(Datasets.BACKGROUNDS).glob(\"*\"):\n",
    "    BACKGROUND_IMAGES.append(cv.imread(image_path))\n",
    "print(len(BACKGROUND_IMAGES))"
   ],
   "outputs": [
    {
     "name": "stdout",
     "output_type": "stream",
     "text": [
      "99\n"
     ]
    }
   ],
   "execution_count": 31
  },
  {
   "cell_type": "markdown",
   "id": "f2e3ea94fb61c765",
   "metadata": {},
   "source": [
    "## YOLO Dataset description"
   ]
  },
  {
   "cell_type": "code",
   "id": "2ace2e634393b2b1",
   "metadata": {
    "ExecuteTime": {
     "end_time": "2025-04-15T17:07:06.626382Z",
     "start_time": "2025-04-15T17:07:06.620612Z"
    }
   },
   "source": [
    "def create_dataset_description(classes: int, labels: list[str]):\n",
    "    return (f\"train: ./train/images\\n\"\n",
    "            f\"val: ./valid/images\\n\"\n",
    "            f\"test: ./test/images\\n\\n\"\n",
    "            f\"nc: {classes}\\n\"\n",
    "            f\"names: {labels}\\n\")"
   ],
   "outputs": [],
   "execution_count": 32
  },
  {
   "cell_type": "markdown",
   "id": "7d3478bcae6262a2",
   "metadata": {},
   "source": [
    "## Create synthetic images"
   ]
  },
  {
   "cell_type": "code",
   "id": "d87ecafa89ab152b",
   "metadata": {
    "ExecuteTime": {
     "end_time": "2025-04-15T17:07:06.658631Z",
     "start_time": "2025-04-15T17:07:06.648716Z"
    }
   },
   "source": [
    "class PlacementError(Exception): ..."
   ],
   "outputs": [],
   "execution_count": 33
  },
  {
   "cell_type": "code",
   "id": "36b7c3c1cc872625",
   "metadata": {
    "ExecuteTime": {
     "end_time": "2025-04-15T17:07:06.682323Z",
     "start_time": "2025-04-15T17:07:06.671822Z"
    }
   },
   "source": [
    "def iou(box1, box2):\n",
    "    x1, y1, x2, y2 = box1\n",
    "    x1b, y1b, x2b, y2b = box2\n",
    "    xi1, yi1 = max(x1, x1b), max(y1, y1b)\n",
    "    xi2, yi2 = min(x2, x2b), min(y2, y2b)\n",
    "    inter_area = max(0, xi2 - xi1) * max(0, yi2 - yi1)\n",
    "    box1_area = (x2 - x1) * (y2 - y1)\n",
    "    box2_area = (x2b - x1b) * (y2b - y1b)\n",
    "    union_area = box1_area + box2_area - inter_area\n",
    "    return inter_area / union_area if union_area else 0"
   ],
   "outputs": [],
   "execution_count": 34
  },
  {
   "cell_type": "code",
   "id": "109897711e0b824d",
   "metadata": {
    "ExecuteTime": {
     "end_time": "2025-04-15T17:10:10.077188Z",
     "start_time": "2025-04-15T17:10:10.050647Z"
    }
   },
   "source": [
    "def generate_synthetic_card_scene(\n",
    "        bg: np.ndarray,\n",
    "        card_images: list[np.ndarray],\n",
    "        angles: list[float],\n",
    "        scale: float = 0.7,\n",
    "        iou_threshold: float = 0.1,\n",
    "        augment_bg: list[Augmentation] = (),\n",
    "        augment_final: list[Augmentation] = (),\n",
    ") -> tuple[np.ndarray, list[str]]:\n",
    "    \"\"\"\n",
    "    Generates a realistic card scene on a background.\n",
    "    Returns final image and YOLO-format annotations.\n",
    "    \"\"\"\n",
    "    shadow_size = 30\n",
    "    num_cards = len(card_images)\n",
    "    \n",
    "    if augment_bg:\n",
    "        bg = augment_image(bg, augment_bg)\n",
    "    h_bg, w_bg = bg.shape[:2]\n",
    "\n",
    "    rotated = [rotate_image(img, angle) for img, angle in zip(card_images, angles)]\n",
    "    max_card = max(rotated, key=lambda x: sum(x.shape[:2]))\n",
    "    h_max, w_max = max_card.shape[:2]\n",
    "    ratio = min(h_bg / h_max, w_bg / w_max)\n",
    "\n",
    "    processed_cards = []\n",
    "    for img in rotated:\n",
    "        r = ratio * scale\n",
    "        shadowed = add_drop_shadow(img, (shadow_size, shadow_size), 15, 0.8)\n",
    "        h, w = shadowed.shape[:2]\n",
    "        h = int(h * r)\n",
    "        w = int(w * r)\n",
    "        processed_cards.append(cv.resize(shadowed, (w, h), interpolation=cv.INTER_AREA))\n",
    "\n",
    "    placed = []\n",
    "    card_regions = np.zeros((h_bg, w_bg), np.uint8)\n",
    "    for i, (card, angle) in enumerate(zip(processed_cards, angles), 1):\n",
    "        h_card, w_card = card.shape[:2]\n",
    "        MAX_ATTEMPTS = 15\n",
    "        for _ in range(MAX_ATTEMPTS):\n",
    "            x = np.random.randint(0, w_bg - w_card)\n",
    "            y = np.random.randint(0, h_bg - h_card)\n",
    "\n",
    "            # Check for overlap\n",
    "            bbox = (x, y, x + w_card, y + h_card)\n",
    "            if all(iou(bbox, existing) < iou_threshold for existing in placed):\n",
    "                placed.append(bbox)\n",
    "                break\n",
    "        else:\n",
    "            raise PlacementError(\"Unable to place card without overlap\")\n",
    "\n",
    "        roi = bg[y:y + h_card, x:x + w_card]\n",
    "        alpha = card[:, :, 3] / 255\n",
    "        alpha_3ch = np.dstack([alpha] * 3)\n",
    "        card_rgb = card[:, :, :3]\n",
    "        blended = (roi * (1 - alpha_3ch) + card_rgb * alpha_3ch)\n",
    "        bg[y:y + h_card, x:x + w_card] = blended\n",
    "\n",
    "        mask = alpha > 0.9\n",
    "        card_regions[y:y + h_card, x:x + w_card][mask] = i\n",
    "    \n",
    "    boxes = get_yolo_boxes(card_regions, num_cards)\n",
    "\n",
    "    if augment_final:\n",
    "        bg = augment_image(bg, augment_final)\n",
    "    return bg, boxes"
   ],
   "outputs": [],
   "execution_count": 52
  },
  {
   "metadata": {
    "ExecuteTime": {
     "end_time": "2025-04-15T17:10:10.233124Z",
     "start_time": "2025-04-15T17:10:10.222445Z"
    }
   },
   "cell_type": "code",
   "source": [
    "def get_handheld_positions(angles: list[float], cards: list[tuple[np.ndarray, tuple[int, int]]], bg: np.ndarray) -> list[tuple[int, int]]:\n",
    "    hb, wb = bg.shape[:2]\n",
    "    base_x = wb // 2\n",
    "    base_y = 3 * hb // 4\n",
    "    positions = []\n",
    "    for angle, card in zip(angles, cards):\n",
    "        hc, wc = card.shape[:2]\n",
    "        c_x = math.cos(math.pi * angle / 180)\n",
    "        c_y = math.sin(math.pi * angle / 180)\n",
    "        o_x = (wc // 2) * c_x\n",
    "        o_y = (hc // 2) * c_y\n",
    "        o_x -= wc // 2\n",
    "        o_y += hc // 2\n",
    "        pos = (int(base_x + o_x), int(base_y - o_y))\n",
    "        positions.append(pos)\n",
    "    \n",
    "    return positions\n",
    "    "
   ],
   "id": "a6c620812ccb6dd8",
   "outputs": [],
   "execution_count": 53
  },
  {
   "metadata": {
    "ExecuteTime": {
     "end_time": "2025-04-15T17:25:39.808803Z",
     "start_time": "2025-04-15T17:25:39.784732Z"
    }
   },
   "cell_type": "code",
   "source": [
    "def generate_handheld_card_scene(\n",
    "        bg: np.ndarray,\n",
    "        card_images: list[np.ndarray],\n",
    "        angles: list[float],\n",
    "        scale: float = 0.7,\n",
    "        augment_bg: list[Augmentation] = (),\n",
    "        augment_final: list[Augmentation] = (),\n",
    ") -> tuple[np.ndarray, list[str]]:\n",
    "    \"\"\"\n",
    "    Generates a realistic card scene on a background.\n",
    "    Returns final image and YOLO-format annotations.\n",
    "    \"\"\"\n",
    "    shadow_size = 30\n",
    "    num_cards = len(card_images)\n",
    "    direction = random.choice([-1, 1])\n",
    "    start_angle = random.uniform(5 * num_cards, 13 * num_cards) * (-direction)\n",
    "    angles = [angle + start_angle + 90 for angle in list(accumulate([angle * direction for angle in angles]))]\n",
    "    \n",
    "    if augment_bg:\n",
    "        bg = augment_image(bg, augment_bg)\n",
    "    h_bg, w_bg = bg.shape[:2]\n",
    "\n",
    "    rotated = [rotate_image(img, angle) for img, angle in zip(card_images, angles)]\n",
    "    max_card = max(rotated, key=lambda x: sum(x.shape[:2]))\n",
    "    h_max, w_max = max_card.shape[:2]\n",
    "    ratio = min(h_bg / h_max, w_bg / w_max)\n",
    "    \n",
    "    processed_cards = []\n",
    "    for img in rotated:\n",
    "        r = ratio * scale\n",
    "        shadowed = add_drop_shadow(img, (shadow_size, shadow_size), 15, 0.8)\n",
    "        h, w = shadowed.shape[:2]\n",
    "        h = int(h * r)\n",
    "        w = int(w * r)\n",
    "        processed_cards.append(cv.resize(shadowed, (w, h), interpolation=cv.INTER_AREA))\n",
    "        \n",
    "    positions = get_handheld_positions(angles, processed_cards, bg)\n",
    "    card_regions = np.zeros((h_bg, w_bg), np.uint8)\n",
    "    \n",
    "    for i, (card, (x, y), angle) in enumerate(zip(processed_cards, positions, angles), 1):\n",
    "        h_card, w_card = card.shape[:2]\n",
    "\n",
    "        try:\n",
    "            roi = bg[y:y + h_card, x:x + w_card]\n",
    "            alpha = card[:, :, 3] / 255\n",
    "            alpha_3ch = np.dstack([alpha] * 3)\n",
    "            card_rgb = card[:, :, :3]\n",
    "            blended = (roi * (1 - alpha_3ch) + card_rgb * alpha_3ch)\n",
    "            bg[y:y + h_card, x:x + w_card] = blended\n",
    "        except ValueError:\n",
    "            raise PlacementError()\n",
    "        \n",
    "        mask = alpha > 0.9\n",
    "        card_regions[y:y + h_card, x:x + w_card][mask] = i\n",
    "\n",
    "    boxes = get_yolo_boxes(card_regions, num_cards)\n",
    "\n",
    "    if augment_final:\n",
    "        bg = augment_image(bg, augment_final)\n",
    "    return bg, boxes"
   ],
   "id": "564d308def9a2144",
   "outputs": [],
   "execution_count": 68
  },
  {
   "metadata": {
    "ExecuteTime": {
     "end_time": "2025-04-15T17:25:40.170394Z",
     "start_time": "2025-04-15T17:25:40.158277Z"
    }
   },
   "cell_type": "code",
   "source": [
    "def assort_random_layout(background: np.ndarray, cards: list[np.ndarray], config: SynthConfig):\n",
    "    num_cards = len(cards)\n",
    "    angles = [random.gauss(0, 45.0) for _ in range(num_cards)]\n",
    "    scale = random.uniform(0.6 / max(1.0, math.log2(num_cards * (2 - config.max_overlap))),\n",
    "                           0.8 / max(1.0, math.log2(num_cards * (2 - config.max_overlap))))\n",
    "    scale *= (1 + 0.5 * math.log10(num_cards))\n",
    "\n",
    "    return generate_synthetic_card_scene(\n",
    "        background,\n",
    "        cards,\n",
    "        angles,\n",
    "        scale,\n",
    "        config.max_overlap,\n",
    "        config.augment_background,\n",
    "        config.augment_final\n",
    "    )\n",
    "    "
   ],
   "id": "efaca4792014254b",
   "outputs": [],
   "execution_count": 69
  },
  {
   "metadata": {
    "ExecuteTime": {
     "end_time": "2025-04-15T17:29:58.925430Z",
     "start_time": "2025-04-15T17:29:58.916540Z"
    }
   },
   "cell_type": "code",
   "source": [
    "angle_range = (14, 22)  # in degrees\n",
    "\n",
    "def assort_handheld_layout(background: np.ndarray, cards: list[np.ndarray], config: SynthConfig):\n",
    "    num_cards = len(cards)\n",
    "    angles = [0] + [random.uniform(*angle_range) for _ in range(num_cards - 1)]\n",
    "    \n",
    "    scale = random.uniform(0.5 / max(1.0, math.log2(num_cards * 4) / 3),\n",
    "                           0.7 / max(1.0, math.log2(num_cards * 4) / 3))\n",
    "    \n",
    "    return generate_handheld_card_scene(\n",
    "        background,\n",
    "        cards,\n",
    "        angles,\n",
    "        scale,\n",
    "        config.augment_background,\n",
    "        config.augment_final\n",
    "    )\n",
    "    "
   ],
   "id": "17e57beac4420941",
   "outputs": [],
   "execution_count": 80
  },
  {
   "cell_type": "code",
   "id": "9ec382e0ac6d3442",
   "metadata": {
    "ExecuteTime": {
     "end_time": "2025-04-15T17:29:59.102225Z",
     "start_time": "2025-04-15T17:29:59.093125Z"
    }
   },
   "source": [
    "def create_synthetic_images(\n",
    "        images: list[np.ndarray],\n",
    "        backgrounds: list[np.ndarray],\n",
    "        num_images: int,\n",
    "        image_dest: Path,\n",
    "        label_dest: Path,\n",
    "        set_name: str,\n",
    "        config: SynthConfig\n",
    "):\n",
    "    imgs = iter(())\n",
    "    i = 0\n",
    "    while i < num_images:\n",
    "        if not i % 128:\n",
    "            random.shuffle(images)\n",
    "            imgs = cycle(images)\n",
    "\n",
    "        bg = random.choice(backgrounds).copy()\n",
    "        num_cards = random.randint(config.min_cards_per_image, config.max_cards_per_image)\n",
    "        cards = [next(imgs) for _ in range(num_cards)]\n",
    "        labels = [card[1] for card in cards]\n",
    "        cards = [card[0].copy() for card in cards]\n",
    "        \n",
    "        method = random.choice(config.generation_methods)\n",
    "\n",
    "        try:\n",
    "            synthetic_image, boxes = method(bg, cards, config)\n",
    "        except PlacementError:\n",
    "            continue\n",
    "\n",
    "        # Save image\n",
    "        cv.imwrite(f\"{image_dest}/{set_name}_{i}.png\", synthetic_image)\n",
    "        with (label_dest / f\"{set_name}_{i}.txt\").open(\"w+\", encoding=\"utf-8\") as f:\n",
    "            for label, box in zip(labels, boxes):\n",
    "                f.write(f\"{label} {box}\\n\")\n",
    "                \n",
    "        i += 1"
   ],
   "outputs": [],
   "execution_count": 81
  },
  {
   "cell_type": "code",
   "id": "623b933d5b0524de",
   "metadata": {
    "ExecuteTime": {
     "end_time": "2025-04-15T17:29:59.316055Z",
     "start_time": "2025-04-15T17:29:59.302050Z"
    }
   },
   "source": [
    "def create_synthetic_dataset(\n",
    "        dataset_dest: Path,\n",
    "        config: SynthConfig\n",
    "):\n",
    "    if config.classes:\n",
    "        images = [(i, l) for i, l in FOREGROUND_IMAGES if l in config.classes]\n",
    "        labels = [CardClass(l).name.replace(\"_\", \" \").lower() for _, l in sorted(images, key=lambda x: x[1])]\n",
    "        images = [(i, l) for l, (i, _) in enumerate(images)]\n",
    "    else:\n",
    "        images = FOREGROUND_IMAGES\n",
    "        labels = [CardClass(l).name.replace(\"_\", \" \").lower() for _, l in sorted(images, key=lambda x: x[1])]\n",
    "\n",
    "    if config.backgrounds:\n",
    "        backgrounds = [create_single_color_background(color) for color in config.backgrounds]\n",
    "    else:\n",
    "        backgrounds = BACKGROUND_IMAGES\n",
    "\n",
    "    # Create training data\n",
    "    image_target = dataset_dest / \"train\" / \"images\"\n",
    "    image_target.mkdir(parents=True, exist_ok=True)\n",
    "    label_target = dataset_dest / \"train\" / \"labels\"\n",
    "    label_target.mkdir(parents=True, exist_ok=True)\n",
    "    create_synthetic_images(images, backgrounds, config.num_train, image_target, label_target, \"train\", config)\n",
    "\n",
    "    # Create validation data\n",
    "    image_target = dataset_dest / \"valid\" / \"images\"\n",
    "    image_target.mkdir(parents=True, exist_ok=True)\n",
    "    label_target = dataset_dest / \"valid\" / \"labels\"\n",
    "    label_target.mkdir(parents=True, exist_ok=True)\n",
    "    create_synthetic_images(images, backgrounds, config.num_valid, image_target, label_target, \"valid\", config)\n",
    "\n",
    "    # Create test data\n",
    "    image_target = dataset_dest / \"test\" / \"images\"\n",
    "    image_target.mkdir(parents=True, exist_ok=True)\n",
    "    label_target = dataset_dest / \"test\" / \"labels\"\n",
    "    label_target.mkdir(parents=True, exist_ok=True)\n",
    "    create_synthetic_images(images, backgrounds, config.num_test, image_target, label_target, \"test\", config)\n",
    "\n",
    "    # Write data.yaml\n",
    "    with (dataset_dest / \"data.yaml\").open(\"w+\", encoding=\"utf-8\") as f:\n",
    "        f.write(create_dataset_description(len(labels), labels))\n"
   ],
   "outputs": [],
   "execution_count": 82
  },
  {
   "cell_type": "code",
   "id": "f93266ad26862481",
   "metadata": {
    "ExecuteTime": {
     "end_time": "2025-04-15T17:29:59.507272Z",
     "start_time": "2025-04-15T17:29:59.499441Z"
    }
   },
   "source": [
    "# Target Dataset\n",
    "target = Datasets.S_1TO9_36C_OVLP\n",
    "\n",
    "# Base configurations\n",
    "config = SynthConfig()\n",
    "config.num_train = 3600\n",
    "config.num_valid = 360\n",
    "config.num_test = 360\n",
    "config.max_overlap = 0.5\n",
    "config.min_cards_per_image = 2\n",
    "config.max_cards_per_image = 9\n",
    "\n",
    "# Augmentation configuration\n",
    "config.augment_background = [\n",
    "    RotateMult90(),\n",
    "    # ColorJitter(hue=0.1)\n",
    "]\n",
    "\n",
    "config.augment_final = [\n",
    "    # ColorJitter(0.3, 0.3, 0.2, 0.1),\n",
    "    # LightingGradient(0.7),\n",
    "    # LightSpots(),\n",
    "    # Vignette(0.3)\n",
    "]\n",
    "\n",
    "# Classes and background configurations\n",
    "config.classes = []\n",
    "\n",
    "config.backgrounds = []\n",
    "\n",
    "# Generation methods (choices: `assort_random_layout`, `assort_handheld_layout`)\n",
    "config.generation_methods = [assort_handheld_layout, assort_random_layout]"
   ],
   "outputs": [],
   "execution_count": 83
  },
  {
   "cell_type": "code",
   "id": "19d9a1f38a7d239b",
   "metadata": {
    "ExecuteTime": {
     "end_time": "2025-04-15T17:30:01.541365Z",
     "start_time": "2025-04-15T17:29:59.874646Z"
    }
   },
   "source": [
    "random.seed(42)\n",
    "create_synthetic_dataset(get_dataset_path(target), config)\n",
    "\n",
    "print(\"Synthetic dataset created successfully!\")"
   ],
   "outputs": [
    {
     "name": "stdout",
     "output_type": "stream",
     "text": [
      "263 307 319 383\n"
     ]
    },
    {
     "ename": "ValueError",
     "evalue": "operands could not be broadcast together with shapes (319,333,3) (319,383,3) ",
     "output_type": "error",
     "traceback": [
      "\u001B[31m---------------------------------------------------------------------------\u001B[39m",
      "\u001B[31mValueError\u001B[39m                                Traceback (most recent call last)",
      "\u001B[36mCell\u001B[39m\u001B[36m \u001B[39m\u001B[32mIn[84]\u001B[39m\u001B[32m, line 2\u001B[39m\n\u001B[32m      1\u001B[39m random.seed(\u001B[32m42\u001B[39m)\n\u001B[32m----> \u001B[39m\u001B[32m2\u001B[39m \u001B[43mcreate_synthetic_dataset\u001B[49m\u001B[43m(\u001B[49m\u001B[43mget_dataset_path\u001B[49m\u001B[43m(\u001B[49m\u001B[43mtarget\u001B[49m\u001B[43m)\u001B[49m\u001B[43m,\u001B[49m\u001B[43m \u001B[49m\u001B[43mconfig\u001B[49m\u001B[43m)\u001B[49m\n\u001B[32m      4\u001B[39m \u001B[38;5;28mprint\u001B[39m(\u001B[33m\"\u001B[39m\u001B[33mSynthetic dataset created successfully!\u001B[39m\u001B[33m\"\u001B[39m)\n",
      "\u001B[36mCell\u001B[39m\u001B[36m \u001B[39m\u001B[32mIn[82]\u001B[39m\u001B[32m, line 23\u001B[39m, in \u001B[36mcreate_synthetic_dataset\u001B[39m\u001B[34m(dataset_dest, config)\u001B[39m\n\u001B[32m     21\u001B[39m label_target = dataset_dest / \u001B[33m\"\u001B[39m\u001B[33mtrain\u001B[39m\u001B[33m\"\u001B[39m / \u001B[33m\"\u001B[39m\u001B[33mlabels\u001B[39m\u001B[33m\"\u001B[39m\n\u001B[32m     22\u001B[39m label_target.mkdir(parents=\u001B[38;5;28;01mTrue\u001B[39;00m, exist_ok=\u001B[38;5;28;01mTrue\u001B[39;00m)\n\u001B[32m---> \u001B[39m\u001B[32m23\u001B[39m \u001B[43mcreate_synthetic_images\u001B[49m\u001B[43m(\u001B[49m\u001B[43mimages\u001B[49m\u001B[43m,\u001B[49m\u001B[43m \u001B[49m\u001B[43mbackgrounds\u001B[49m\u001B[43m,\u001B[49m\u001B[43m \u001B[49m\u001B[43mconfig\u001B[49m\u001B[43m.\u001B[49m\u001B[43mnum_train\u001B[49m\u001B[43m,\u001B[49m\u001B[43m \u001B[49m\u001B[43mimage_target\u001B[49m\u001B[43m,\u001B[49m\u001B[43m \u001B[49m\u001B[43mlabel_target\u001B[49m\u001B[43m,\u001B[49m\u001B[43m \u001B[49m\u001B[33;43m\"\u001B[39;49m\u001B[33;43mtrain\u001B[39;49m\u001B[33;43m\"\u001B[39;49m\u001B[43m,\u001B[49m\u001B[43m \u001B[49m\u001B[43mconfig\u001B[49m\u001B[43m)\u001B[49m\n\u001B[32m     25\u001B[39m \u001B[38;5;66;03m# Create validation data\u001B[39;00m\n\u001B[32m     26\u001B[39m image_target = dataset_dest / \u001B[33m\"\u001B[39m\u001B[33mvalid\u001B[39m\u001B[33m\"\u001B[39m / \u001B[33m\"\u001B[39m\u001B[33mimages\u001B[39m\u001B[33m\"\u001B[39m\n",
      "\u001B[36mCell\u001B[39m\u001B[36m \u001B[39m\u001B[32mIn[81]\u001B[39m\u001B[32m, line 26\u001B[39m, in \u001B[36mcreate_synthetic_images\u001B[39m\u001B[34m(images, backgrounds, num_images, image_dest, label_dest, set_name, config)\u001B[39m\n\u001B[32m     23\u001B[39m method = random.choice(config.generation_methods)\n\u001B[32m     25\u001B[39m \u001B[38;5;28;01mtry\u001B[39;00m:\n\u001B[32m---> \u001B[39m\u001B[32m26\u001B[39m     synthetic_image, boxes = \u001B[43mmethod\u001B[49m\u001B[43m(\u001B[49m\u001B[43mbg\u001B[49m\u001B[43m,\u001B[49m\u001B[43m \u001B[49m\u001B[43mcards\u001B[49m\u001B[43m,\u001B[49m\u001B[43m \u001B[49m\u001B[43mconfig\u001B[49m\u001B[43m)\u001B[49m\n\u001B[32m     27\u001B[39m \u001B[38;5;28;01mexcept\u001B[39;00m PlacementError:\n\u001B[32m     28\u001B[39m     \u001B[38;5;28;01mcontinue\u001B[39;00m\n",
      "\u001B[36mCell\u001B[39m\u001B[36m \u001B[39m\u001B[32mIn[80]\u001B[39m\u001B[32m, line 10\u001B[39m, in \u001B[36massort_handheld_layout\u001B[39m\u001B[34m(background, cards, config)\u001B[39m\n\u001B[32m      5\u001B[39m angles = [\u001B[32m0\u001B[39m] + [random.uniform(*angle_range) \u001B[38;5;28;01mfor\u001B[39;00m _ \u001B[38;5;129;01min\u001B[39;00m \u001B[38;5;28mrange\u001B[39m(num_cards - \u001B[32m1\u001B[39m)]\n\u001B[32m      7\u001B[39m scale = random.uniform(\u001B[32m0.9\u001B[39m / \u001B[38;5;28mmax\u001B[39m(\u001B[32m1.0\u001B[39m, math.log2(num_cards * \u001B[32m4\u001B[39m) / \u001B[32m3\u001B[39m),\n\u001B[32m      8\u001B[39m                        \u001B[32m0.9\u001B[39m / \u001B[38;5;28mmax\u001B[39m(\u001B[32m1.0\u001B[39m, math.log2(num_cards * \u001B[32m4\u001B[39m) / \u001B[32m3\u001B[39m))\n\u001B[32m---> \u001B[39m\u001B[32m10\u001B[39m \u001B[38;5;28;01mreturn\u001B[39;00m \u001B[43mgenerate_handheld_card_scene\u001B[49m\u001B[43m(\u001B[49m\n\u001B[32m     11\u001B[39m \u001B[43m    \u001B[49m\u001B[43mbackground\u001B[49m\u001B[43m,\u001B[49m\n\u001B[32m     12\u001B[39m \u001B[43m    \u001B[49m\u001B[43mcards\u001B[49m\u001B[43m,\u001B[49m\n\u001B[32m     13\u001B[39m \u001B[43m    \u001B[49m\u001B[43mangles\u001B[49m\u001B[43m,\u001B[49m\n\u001B[32m     14\u001B[39m \u001B[43m    \u001B[49m\u001B[43mscale\u001B[49m\u001B[43m,\u001B[49m\n\u001B[32m     15\u001B[39m \u001B[43m    \u001B[49m\u001B[43mconfig\u001B[49m\u001B[43m.\u001B[49m\u001B[43maugment_background\u001B[49m\u001B[43m,\u001B[49m\n\u001B[32m     16\u001B[39m \u001B[43m    \u001B[49m\u001B[43mconfig\u001B[49m\u001B[43m.\u001B[49m\u001B[43maugment_final\u001B[49m\n\u001B[32m     17\u001B[39m \u001B[43m\u001B[49m\u001B[43m)\u001B[49m\n",
      "\u001B[36mCell\u001B[39m\u001B[36m \u001B[39m\u001B[32mIn[68]\u001B[39m\u001B[32m, line 49\u001B[39m, in \u001B[36mgenerate_handheld_card_scene\u001B[39m\u001B[34m(bg, card_images, angles, scale, augment_bg, augment_final)\u001B[39m\n\u001B[32m     47\u001B[39m alpha_3ch = np.dstack([alpha] * \u001B[32m3\u001B[39m)\n\u001B[32m     48\u001B[39m card_rgb = card[:, :, :\u001B[32m3\u001B[39m]\n\u001B[32m---> \u001B[39m\u001B[32m49\u001B[39m blended = (\u001B[43mroi\u001B[49m\u001B[43m \u001B[49m\u001B[43m*\u001B[49m\u001B[43m \u001B[49m\u001B[43m(\u001B[49m\u001B[32;43m1\u001B[39;49m\u001B[43m \u001B[49m\u001B[43m-\u001B[49m\u001B[43m \u001B[49m\u001B[43malpha_3ch\u001B[49m\u001B[43m)\u001B[49m + card_rgb * alpha_3ch)\n\u001B[32m     50\u001B[39m bg[y:y + h_card, x:x + w_card] = blended\n\u001B[32m     52\u001B[39m mask = alpha > \u001B[32m0.9\u001B[39m\n",
      "\u001B[31mValueError\u001B[39m: operands could not be broadcast together with shapes (319,333,3) (319,383,3) "
     ]
    }
   ],
   "execution_count": 84
  },
  {
   "cell_type": "code",
   "id": "af2177049baaf4c5",
   "metadata": {
    "ExecuteTime": {
     "end_time": "2025-04-15T17:09:14.476606500Z",
     "start_time": "2025-04-14T21:10:30.118253Z"
    }
   },
   "source": [],
   "outputs": [],
   "execution_count": null
  }
 ],
 "metadata": {
  "kernelspec": {
   "display_name": "Python 3 (ipykernel)",
   "language": "python",
   "name": "python3"
  },
  "language_info": {
   "codemirror_mode": {
    "name": "ipython",
    "version": 3
   },
   "file_extension": ".py",
   "mimetype": "text/x-python",
   "name": "python",
   "nbconvert_exporter": "python",
   "pygments_lexer": "ipython3",
   "version": "3.12.9"
  }
 },
 "nbformat": 4,
 "nbformat_minor": 5
}
