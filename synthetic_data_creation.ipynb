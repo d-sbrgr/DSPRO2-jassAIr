{
 "cells": [
  {
   "metadata": {},
   "cell_type": "markdown",
   "source": "Create dataset from swiss card images",
   "id": "2ff44a82642f85f8"
  },
  {
   "metadata": {
    "ExecuteTime": {
     "end_time": "2025-03-23T10:07:26.269739Z",
     "start_time": "2025-03-23T10:06:55.283957Z"
    }
   },
   "cell_type": "code",
   "source": "%pip install opencv-python numpy matplotlib",
   "id": "155fef444451dcee",
   "outputs": [
    {
     "name": "stdout",
     "output_type": "stream",
     "text": [
      "Requirement already satisfied: opencv-python in c:\\git\\dspro2-jassair\\.env3\\lib\\site-packages (4.11.0.86)\n",
      "Requirement already satisfied: numpy in c:\\git\\dspro2-jassair\\.env3\\lib\\site-packages (2.2.4)\n",
      "Collecting matplotlib\n",
      "  Using cached matplotlib-3.10.1-cp312-cp312-win_amd64.whl.metadata (11 kB)\n",
      "Collecting contourpy>=1.0.1 (from matplotlib)\n",
      "  Using cached contourpy-1.3.1-cp312-cp312-win_amd64.whl.metadata (5.4 kB)\n",
      "Collecting cycler>=0.10 (from matplotlib)\n",
      "  Using cached cycler-0.12.1-py3-none-any.whl.metadata (3.8 kB)\n",
      "Collecting fonttools>=4.22.0 (from matplotlib)\n",
      "  Using cached fonttools-4.56.0-cp312-cp312-win_amd64.whl.metadata (103 kB)\n",
      "Collecting kiwisolver>=1.3.1 (from matplotlib)\n",
      "  Using cached kiwisolver-1.4.8-cp312-cp312-win_amd64.whl.metadata (6.3 kB)\n",
      "Requirement already satisfied: packaging>=20.0 in c:\\git\\dspro2-jassair\\.env3\\lib\\site-packages (from matplotlib) (24.2)\n",
      "Collecting pillow>=8 (from matplotlib)\n",
      "  Using cached pillow-11.1.0-cp312-cp312-win_amd64.whl.metadata (9.3 kB)\n",
      "Collecting pyparsing>=2.3.1 (from matplotlib)\n",
      "  Using cached pyparsing-3.2.1-py3-none-any.whl.metadata (5.0 kB)\n",
      "Requirement already satisfied: python-dateutil>=2.7 in c:\\git\\dspro2-jassair\\.env3\\lib\\site-packages (from matplotlib) (2.9.0.post0)\n",
      "Requirement already satisfied: six>=1.5 in c:\\git\\dspro2-jassair\\.env3\\lib\\site-packages (from python-dateutil>=2.7->matplotlib) (1.17.0)\n",
      "Using cached matplotlib-3.10.1-cp312-cp312-win_amd64.whl (8.1 MB)\n",
      "Using cached contourpy-1.3.1-cp312-cp312-win_amd64.whl (220 kB)\n",
      "Using cached cycler-0.12.1-py3-none-any.whl (8.3 kB)\n",
      "Using cached fonttools-4.56.0-cp312-cp312-win_amd64.whl (2.2 MB)\n",
      "Using cached kiwisolver-1.4.8-cp312-cp312-win_amd64.whl (71 kB)\n",
      "Using cached pillow-11.1.0-cp312-cp312-win_amd64.whl (2.6 MB)\n",
      "Using cached pyparsing-3.2.1-py3-none-any.whl (107 kB)\n",
      "Installing collected packages: pyparsing, pillow, kiwisolver, fonttools, cycler, contourpy, matplotlib\n",
      "Successfully installed contourpy-1.3.1 cycler-0.12.1 fonttools-4.56.0 kiwisolver-1.4.8 matplotlib-3.10.1 pillow-11.1.0 pyparsing-3.2.1\n",
      "Note: you may need to restart the kernel to use updated packages.\n"
     ]
    },
    {
     "name": "stderr",
     "output_type": "stream",
     "text": [
      "\n",
      "[notice] A new release of pip is available: 24.2 -> 25.0.1\n",
      "[notice] To update, run: python.exe -m pip install --upgrade pip\n"
     ]
    }
   ],
   "execution_count": 7
  },
  {
   "cell_type": "code",
   "id": "initial_id",
   "metadata": {
    "collapsed": true,
    "ExecuteTime": {
     "end_time": "2025-03-23T12:20:52.986204Z",
     "start_time": "2025-03-23T12:20:52.975504Z"
    }
   },
   "source": [
    "import numpy as np\n",
    "import cv2 as cv\n",
    "from pathlib import Path\n",
    "import random\n",
    "from itertools import cycle\n",
    "\n",
    "from jassair.utils import get_dataset_path, Datasets"
   ],
   "outputs": [],
   "execution_count": 46
  },
  {
   "metadata": {},
   "cell_type": "markdown",
   "source": "## Create background images",
   "id": "37f4e2861091dcb1"
  },
  {
   "metadata": {
    "ExecuteTime": {
     "end_time": "2025-03-23T12:47:32.962618Z",
     "start_time": "2025-03-23T12:47:32.945204Z"
    }
   },
   "cell_type": "code",
   "source": "dest_path = get_dataset_path(Datasets.BACKGROUNDS)",
   "id": "4c86e85ae6266008",
   "outputs": [],
   "execution_count": 51
  },
  {
   "metadata": {
    "ExecuteTime": {
     "end_time": "2025-03-23T12:48:22.207511Z",
     "start_time": "2025-03-23T12:47:33.152967Z"
    }
   },
   "cell_type": "code",
   "source": [
    "target_x = 640\n",
    "\n",
    "for i, image_path in enumerate(Path(\"data/raw_backgrounds\").glob(\"*.jpg\"), 1):\n",
    "    image = cv.imread(image_path)\n",
    "    \n",
    "    h, w = image.shape[:2]\n",
    "    h_2, w_2 = h // 2, w // 2\n",
    "    x = min(h, w)\n",
    "    x_2 = x // 2\n",
    "    \n",
    "    if x < target_x:\n",
    "        raise ValueError(f\"Image {image_path} is too small!, {image.shape[:2]}\")\n",
    "    \n",
    "    h_start = h_2 - x_2\n",
    "    h_stop = h_2 + x_2\n",
    "    w_start = w_2 - x_2\n",
    "    w_stop = w_2 + x_2        \n",
    "    \n",
    "    image = image[h_start:h_stop, w_start:w_stop]\n",
    "\n",
    "    image = cv.resize(image, (target_x, target_x))\n",
    "    cv.imwrite(f\"{dest_path}/background_{i}.png\", image) "
   ],
   "id": "a7bc297b95a28c86",
   "outputs": [],
   "execution_count": 52
  },
  {
   "metadata": {},
   "cell_type": "markdown",
   "source": "## Read images",
   "id": "1032abea6d427fa"
  },
  {
   "metadata": {
    "ExecuteTime": {
     "end_time": "2025-03-23T12:49:41.286358Z",
     "start_time": "2025-03-23T12:49:41.274339Z"
    }
   },
   "cell_type": "code",
   "source": "dataset_path = get_dataset_path(Datasets.SWISS)",
   "id": "b5b4c2b62685f157",
   "outputs": [],
   "execution_count": 53
  },
  {
   "metadata": {
    "ExecuteTime": {
     "end_time": "2025-03-23T12:49:41.976056Z",
     "start_time": "2025-03-23T12:49:41.947648Z"
    }
   },
   "cell_type": "code",
   "source": "FOREGROUND_IMAGES: list[tuple[np.ndarray, str, int]] = []",
   "id": "b5c8d31de965b899",
   "outputs": [],
   "execution_count": 54
  },
  {
   "metadata": {
    "ExecuteTime": {
     "end_time": "2025-03-23T12:49:42.539827Z",
     "start_time": "2025-03-23T12:49:42.417079Z"
    }
   },
   "cell_type": "code",
   "source": [
    "for image_path in (dataset_path / \"test\" / \"images\").glob(\"*.jpg\"):\n",
    "    image = cv.imread(image_path)\n",
    "    name = image_path.name.split(\"_\")[0]\n",
    "    label_path = dataset_path / \"test\" / \"labels\" / f\"{image_path.stem}.txt\"\n",
    "    with label_path.open(\"r\", encoding=\"utf-8\") as f:\n",
    "        label = int(f.readline().split()[0])\n",
    "    \n",
    "    FOREGROUND_IMAGES.append((image, name, label))"
   ],
   "id": "68f8507962614df4",
   "outputs": [],
   "execution_count": 55
  },
  {
   "metadata": {
    "ExecuteTime": {
     "end_time": "2025-03-23T12:49:43.205255Z",
     "start_time": "2025-03-23T12:49:43.175255Z"
    }
   },
   "cell_type": "code",
   "source": "BACKGROUND_IMAGES : list[np.ndarray] = []",
   "id": "c2b3e81ef7940b17",
   "outputs": [],
   "execution_count": 56
  },
  {
   "metadata": {
    "ExecuteTime": {
     "end_time": "2025-03-23T12:49:53.832839Z",
     "start_time": "2025-03-23T12:49:43.701735Z"
    }
   },
   "cell_type": "code",
   "source": [
    "for image_path in get_dataset_path(Datasets.BACKGROUNDS).glob(\"*.png\"):\n",
    "    BACKGROUND_IMAGES.append(cv.imread(image_path))"
   ],
   "id": "1daf11993f47598d",
   "outputs": [],
   "execution_count": 57
  },
  {
   "metadata": {},
   "cell_type": "markdown",
   "source": "## Create synthetic images",
   "id": "7d3478bcae6262a2"
  },
  {
   "metadata": {
    "ExecuteTime": {
     "end_time": "2025-03-23T12:50:01.202173Z",
     "start_time": "2025-03-23T12:50:01.180781Z"
    }
   },
   "cell_type": "code",
   "source": [
    "def rotate_image(fg, angle):\n",
    "    \"\"\"Rotates the image without cropping any part of it.\"\"\"\n",
    "    h, w = fg.shape[:2]\n",
    "    center = (w // 2, h // 2)\n",
    "\n",
    "    # Compute the bounding box of the rotated image\n",
    "    rot_matrix = cv.getRotationMatrix2D(center, angle, 1.0)\n",
    "    cos = np.abs(rot_matrix[0, 0])\n",
    "    sin = np.abs(rot_matrix[0, 1])\n",
    "\n",
    "    # Compute new bounding box dimensions\n",
    "    new_w = int((h * sin) + (w * cos))\n",
    "    new_h = int((h * cos) + (w * sin))\n",
    "\n",
    "    # Adjust the rotation matrix to consider the new image size\n",
    "    rot_matrix[0, 2] += (new_w / 2) - center[0]\n",
    "    rot_matrix[1, 2] += (new_h / 2) - center[1]\n",
    "\n",
    "    # Perform rotation\n",
    "    rotated_fg = cv.warpAffine(fg, rot_matrix, (new_w, new_h), borderMode=cv.BORDER_CONSTANT, borderValue=(0, 0, 0, 0))\n",
    "    \n",
    "    return rotated_fg"
   ],
   "id": "e4ca925e55a92a72",
   "outputs": [],
   "execution_count": 58
  },
  {
   "metadata": {
    "ExecuteTime": {
     "end_time": "2025-03-23T12:50:02.123461Z",
     "start_time": "2025-03-23T12:50:02.108438Z"
    }
   },
   "cell_type": "code",
   "source": [
    "def overlay_image(bg: np.ndarray, fg: np.ndarray, scale: float, angle: float):\n",
    "    \"\"\"\n",
    "    Overlays a foreground object on a background at a given position, scale, and rotation.\n",
    "    \"\"\"\n",
    "    # Resize foreground image\n",
    "    fg = rotate_image(fg, angle)\n",
    "    h_fg, w_fg = fg.shape[:2]\n",
    "    h_bg, w_bg = bg.shape[:2]\n",
    "    ratio = min(h_bg / h_fg, w_bg / w_fg)\n",
    "    new_h, new_w = int(h_fg * ratio * scale), int(w_fg * ratio * scale)\n",
    "    fg = cv.resize(fg, (new_w, new_h))\n",
    "\n",
    "    new_h, new_w = fg.shape[:2]\n",
    "\n",
    "    x = random.randint(0, bg.shape[1] - new_w)\n",
    "    y = random.randint(0, bg.shape[0] - new_h)\n",
    "\n",
    "\n",
    "    # Extract region from background\n",
    "    roi = bg[y:y+new_h, x:x+new_w]\n",
    "\n",
    "    # Create mask where fg is non-black (i.e., has content)\n",
    "    mask = np.any(fg > 10, axis=-1).astype(np.uint8) * 255  # Threshold to ignore black areas\n",
    "\n",
    "    # Convert mask to 3 channels\n",
    "    mask_inv = cv.bitwise_not(mask)\n",
    "    mask_3ch = cv.merge((mask, mask, mask)) / 255.0\n",
    "    mask_inv_3ch = cv.merge((mask_inv, mask_inv, mask_inv)) / 255.0\n",
    "\n",
    "    # Blend images using mask\n",
    "    fg_part = (fg * mask_3ch).astype(np.uint8)\n",
    "    bg_part = (roi * mask_inv_3ch).astype(np.uint8)\n",
    "    blended = cv.add(bg_part, fg_part)\n",
    "\n",
    "    # Place blended region back onto background\n",
    "    bg[y:y+new_h, x:x+new_w] = blended\n",
    "    \n",
    "    box_center_x = (x + new_w / 2) / bg.shape[1]\n",
    "    box_center_y = (y + new_h / 2) / bg.shape[0]\n",
    "    box_height = new_h / bg.shape[0]\n",
    "    box_width = new_w / bg.shape[1]\n",
    "\n",
    "    return bg, f\"{box_center_x} {box_center_y} {box_width} {box_height}\""
   ],
   "id": "36b7c3c1cc872625",
   "outputs": [],
   "execution_count": 59
  },
  {
   "metadata": {
    "ExecuteTime": {
     "end_time": "2025-03-23T12:50:02.754615Z",
     "start_time": "2025-03-23T12:50:02.741002Z"
    }
   },
   "cell_type": "code",
   "source": [
    "def create_synthetic_images(num_images: int, image_dest: Path, label_dest: Path):\n",
    "    images = cycle(FOREGROUND_IMAGES)\n",
    "    for i in range(num_images):\n",
    "        bg = random.choice(BACKGROUND_IMAGES).copy()\n",
    "        fg, name, label = next(images)\n",
    "        fg = fg.copy()\n",
    "        \n",
    "        # Random transformations\n",
    "        scale = random.uniform(0.5, 1.0)  # Scale between 30% and 100% of background size\n",
    "        angle = random.gauss(0, 45.0)\n",
    "    \n",
    "        # Overlay object onto background\n",
    "        synthetic_image, box = overlay_image(bg, fg, scale, angle)\n",
    "    \n",
    "        # Save image\n",
    "        cv.imwrite(f\"{image_dest}/{name}_{i}.png\", synthetic_image)\n",
    "        with (label_dest / f\"{name}_{i}.txt\").open(\"w\", encoding=\"utf-8\") as f:\n",
    "            f.write(f\"{label} {box}\")"
   ],
   "id": "9ec382e0ac6d3442",
   "outputs": [],
   "execution_count": 60
  },
  {
   "metadata": {
    "ExecuteTime": {
     "end_time": "2025-03-23T12:50:04.306225Z",
     "start_time": "2025-03-23T12:50:04.295906Z"
    }
   },
   "cell_type": "code",
   "source": [
    "def create_synthetic_dataset(dataset_dest: Path, num_train: int, num_val: int, num_test: int):\n",
    "    # Create training data\n",
    "    image_target = dataset_dest / \"train\" / \"images\"\n",
    "    image_target.mkdir(parents=True, exist_ok=True)\n",
    "    label_target = dataset_dest / \"train\" / \"labels\"\n",
    "    label_target.mkdir(parents=True, exist_ok=True)\n",
    "    create_synthetic_images(num_train, image_target, label_target)\n",
    "    \n",
    "    # Create validation data\n",
    "    image_target = dataset_dest / \"valid\" / \"images\"\n",
    "    image_target.mkdir(parents=True, exist_ok=True)\n",
    "    label_target = dataset_dest / \"valid\" / \"labels\"\n",
    "    label_target.mkdir(parents=True, exist_ok=True)\n",
    "    create_synthetic_images(num_val, image_target, label_target)\n",
    "    \n",
    "    # Create test data\n",
    "    image_target = dataset_dest / \"test\" / \"images\"\n",
    "    image_target.mkdir(parents=True, exist_ok=True)\n",
    "    label_target = dataset_dest / \"test\" / \"labels\"\n",
    "    label_target.mkdir(parents=True, exist_ok=True)\n",
    "    create_synthetic_images(num_test, image_target, label_target)"
   ],
   "id": "623b933d5b0524de",
   "outputs": [],
   "execution_count": 61
  },
  {
   "metadata": {
    "ExecuteTime": {
     "end_time": "2025-03-23T12:50:22.818661Z",
     "start_time": "2025-03-23T12:50:22.143347Z"
    }
   },
   "cell_type": "code",
   "source": [
    "random.seed(42)\n",
    "create_synthetic_dataset(get_dataset_path(Datasets.SYNTHETIC_SINGLE), 10, 1, 1)\n",
    "\n",
    "print(\"Synthetic dataset created successfully!\")"
   ],
   "id": "19d9a1f38a7d239b",
   "outputs": [
    {
     "name": "stdout",
     "output_type": "stream",
     "text": [
      "Synthetic dataset created successfully!\n"
     ]
    }
   ],
   "execution_count": 62
  },
  {
   "metadata": {},
   "cell_type": "code",
   "outputs": [],
   "execution_count": null,
   "source": "",
   "id": "baa61767a8556faa"
  }
 ],
 "metadata": {
  "kernelspec": {
   "display_name": "Python 3",
   "language": "python",
   "name": "python3"
  },
  "language_info": {
   "codemirror_mode": {
    "name": "ipython",
    "version": 2
   },
   "file_extension": ".py",
   "mimetype": "text/x-python",
   "name": "python",
   "nbconvert_exporter": "python",
   "pygments_lexer": "ipython2",
   "version": "2.7.6"
  }
 },
 "nbformat": 4,
 "nbformat_minor": 5
}
