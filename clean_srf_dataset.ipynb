{
 "cells": [
  {
   "cell_type": "code",
   "id": "initial_id",
   "metadata": {
    "collapsed": true,
    "ExecuteTime": {
     "end_time": "2025-05-02T16:18:05.888741Z",
     "start_time": "2025-05-02T16:18:05.689862Z"
    }
   },
   "source": [
    "from pathlib import Path\n",
    "import shutil\n",
    "import cv2 as cv"
   ],
   "outputs": [],
   "execution_count": 1
  },
  {
   "metadata": {},
   "cell_type": "markdown",
   "source": "## Filter SRF images to only leave Swiss cards",
   "id": "57fb23d8ead61096"
  },
  {
   "metadata": {
    "ExecuteTime": {
     "end_time": "2025-05-02T16:37:26.122233Z",
     "start_time": "2025-05-02T16:37:26.116392Z"
    }
   },
   "cell_type": "code",
   "source": [
    "ROOT = Path(\".\").parent\n",
    "source = ROOT / \"data\" / \"jass-yolov8-v20-data\"\n",
    "target = ROOT / \"data\" / \"jass-yolov8-v20-clean\""
   ],
   "id": "b8d15d242ee03453",
   "outputs": [],
   "execution_count": 18
  },
  {
   "metadata": {
    "ExecuteTime": {
     "end_time": "2025-05-02T16:18:05.996859Z",
     "start_time": "2025-05-02T16:18:05.990783Z"
    }
   },
   "cell_type": "code",
   "source": "LABEL_MAP = [None] * 36",
   "id": "c7953287eaebb9a0",
   "outputs": [],
   "execution_count": 3
  },
  {
   "metadata": {
    "ExecuteTime": {
     "end_time": "2025-05-02T16:18:06.187572Z",
     "start_time": "2025-05-02T16:18:06.178567Z"
    }
   },
   "cell_type": "code",
   "source": "SRF_LABELS = ['schilte 7', 'schelle under', 'rose ass', 'schelle 7', 'schelle 10', 'schelle 6', 'eichel 7', 'eichel 6', 'eichel 8', 'schelle 9', 'rose 8', 'eichel 9', 'rose 6', 'rose 7', 'rose 9', 'rose konig', 'schilte 6', 'schilte 8', 'rose under', 'rose ober', 'schelle 8', 'eichel under', 'schelle konig', 'eichel konig', 'eichel ass', 'schilte ass', 'schilte 10', 'schilte konig', 'eichel ober', 'schilte ober', 'schilte under', 'schelle ober', 'schelle ass', 'eichel 10', 'rose 10', 'schilte 9']",
   "id": "de7971b60e6f32dc",
   "outputs": [],
   "execution_count": 4
  },
  {
   "metadata": {
    "ExecuteTime": {
     "end_time": "2025-05-02T16:18:06.389162Z",
     "start_time": "2025-05-02T16:18:06.380847Z"
    }
   },
   "cell_type": "code",
   "source": "OUR_LABELS = ['Eichel 10', 'Eichel 6', 'Eichel 7', 'Eichel 8', 'Eichel 9', 'Eichel Ass', 'Eichel Konig', 'Eichel Ober', 'Eichel Under', 'Rose 10', 'Rose 6', 'Rose 7', 'Rose 8', 'Rose 9', 'Rose Ass', 'Rose Konig', 'Rose Ober', 'Rose Under', 'Schelle 10', 'Schelle 6', 'Schelle 7', 'Schelle 8', 'Schelle 9', 'Schelle Ass', 'Schelle Konig', 'Schelle Ober', 'Schelle Under', 'Schilte 10', 'Schilte 6', 'Schilte 7', 'Schilte 8', 'Schilte 9', 'Schilte Ass', 'Schilte Konig', 'Schilte Ober', 'Schilte Under']",
   "id": "96747be9424f08ca",
   "outputs": [],
   "execution_count": 5
  },
  {
   "metadata": {
    "ExecuteTime": {
     "end_time": "2025-05-02T16:18:06.561103Z",
     "start_time": "2025-05-02T16:18:06.549982Z"
    }
   },
   "cell_type": "code",
   "source": [
    "for index, label in enumerate(SRF_LABELS):\n",
    "    for i, l in enumerate(OUR_LABELS):\n",
    "        if l.lower() == label.lower():\n",
    "            LABEL_MAP[index] = i\n",
    "            break\n",
    "            \n",
    "print(LABEL_MAP)"
   ],
   "id": "dda7d75da3b11d2d",
   "outputs": [
    {
     "name": "stdout",
     "output_type": "stream",
     "text": [
      "[29, 26, 14, 20, 18, 19, 2, 1, 3, 22, 12, 4, 10, 11, 13, 15, 28, 30, 17, 16, 21, 8, 24, 6, 5, 32, 27, 33, 7, 34, 35, 25, 23, 0, 9, 31]\n"
     ]
    }
   ],
   "execution_count": 6
  },
  {
   "metadata": {
    "ExecuteTime": {
     "end_time": "2025-05-02T16:18:06.784633Z",
     "start_time": "2025-05-02T16:18:06.774150Z"
    }
   },
   "cell_type": "code",
   "source": [
    "def clean_data_source(source_path: Path, target_path: Path):\n",
    "    for label_file in (source_path / \"labels\").glob(\"*.txt\"):\n",
    "        image_file = source_path / \"images\" / f\"{label_file.stem}.jpg\"\n",
    "        if not image_file.exists():\n",
    "            print(label_file)\n",
    "            continue\n",
    "        with label_file.open(\"r\", encoding=\"utf-8\") as f:\n",
    "            labels = f.readlines()\n",
    "        labels = [label.split() for label in labels]\n",
    "        if all(int(label[0]) >= (len(LABEL_MAP)) for label in labels):\n",
    "            continue\n",
    "        labels = [\" \".join([str(LABEL_MAP[int(label[0])]), *label[1:]]) for label in labels if int(label[0]) < len(LABEL_MAP)]\n",
    "        images_dir = target_path / \"images\"\n",
    "        labels_dir = target_path / \"labels\"\n",
    "        images_dir.mkdir(exist_ok=True, parents=True)\n",
    "        labels_dir.mkdir(exist_ok=True)\n",
    "        with (labels_dir / label_file.name).open(\"w\", encoding=\"utf-8\") as f:\n",
    "            f.write(\"\\n\".join(labels))\n",
    "        shutil.copy(image_file, images_dir)"
   ],
   "id": "dff4a09f8d93387a",
   "outputs": [],
   "execution_count": 7
  },
  {
   "metadata": {
    "ExecuteTime": {
     "end_time": "2025-05-02T16:18:07.290713Z",
     "start_time": "2025-05-02T16:18:06.883799Z"
    }
   },
   "cell_type": "code",
   "source": "clean_data_source(source / \"validation\", target / \"valid\")",
   "id": "6843ff73041c90ba",
   "outputs": [],
   "execution_count": 8
  },
  {
   "metadata": {
    "ExecuteTime": {
     "end_time": "2025-05-02T16:18:08.599248Z",
     "start_time": "2025-05-02T16:18:07.306657Z"
    }
   },
   "cell_type": "code",
   "source": "clean_data_source(source / \"train\", target / \"train\")",
   "id": "d9a676500e31d38a",
   "outputs": [],
   "execution_count": 9
  },
  {
   "metadata": {},
   "cell_type": "markdown",
   "source": "## Square & resize images, adjust labels accordingly",
   "id": "3e5e1b4e90c4f61b"
  },
  {
   "metadata": {
    "ExecuteTime": {
     "end_time": "2025-05-02T16:37:32.027924Z",
     "start_time": "2025-05-02T16:37:32.018364Z"
    }
   },
   "cell_type": "code",
   "source": [
    "source = target\n",
    "target = ROOT / \"data\" / \"jass-yolov8-v20-formatted\""
   ],
   "id": "9ba605cab58eb01b",
   "outputs": [],
   "execution_count": 19
  },
  {
   "metadata": {
    "ExecuteTime": {
     "end_time": "2025-05-02T16:37:46.406397Z",
     "start_time": "2025-05-02T16:37:46.397725Z"
    }
   },
   "cell_type": "code",
   "source": "target.mkdir(exist_ok=True, parents=True)",
   "id": "ccc0385d6120d956",
   "outputs": [],
   "execution_count": 20
  },
  {
   "metadata": {
    "ExecuteTime": {
     "end_time": "2025-05-02T16:37:47.762220Z",
     "start_time": "2025-05-02T16:37:47.757227Z"
    }
   },
   "cell_type": "code",
   "source": "target_size = 640",
   "id": "b2b17a276e32da2",
   "outputs": [],
   "execution_count": 21
  },
  {
   "metadata": {
    "ExecuteTime": {
     "end_time": "2025-05-02T16:37:55.218549Z",
     "start_time": "2025-05-02T16:37:55.209709Z"
    }
   },
   "cell_type": "code",
   "source": [
    "def pad_to_square_and_resize(image):\n",
    "    h, w = image.shape[:2]\n",
    "    size = max(h, w)\n",
    "    top = (size - h) // 2\n",
    "    bottom = size - h - top\n",
    "    left = (size - w) // 2\n",
    "    right = size - w - left\n",
    "\n",
    "    padded_image = cv.copyMakeBorder(\n",
    "        image, top, bottom, left, right,\n",
    "        cv.BORDER_CONSTANT, value=(0, 0, 0)\n",
    "    )\n",
    "\n",
    "    resized_image = cv.resize(padded_image, (target_size, target_size), interpolation=cv.INTER_AREA)\n",
    "    return resized_image, w, h, left, top, size"
   ],
   "id": "9e7574fa0d9f00be",
   "outputs": [],
   "execution_count": 22
  },
  {
   "metadata": {
    "ExecuteTime": {
     "end_time": "2025-05-02T16:37:56.020742Z",
     "start_time": "2025-05-02T16:37:56.011977Z"
    }
   },
   "cell_type": "code",
   "source": [
    "def adjust_labels(label_path, orig_w, orig_h, pad_left, pad_top, padded_size):\n",
    "    new_lines = []\n",
    "    with label_path.open('r') as file:\n",
    "        for line in file:\n",
    "            cls, x, y, w, h = map(float, line.strip().split())\n",
    "\n",
    "            x_abs = x * orig_w + pad_left\n",
    "            y_abs = y * orig_h + pad_top\n",
    "            w_abs = w * orig_w\n",
    "            h_abs = h * orig_h\n",
    "\n",
    "            x_new = x_abs / padded_size\n",
    "            y_new = y_abs / padded_size\n",
    "            w_new = w_abs / padded_size\n",
    "            h_new = h_abs / padded_size\n",
    "\n",
    "            new_lines.append(f\"{int(cls)} {x_new:.6f} {y_new:.6f} {w_new:.6f} {h_new:.6f}\")\n",
    "    return new_lines"
   ],
   "id": "442b76768390f14b",
   "outputs": [],
   "execution_count": 23
  },
  {
   "metadata": {
    "ExecuteTime": {
     "end_time": "2025-05-02T16:38:21.003378Z",
     "start_time": "2025-05-02T16:38:20.989422Z"
    }
   },
   "cell_type": "code",
   "source": [
    "def format_data_source(source_path: Path, target_path: Path):\n",
    "    images_dir = target_path / \"images\"\n",
    "    labels_dir = target_path / \"labels\"\n",
    "    images_dir.mkdir(exist_ok=True, parents=True)\n",
    "    labels_dir.mkdir(exist_ok=True)\n",
    "    for image_file in (source_path / \"images\").glob(\"*.jpg\"):\n",
    "        label_file = source_path / \"labels\" / f\"{image_file.stem}.txt\"\n",
    "        \n",
    "        image = cv.imread(image_file)\n",
    "        image, w, h, l, t, p = pad_to_square_and_resize(image)\n",
    "        cv.imwrite(images_dir / image_file.name, image)\n",
    "        \n",
    "        labels = adjust_labels(label_file, w, h, l, t, p)\n",
    "        with open(labels_dir / label_file.name, 'w') as f:\n",
    "            f.write('\\n'.join(labels))"
   ],
   "id": "85c1be1aea606f64",
   "outputs": [],
   "execution_count": 24
  },
  {
   "metadata": {
    "ExecuteTime": {
     "end_time": "2025-05-02T16:38:27.583206Z",
     "start_time": "2025-05-02T16:38:22.195860Z"
    }
   },
   "cell_type": "code",
   "source": "format_data_source(source / \"valid\", target / \"valid\")",
   "id": "b6e828221f3913af",
   "outputs": [],
   "execution_count": 25
  },
  {
   "metadata": {
    "ExecuteTime": {
     "end_time": "2025-05-02T16:45:50.753574Z",
     "start_time": "2025-05-02T16:45:32.841720Z"
    }
   },
   "cell_type": "code",
   "source": "format_data_source(source / \"train\", target / \"train\")",
   "id": "c018e48f6812d5f4",
   "outputs": [],
   "execution_count": 26
  }
 ],
 "metadata": {
  "kernelspec": {
   "display_name": "Python 3",
   "language": "python",
   "name": "python3"
  },
  "language_info": {
   "codemirror_mode": {
    "name": "ipython",
    "version": 2
   },
   "file_extension": ".py",
   "mimetype": "text/x-python",
   "name": "python",
   "nbconvert_exporter": "python",
   "pygments_lexer": "ipython2",
   "version": "2.7.6"
  }
 },
 "nbformat": 4,
 "nbformat_minor": 5
}
