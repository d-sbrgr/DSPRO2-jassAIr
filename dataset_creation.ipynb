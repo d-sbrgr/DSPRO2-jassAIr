{
 "cells": [
  {
   "cell_type": "code",
   "id": "initial_id",
   "metadata": {
    "collapsed": true,
    "ExecuteTime": {
     "end_time": "2025-03-23T19:53:02.129005Z",
     "start_time": "2025-03-23T19:53:02.120502Z"
    }
   },
   "source": [
    "import cv2\n",
    "import numpy as np\n",
    "import random\n",
    "import time\n",
    "from pathlib import Path\n",
    "from jassair.utils.paths import get_data_path, get_dataset_path, Datasets\n",
    "from shapely.geometry import Polygon\n",
    "from shapely.affinity import rotate, translate\n",
    "from matplotlib import pyplot as plt\n",
    "from typing import List"
   ],
   "outputs": [],
   "execution_count": 4
  },
  {
   "metadata": {
    "ExecuteTime": {
     "end_time": "2025-03-23T19:53:02.150181Z",
     "start_time": "2025-03-23T19:53:02.136532Z"
    }
   },
   "cell_type": "code",
   "source": [
    "class Card:\n",
    "    def __init__(self, img, label):\n",
    "        self.img = img\n",
    "        self.label = label  # [label_id, x_centre, y_centre, width in %, height in %] yolo11\n",
    "        self.rot_img = None\n",
    "        self.rot = None\n",
    "        self.centre_x = None\n",
    "        self.centre_y = None\n",
    "        self.poly = None\n",
    "        self.mask = None\n",
    "        \n",
    "    def calc_area(self):\n",
    "        return self.img.shape[0] * self.img.shape[1]\n",
    "    \n",
    "    def initial_polygon(self):\n",
    "        y_max = self.img.shape[0]\n",
    "        x_max = self.img.shape[1]\n",
    "        self.poly = Polygon([(0, 0), (x_max, 0), (x_max, y_max), (0, y_max)])\n",
    "        \n",
    "    def calc_mask(self):\n",
    "        mask = np.zeros(self.rot_img.shape[:2], dtype=np.uint8)\n",
    "        coords = np.array(self.poly.exterior.coords).round().astype(np.int32)\n",
    "        cv2.fillPoly(mask, [coords], 255)\n",
    "        self.mask = mask\n",
    "        \n",
    "    def get_label_string(self):\n",
    "        return ' '.join(str(x) for x in self.label)\n",
    "        \n",
    "        \n",
    "    def plot_mask(self):\n",
    "        if self.mask is not None:\n",
    "            plt.imshow(self.mask, cmap='gray')\n",
    "            plt.show()\n",
    "            \n",
    "    def plot(self):\n",
    "        if self.rot_img is None:\n",
    "            img_rgb = cv2.cvtColor(self.img, cv2.COLOR_BGR2RGB)\n",
    "        else:\n",
    "            img_rgb = cv2.cvtColor(self.rot_img, cv2.COLOR_BGR2RGB)\n",
    "        plt.imshow(img_rgb)\n",
    "        plt.axis(\"on\")\n",
    "        plt.show()"
   ],
   "id": "2436d1d73f7c5645",
   "outputs": [],
   "execution_count": 5
  },
  {
   "metadata": {
    "ExecuteTime": {
     "end_time": "2025-03-23T19:53:02.164507Z",
     "start_time": "2025-03-23T19:53:02.158777Z"
    }
   },
   "cell_type": "code",
   "source": [
    "def get_data_creation_paths() -> tuple[Path, Path, Path]:\n",
    "    \"\"\"Returns the path for the image folder, image labels and background images.\"\"\"\n",
    "    dataset = Datasets.SWISS\n",
    "    dataset_path = get_dataset_path(dataset)\n",
    "    data_path = get_data_path()\n",
    "    c_images_folder = dataset_path / \"test\" / \"images\"\n",
    "    c_labels_folder = dataset_path / \"test\" / \"labels\"\n",
    "    b_images_folder = data_path / \"background_images\"\n",
    "    return c_images_folder, c_labels_folder, b_images_folder"
   ],
   "id": "7b950b9f12947e3a",
   "outputs": [],
   "execution_count": 6
  },
  {
   "metadata": {
    "ExecuteTime": {
     "end_time": "2025-03-23T19:53:02.179783Z",
     "start_time": "2025-03-23T19:53:02.171993Z"
    }
   },
   "cell_type": "code",
   "source": [
    "def smart_cast(x: str):\n",
    "    return int(x) if x.isdigit() else float(x)"
   ],
   "id": "f8e14307c46ea331",
   "outputs": [],
   "execution_count": 7
  },
  {
   "metadata": {
    "ExecuteTime": {
     "end_time": "2025-03-23T19:53:02.194654Z",
     "start_time": "2025-03-23T19:53:02.187342Z"
    }
   },
   "cell_type": "code",
   "source": [
    "def get_card_list(ci_folder: Path, cl_folder: Path) -> List[Card]:\n",
    "    card_list = []\n",
    "    \n",
    "    for image_file in ci_folder.glob(\"*.jpg\"):\n",
    "        label_file = cl_folder / (image_file.stem + \".txt\")\n",
    "        \n",
    "        img = cv2.imread(str(image_file))\n",
    "        if img is None:\n",
    "            print(f\"Image not found: {image_file}\")\n",
    "            continue\n",
    "            \n",
    "        if label_file.exists():\n",
    "            label = label_file.read_text(encoding=\"utf-8\").strip()\n",
    "            label_list = [smart_cast(x) for x in label.split()]\n",
    "        else:\n",
    "            print(f\"Label not found: {image_file.name}\")\n",
    "            label_list = \"\"\n",
    "            \n",
    "        card = Card(img, label_list)\n",
    "        card_list.append(card)\n",
    "        \n",
    "    return card_list"
   ],
   "id": "e081dfe1c3ec09aa",
   "outputs": [],
   "execution_count": 8
  },
  {
   "metadata": {
    "ExecuteTime": {
     "end_time": "2025-03-23T19:53:02.236220Z",
     "start_time": "2025-03-23T19:53:02.231623Z"
    }
   },
   "cell_type": "code",
   "source": [
    "def get_background_images(bgi_folder: Path) -> List[np.ndarray]:\n",
    "    background_img_list = []\n",
    "    \n",
    "    for image_file in bgi_folder.iterdir():\n",
    "        background_img_list.append(cv2.imread(str(image_file)))\n",
    "    return background_img_list"
   ],
   "id": "cf5376385af87df5",
   "outputs": [],
   "execution_count": 9
  },
  {
   "metadata": {
    "ExecuteTime": {
     "end_time": "2025-03-23T19:53:02.257710Z",
     "start_time": "2025-03-23T19:53:02.251823Z"
    }
   },
   "cell_type": "code",
   "source": [
    "def choose_n_random_cards(n: int, card_list: List[Card]) -> List[Card]:\n",
    "    # no duplicates\n",
    "    return random.sample(card_list, n)\n",
    "\n",
    "def choose_random_background(background_list: List[np.ndarray]) -> np.ndarray:\n",
    "    return random.choice(background_list)"
   ],
   "id": "86688a348d23f944",
   "outputs": [],
   "execution_count": 10
  },
  {
   "metadata": {
    "ExecuteTime": {
     "end_time": "2025-03-23T19:53:02.267052Z",
     "start_time": "2025-03-23T19:53:02.257710Z"
    }
   },
   "cell_type": "code",
   "source": [
    "def calc_cards_area(random_card_list: List[Card]) -> int:\n",
    "    area = 0.0\n",
    "    for card in random_card_list:\n",
    "        area += card.calc_area()\n",
    "    return int(area)"
   ],
   "id": "1e26d3aff436fb77",
   "outputs": [],
   "execution_count": 11
  },
  {
   "metadata": {
    "ExecuteTime": {
     "end_time": "2025-03-23T19:53:02.282352Z",
     "start_time": "2025-03-23T19:53:02.274629Z"
    }
   },
   "cell_type": "code",
   "source": [
    "def scale_cards(rnd_card_list: List[Card], bg_img: np.ndarray, percentage_background: float, card_size_range: float) -> bool:\n",
    "    max_card_area = (1 - percentage_background) * (bg_img.shape[0] * bg_img.shape[1])\n",
    "    card_area = calc_cards_area(rnd_card_list)\n",
    "    scale_factor = max_card_area / card_area\n",
    "    min_scale = scale_factor * card_size_range\n",
    "    \n",
    "    for card in rnd_card_list:\n",
    "        img = card.img\n",
    "        scale = random.uniform(min_scale, scale_factor)\n",
    "        \n",
    "        new_width = int(img.shape[1] * (scale ** (1/2)))\n",
    "        new_height = int(img.shape[0] * (scale ** (1/2)))\n",
    "        new_size = (new_width, new_height)\n",
    "        \n",
    "        if new_width < 20 or new_height < 20:\n",
    "            print('Card is to small after scaling')\n",
    "            return False\n",
    "\n",
    "        if scale < 1:\n",
    "            new_card_img = cv2.resize(img, new_size, interpolation=cv2.INTER_AREA)\n",
    "        else:\n",
    "            new_card_img = img\n",
    "            \n",
    "        card.img = new_card_img\n",
    "        card.initial_polygon()\n",
    "    return True"
   ],
   "id": "4af7bcc78ec5eeba",
   "outputs": [],
   "execution_count": 12
  },
  {
   "metadata": {
    "ExecuteTime": {
     "end_time": "2025-03-23T19:53:02.296335Z",
     "start_time": "2025-03-23T19:53:02.289008Z"
    }
   },
   "cell_type": "code",
   "source": [
    "def flip_y(polygon: Polygon, image_height: int) -> Polygon:\n",
    "    flipped_coords = [(x, image_height - y) for x, y in polygon.exterior.coords]\n",
    "    return Polygon(flipped_coords)\n",
    "\n",
    "def rotate_card(card: Card, angle: float) -> None:\n",
    "    image = card.img\n",
    "    card.rot = angle\n",
    "    (h, w) = image.shape[:2]\n",
    "    center = (w // 2, h // 2)\n",
    "\n",
    "    M = cv2.getRotationMatrix2D(center, angle, 1.0)\n",
    "\n",
    "    cos = np.abs(M[0, 0])\n",
    "    sin = np.abs(M[0, 1])\n",
    "    new_w = int((h * sin) + (w * cos))\n",
    "    new_h = int((h * cos) + (w * sin))\n",
    "\n",
    "    tx = (new_w / 2) - center[0]\n",
    "    ty = (new_h / 2) - center[1]\n",
    "    M[0, 2] += tx\n",
    "    M[1, 2] += ty\n",
    "\n",
    "    rotated = cv2.warpAffine(image, M, (new_w, new_h), flags=cv2.INTER_LINEAR, borderMode=cv2.BORDER_CONSTANT, borderValue=(0,0,0,0))\n",
    "    card.rot_img = rotated\n",
    "\n",
    "    r_poly = rotate(card.poly, angle, origin=center)\n",
    "    t_poly = translate(r_poly, xoff=tx, yoff=ty)\n",
    "    card.poly = flip_y(t_poly, int(card.rot_img.shape[0]))"
   ],
   "id": "4b265bb8b907ad9c",
   "outputs": [],
   "execution_count": 13
  },
  {
   "metadata": {
    "ExecuteTime": {
     "end_time": "2025-03-23T19:53:02.309347Z",
     "start_time": "2025-03-23T19:53:02.303530Z"
    }
   },
   "cell_type": "code",
   "source": [
    "def cards_random_rotation(card_list: List[Card], min_rotation: float, max_rotation: float) -> None:\n",
    "    \n",
    "    for card in card_list:\n",
    "        rot = random.uniform(min_rotation, max_rotation)\n",
    "        rotate_card(card, int(rot))"
   ],
   "id": "bcd402fc36d7a4d6",
   "outputs": [],
   "execution_count": 14
  },
  {
   "metadata": {
    "ExecuteTime": {
     "end_time": "2025-03-23T19:53:02.321154Z",
     "start_time": "2025-03-23T19:53:02.315420Z"
    }
   },
   "cell_type": "code",
   "source": [
    "def move_polygon_centroid_to(polygon, target_x, target_y):\n",
    "    centroid = polygon.centroid\n",
    "    dx = target_x - centroid.x\n",
    "    dy = target_y - centroid.y\n",
    "    return translate(polygon, xoff=dx, yoff=dy)"
   ],
   "id": "8b6624879acc77ee",
   "outputs": [],
   "execution_count": 15
  },
  {
   "metadata": {
    "ExecuteTime": {
     "end_time": "2025-03-23T19:53:02.332958Z",
     "start_time": "2025-03-23T19:53:02.327590Z"
    }
   },
   "cell_type": "code",
   "source": [
    "def is_overlapping_poly(poly_list: List[Polygon], polygon: Polygon) -> bool:\n",
    "    for poly in poly_list:\n",
    "        if poly.intersects(polygon):\n",
    "            return True\n",
    "    return False"
   ],
   "id": "d8092155cdc2f2de",
   "outputs": [],
   "execution_count": 16
  },
  {
   "metadata": {
    "ExecuteTime": {
     "end_time": "2025-03-23T19:53:02.349535Z",
     "start_time": "2025-03-23T19:53:02.341264Z"
    }
   },
   "cell_type": "code",
   "source": [
    "def define_random_positions_time_stop(card_list: List[Card], background: np.ndarray, time_break: float) -> bool:\n",
    "    \"\"\"Defines a random position for each card and sets this position for the label. If it takes longer to define\n",
    "    random position without overlapping cards, the function will stop and returns False.\"\"\"\n",
    "    bg_x, bg_y = background.shape[1], background.shape[0]\n",
    "    poly_list = []\n",
    "    xs = []\n",
    "    ys = []\n",
    "    start_time = time.time()\n",
    "    \n",
    "    remove_index = []\n",
    "    # define random position\n",
    "    # if the card has no space (rotation), then the card will remove\n",
    "    for i, card in enumerate(card_list):\n",
    "        c_x, c_y = card.rot_img.shape[1] // 2, card.rot_img.shape[0] // 2\n",
    "        c_poly = card.poly\n",
    "        \n",
    "        if c_x > bg_x - c_x or c_y > bg_y - c_y:\n",
    "            print('Card has no space and will be removed.')\n",
    "            remove_index.append(i)\n",
    "            continue\n",
    "        \n",
    "        x = random.randint(c_x, bg_x - c_x)\n",
    "        y = random.randint(c_y, bg_y - c_y)\n",
    "        new_poly = move_polygon_centroid_to(c_poly, x, y)\n",
    "        \n",
    "        while is_overlapping_poly(poly_list, new_poly):\n",
    "            x = random.randint(c_x, bg_x - c_x)\n",
    "            y = random.randint(c_y, bg_y - c_y)\n",
    "            new_poly = move_polygon_centroid_to(c_poly, x, y)\n",
    "            if time.time() - start_time > time_break:\n",
    "                return False\n",
    "            \n",
    "        poly_list.append(new_poly)\n",
    "        xs.append(x)\n",
    "        ys.append(y)\n",
    "        \n",
    "    # remove cards if necessary\n",
    "    for i in sorted(remove_index, reverse=True):\n",
    "        card_list.pop(i)\n",
    "        \n",
    "    # set attributes\n",
    "    for i, card in enumerate(card_list):\n",
    "        card.poly = poly_list[i]\n",
    "        card.centre_x = xs[i]\n",
    "        card.centre_y = ys[i]\n",
    "        card.label[1] = xs[i]\n",
    "        card.label[2] = ys[i]\n",
    "    return True"
   ],
   "id": "6d5b32117b2fb0c5",
   "outputs": [],
   "execution_count": 17
  },
  {
   "metadata": {
    "ExecuteTime": {
     "end_time": "2025-03-23T19:53:02.362627Z",
     "start_time": "2025-03-23T19:53:02.356117Z"
    }
   },
   "cell_type": "code",
   "source": [
    "def define_random_positions(card_list: List[Card], background: np.ndarray, time_break: float, max_tries: int) -> bool:\n",
    "    state = False\n",
    "    i = 0\n",
    "    while not state:\n",
    "        state = define_random_positions_time_stop(card_list, background, time_break)\n",
    "        i += 1\n",
    "        if i >= max_tries:\n",
    "            return False\n",
    "    return True"
   ],
   "id": "faf98736ed3c90ce",
   "outputs": [],
   "execution_count": 18
  },
  {
   "metadata": {
    "ExecuteTime": {
     "end_time": "2025-03-23T19:53:02.374979Z",
     "start_time": "2025-03-23T19:53:02.370262Z"
    }
   },
   "cell_type": "code",
   "source": [
    "def set_label_width_height(card_list: List[Card], background: np.ndarray) -> None:\n",
    "    bg_x, bg_y = background.shape[1], background.shape[0]\n",
    "    \n",
    "    for card in card_list:\n",
    "        c_x, c_y = card.rot_img.shape[1], card.rot_img.shape[0]\n",
    "        card.label[3] = c_x / bg_x\n",
    "        card.label[4] = c_y / bg_y"
   ],
   "id": "6fec5348ea619132",
   "outputs": [],
   "execution_count": 19
  },
  {
   "metadata": {
    "ExecuteTime": {
     "end_time": "2025-03-23T19:53:02.390783Z",
     "start_time": "2025-03-23T19:53:02.382222Z"
    }
   },
   "cell_type": "code",
   "source": [
    "def add_card_to_img(card: Card, img: np.ndarray) -> np.ndarray:\n",
    "    card_img = card.rot_img\n",
    "    mask = card.mask\n",
    "\n",
    "    c_h, c_w = mask.shape[0], mask.shape[1]\n",
    "    img_x_min = int(card.centre_x - c_w // 2)\n",
    "    img_x_max = img_x_min + c_w\n",
    "    img_y_min = int(card.centre_y - c_h // 2)\n",
    "    img_y_max = img_y_min + c_h\n",
    "\n",
    "    roi = img[img_y_min:img_y_max, img_x_min:img_x_max]\n",
    "    \n",
    "    h = min(mask.shape[0], card_img.shape[0], roi.shape[0])\n",
    "    w = min(mask.shape[1], card_img.shape[1], roi.shape[1])\n",
    "    mask = mask[:h, :w]\n",
    "    card_img = card_img[:h, :w, :]\n",
    "    roi = roi[:h, :w, :]\n",
    "\n",
    "    for color in range(3):\n",
    "        roi[:, :, color] = np.where(\n",
    "            mask == 255,\n",
    "            card_img[:, :, color],\n",
    "            roi[:, :, color]\n",
    "        )\n",
    "    img[img_y_min:img_y_max, img_x_min:img_x_max] = roi\n",
    "\n",
    "    return img"
   ],
   "id": "8ae93ce9e720285d",
   "outputs": [],
   "execution_count": 20
  },
  {
   "metadata": {
    "ExecuteTime": {
     "end_time": "2025-03-23T19:53:02.403978Z",
     "start_time": "2025-03-23T19:53:02.397922Z"
    }
   },
   "cell_type": "code",
   "source": [
    "def add_cards_to_background(card_list: List[Card], background: np.ndarray) -> np.ndarray:\n",
    "    img = background.copy()\n",
    "    for card in card_list:\n",
    "        img = add_card_to_img(card, img)\n",
    "    return img"
   ],
   "id": "75941bad2adaba7f",
   "outputs": [],
   "execution_count": 21
  },
  {
   "metadata": {
    "ExecuteTime": {
     "end_time": "2025-03-23T19:53:02.422452Z",
     "start_time": "2025-03-23T19:53:02.414652Z"
    }
   },
   "cell_type": "code",
   "source": [
    "def create_new_picture(card_list: List[Card], background_img_list: List[np.ndarray], max_cards: int, min_cards: int,\n",
    "                       min_percentage_background: float, max_percentage_background: float, card_size_range: float,\n",
    "                       min_rotation: float, max_rotation: float, time_break: float, max_tries: int) -> (np.ndarray, List[List[str]]):\n",
    "    \n",
    "    # random cards and background\n",
    "    n = random.randint(min_cards, max_cards)\n",
    "    random_cards = choose_n_random_cards(n, card_list)\n",
    "    background = choose_random_background(background_img_list)\n",
    "    \n",
    "    # scale cards\n",
    "    percentage_background = random.uniform(min_percentage_background, max_percentage_background)\n",
    "    status = scale_cards(random_cards, background, percentage_background, card_size_range)\n",
    "    if not status:\n",
    "        return None, None\n",
    "    \n",
    "    # rotate cards\n",
    "    cards_random_rotation(random_cards, min_rotation, max_rotation)\n",
    "    \n",
    "    # create mask for each card (binary mask to decide which pixel to the background)\n",
    "    for card in random_cards:\n",
    "        card.calc_mask()\n",
    "    \n",
    "    # define for each card a position without overlapping and set the label x and y for each card\n",
    "    status = define_random_positions(random_cards, background, time_break, max_tries)\n",
    "    if not status:\n",
    "        return None, None\n",
    "    \n",
    "    # set the label width and height for each card\n",
    "    set_label_width_height(random_cards, background)\n",
    "    \n",
    "    # add every card to the background image\n",
    "    random_img = add_cards_to_background(random_cards, background)\n",
    "    \n",
    "    img_label = []\n",
    "    # create_label\n",
    "    for card in random_cards:\n",
    "        c_label = card.get_label_string()\n",
    "        img_label.append([c_label])\n",
    "    \n",
    "    return random_img, img_label"
   ],
   "id": "707547abf418af1c",
   "outputs": [],
   "execution_count": 22
  },
  {
   "metadata": {
    "ExecuteTime": {
     "end_time": "2025-03-23T19:53:02.438035Z",
     "start_time": "2025-03-23T19:53:02.433307Z"
    }
   },
   "cell_type": "code",
   "source": [
    "def label_to_txt(label_list: List[List[str]], file_path: str) -> None:\n",
    "    with open(file_path, \"w\") as f:\n",
    "        for row in label_list:\n",
    "            f.write(row[0].strip() + \"\\n\")"
   ],
   "id": "402ee50dd76d676b",
   "outputs": [],
   "execution_count": 23
  },
  {
   "metadata": {
    "ExecuteTime": {
     "end_time": "2025-03-23T19:53:02.453190Z",
     "start_time": "2025-03-23T19:53:02.444849Z"
    }
   },
   "cell_type": "code",
   "source": [
    "def img_to_jpg(img: np.ndarray, file_path: str) -> None:\n",
    "    cv2.imwrite(file_path, img)"
   ],
   "id": "2b68f2946be91fae",
   "outputs": [],
   "execution_count": 24
  },
  {
   "metadata": {
    "ExecuteTime": {
     "end_time": "2025-03-23T19:53:02.478197Z",
     "start_time": "2025-03-23T19:53:02.473595Z"
    }
   },
   "cell_type": "code",
   "source": [
    "def plot_img(image):\n",
    "        img_rgb = cv2.cvtColor(image, cv2.COLOR_BGR2RGB)\n",
    "        plt.imshow(img_rgb)\n",
    "        plt.axis(\"on\")\n",
    "        plt.show()"
   ],
   "id": "7eab26d848d0ec59",
   "outputs": [],
   "execution_count": 25
  },
  {
   "metadata": {
    "ExecuteTime": {
     "end_time": "2025-03-23T19:53:02.497698Z",
     "start_time": "2025-03-23T19:53:02.484583Z"
    }
   },
   "cell_type": "code",
   "source": [
    "def generate_images(max_cards: int, min_cards: int, min_percentage_background: float, max_percentage_background: float,\n",
    "                    card_size_range: float, min_rotation: float, max_rotation: float, time_break: float, number_train: int,\n",
    "                    number_valid: int, number_test: int, max_tries: int, name_dataset: str) -> None:\n",
    "    \n",
    "    # create folders\n",
    "    data_path = get_data_path()\n",
    "    dataset_folder = data_path / name_dataset\n",
    "    dataset_folder.mkdir(parents=True, exist_ok=True)\n",
    "    \n",
    "    train_folder = dataset_folder / \"train\"\n",
    "    valid_folder = dataset_folder / \"valid\"\n",
    "    test_folder = dataset_folder / \"test\"\n",
    "    train_folder.mkdir(parents=True, exist_ok=True)\n",
    "    valid_folder.mkdir(parents=True, exist_ok=True)\n",
    "    test_folder.mkdir(parents=True, exist_ok=True)\n",
    "    \n",
    "    img_train_folder = train_folder / \"images\"\n",
    "    label_train_folder = train_folder / \"labels\"\n",
    "    img_train_folder.mkdir(parents=True, exist_ok=True)\n",
    "    label_train_folder.mkdir(parents=True, exist_ok=True)\n",
    "    \n",
    "    img_valid_folder = valid_folder / \"images\"\n",
    "    label_valid_folder = valid_folder / \"labels\"\n",
    "    img_valid_folder.mkdir(parents=True, exist_ok=True)\n",
    "    label_valid_folder.mkdir(parents=True, exist_ok=True)\n",
    "    \n",
    "    img_test_folder = test_folder / \"images\"\n",
    "    label_test_folder = test_folder / \"labels\"\n",
    "    img_test_folder.mkdir(parents=True, exist_ok=True)\n",
    "    label_test_folder.mkdir(parents=True, exist_ok=True)\n",
    "    \n",
    "    # get all data to choose\n",
    "    cif, clf, bf = get_data_creation_paths()\n",
    "    all_cards = get_card_list(cif, clf)\n",
    "    bg_img_list = get_background_images(bf)\n",
    "    \n",
    "    # create train images and labels\n",
    "    for i in range(number_train):\n",
    "        print(f\"Picture train_{i} is generating\")\n",
    "        new_img, label = create_new_picture(all_cards, bg_img_list, max_cards, min_cards, min_percentage_background,\n",
    "                                            max_percentage_background, card_size_range, min_rotation, max_rotation,\n",
    "                                            time_break, max_tries)\n",
    "        \n",
    "        if new_img is None:\n",
    "            continue\n",
    "            \n",
    "        file_name = f\"train_{i}\"\n",
    "        img_path = img_train_folder / file_name\n",
    "        txt_path = label_train_folder / file_name\n",
    "        img_file_path = f\"{img_path}.jpg\"\n",
    "        txt_file_path = f\"{txt_path}.txt\"\n",
    "        \n",
    "        img_to_jpg(new_img, img_file_path)\n",
    "        label_to_txt(label, txt_file_path)\n",
    "        \n",
    "    # create valid images and labels\n",
    "    for i in range(number_valid):\n",
    "        print(f\"Picture valid_{i} is generating\")\n",
    "        new_img, label = create_new_picture(all_cards, bg_img_list, max_cards, min_cards, min_percentage_background,\n",
    "                                            max_percentage_background, card_size_range, min_rotation, max_rotation,\n",
    "                                            time_break, max_tries)\n",
    "        \n",
    "        if new_img is None:\n",
    "            continue\n",
    "            \n",
    "        file_name = f\"valid_{i}\"\n",
    "        img_path = img_valid_folder / file_name\n",
    "        txt_path = label_valid_folder / file_name\n",
    "        img_file_path = f\"{img_path}.jpg\"\n",
    "        txt_file_path = f\"{txt_path}.txt\"\n",
    "        \n",
    "        img_to_jpg(new_img, img_file_path)\n",
    "        label_to_txt(label, txt_file_path)\n",
    "        \n",
    "    # create test images and labels\n",
    "    for i in range(number_test):\n",
    "        print(f\"Picture test_{i} is generating\")\n",
    "        new_img, label = create_new_picture(all_cards, bg_img_list, max_cards, min_cards, min_percentage_background,\n",
    "                                            max_percentage_background, card_size_range, min_rotation, max_rotation,\n",
    "                                            time_break, max_tries)\n",
    "        if new_img is None:\n",
    "            continue\n",
    "        file_name = f\"test_{i}\"\n",
    "        img_path = img_test_folder / file_name\n",
    "        txt_path = label_test_folder / file_name\n",
    "        img_file_path = f\"{img_path}.jpg\"\n",
    "        txt_file_path = f\"{txt_path}.txt\"\n",
    "        \n",
    "        img_to_jpg(new_img, img_file_path)\n",
    "        label_to_txt(label, txt_file_path)"
   ],
   "id": "160494c432bc215b",
   "outputs": [],
   "execution_count": 26
  },
  {
   "metadata": {
    "ExecuteTime": {
     "end_time": "2025-03-23T19:53:02.511550Z",
     "start_time": "2025-03-23T19:53:02.505283Z"
    }
   },
   "cell_type": "code",
   "source": [
    "max_c = 6 # max amount of cards in picture\n",
    "min_c = 3 # min amount of cards in picture\n",
    "min_pbg = 0.6  # min value for background area in percent\n",
    "max_pbg = 0.75  # max value for background area in percent\n",
    "csr = 0.99  # max difference of size between the cards\n",
    "min_rot = -90\n",
    "max_rot = 90\n",
    "tb = 0.5  # max time in sec to find random positions for all cards\n",
    "n_train = 0 # amount of pictures and labels in train set\n",
    "n_valid = 0 # amount of pictures and labels in valid set\n",
    "n_test = 10 # amount of pictures and labels in test set\n",
    "max_t = 5 # max_tries to find a position\n",
    "name = 'data_v2.0'"
   ],
   "id": "f43738877ef823c0",
   "outputs": [],
   "execution_count": 27
  },
  {
   "metadata": {
    "ExecuteTime": {
     "end_time": "2025-03-23T19:53:03.518525Z",
     "start_time": "2025-03-23T19:53:02.522864Z"
    }
   },
   "cell_type": "code",
   "source": "generate_images(max_c, min_c, min_pbg, max_pbg, csr, min_rot, max_rot, tb, n_train, n_valid, n_test, max_t, name)",
   "id": "3f062e68917fdd76",
   "outputs": [
    {
     "name": "stdout",
     "output_type": "stream",
     "text": [
      "Picture test_0 is generating\n",
      "Picture test_1 is generating\n",
      "Picture test_2 is generating\n",
      "Picture test_3 is generating\n",
      "Picture test_4 is generating\n",
      "Picture test_5 is generating\n",
      "Picture test_6 is generating\n",
      "Picture test_7 is generating\n",
      "Picture test_8 is generating\n",
      "Picture test_9 is generating\n"
     ]
    }
   ],
   "execution_count": 28
  },
  {
   "metadata": {
    "ExecuteTime": {
     "end_time": "2025-03-23T19:53:03.594412Z",
     "start_time": "2025-03-23T19:53:03.582887Z"
    }
   },
   "cell_type": "code",
   "source": "",
   "id": "a92525b6c16c4cdb",
   "outputs": [],
   "execution_count": null
  }
 ],
 "metadata": {
  "kernelspec": {
   "display_name": "Python 3.12",
   "language": "python",
   "name": "python312"
  },
  "language_info": {
   "codemirror_mode": {
    "name": "ipython",
    "version": 2
   },
   "file_extension": ".py",
   "mimetype": "text/x-python",
   "name": "python",
   "nbconvert_exporter": "python",
   "pygments_lexer": "ipython2",
   "version": "2.7.6"
  }
 },
 "nbformat": 4,
 "nbformat_minor": 5
}
