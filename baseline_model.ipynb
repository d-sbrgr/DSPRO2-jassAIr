{
 "cells": [
  {
   "metadata": {},
   "cell_type": "markdown",
   "source": "## Install dependencies",
   "id": "c0146f1718ad0e3d"
  },
  {
   "cell_type": "code",
   "id": "initial_id",
   "metadata": {
    "collapsed": true,
    "ExecuteTime": {
     "end_time": "2025-03-25T18:29:55.594719Z",
     "start_time": "2025-03-25T18:28:17.204978Z"
    }
   },
   "source": "%pip install lightning wandb torchvision",
   "outputs": [
    {
     "name": "stdout",
     "output_type": "stream",
     "text": [
      "Collecting lightning\n",
      "  Downloading lightning-2.5.1-py3-none-any.whl.metadata (39 kB)\n",
      "Collecting wandb\n",
      "  Downloading wandb-0.19.8-py3-none-win_amd64.whl.metadata (10 kB)\n",
      "Requirement already satisfied: torchvision in c:\\git\\dspro2-jassair\\.env3\\lib\\site-packages (0.21.0)\n",
      "Requirement already satisfied: PyYAML<8.0,>=5.4 in c:\\git\\dspro2-jassair\\.env3\\lib\\site-packages (from lightning) (6.0.2)\n",
      "Requirement already satisfied: fsspec<2026.0,>=2022.5.0 in c:\\git\\dspro2-jassair\\.env3\\lib\\site-packages (from fsspec[http]<2026.0,>=2022.5.0->lightning) (2025.3.0)\n",
      "Collecting lightning-utilities<2.0,>=0.10.0 (from lightning)\n",
      "  Downloading lightning_utilities-0.14.2-py3-none-any.whl.metadata (5.6 kB)\n",
      "Requirement already satisfied: packaging<25.0,>=20.0 in c:\\git\\dspro2-jassair\\.env3\\lib\\site-packages (from lightning) (24.2)\n",
      "Requirement already satisfied: torch<4.0,>=2.1.0 in c:\\git\\dspro2-jassair\\.env3\\lib\\site-packages (from lightning) (2.6.0)\n",
      "Collecting torchmetrics<3.0,>=0.7.0 (from lightning)\n",
      "  Downloading torchmetrics-1.7.0-py3-none-any.whl.metadata (21 kB)\n",
      "Requirement already satisfied: tqdm<6.0,>=4.57.0 in c:\\git\\dspro2-jassair\\.env3\\lib\\site-packages (from lightning) (4.67.1)\n",
      "Requirement already satisfied: typing-extensions<6.0,>=4.4.0 in c:\\git\\dspro2-jassair\\.env3\\lib\\site-packages (from lightning) (4.12.2)\n",
      "Collecting pytorch-lightning (from lightning)\n",
      "  Downloading pytorch_lightning-2.5.1-py3-none-any.whl.metadata (20 kB)\n",
      "Collecting click!=8.0.0,>=7.1 (from wandb)\n",
      "  Using cached click-8.1.8-py3-none-any.whl.metadata (2.3 kB)\n",
      "Collecting docker-pycreds>=0.4.0 (from wandb)\n",
      "  Using cached docker_pycreds-0.4.0-py2.py3-none-any.whl.metadata (1.8 kB)\n",
      "Collecting gitpython!=3.1.29,>=1.0.0 (from wandb)\n",
      "  Using cached GitPython-3.1.44-py3-none-any.whl.metadata (13 kB)\n",
      "Requirement already satisfied: platformdirs in c:\\git\\dspro2-jassair\\.env3\\lib\\site-packages (from wandb) (4.3.6)\n",
      "Collecting protobuf!=4.21.0,!=5.28.0,<6,>=3.19.0 (from wandb)\n",
      "  Downloading protobuf-5.29.4-cp310-abi3-win_amd64.whl.metadata (592 bytes)\n",
      "Requirement already satisfied: psutil>=5.0.0 in c:\\git\\dspro2-jassair\\.env3\\lib\\site-packages (from wandb) (7.0.0)\n",
      "Collecting pydantic<3,>=2.6 (from wandb)\n",
      "  Using cached pydantic-2.10.6-py3-none-any.whl.metadata (30 kB)\n",
      "Requirement already satisfied: requests<3,>=2.0.0 in c:\\git\\dspro2-jassair\\.env3\\lib\\site-packages (from wandb) (2.32.3)\n",
      "Collecting sentry-sdk>=2.0.0 (from wandb)\n",
      "  Downloading sentry_sdk-2.24.1-py2.py3-none-any.whl.metadata (10 kB)\n",
      "Collecting setproctitle (from wandb)\n",
      "  Downloading setproctitle-1.3.5-cp312-cp312-win_amd64.whl.metadata (10 kB)\n",
      "Requirement already satisfied: setuptools in c:\\git\\dspro2-jassair\\.env3\\lib\\site-packages (from wandb) (76.0.0)\n",
      "Requirement already satisfied: numpy in c:\\git\\dspro2-jassair\\.env3\\lib\\site-packages (from torchvision) (2.2.4)\n",
      "Requirement already satisfied: pillow!=8.3.*,>=5.3.0 in c:\\git\\dspro2-jassair\\.env3\\lib\\site-packages (from torchvision) (11.1.0)\n",
      "Requirement already satisfied: filelock in c:\\git\\dspro2-jassair\\.env3\\lib\\site-packages (from torch<4.0,>=2.1.0->lightning) (3.18.0)\n",
      "Requirement already satisfied: networkx in c:\\git\\dspro2-jassair\\.env3\\lib\\site-packages (from torch<4.0,>=2.1.0->lightning) (3.4.2)\n",
      "Requirement already satisfied: jinja2 in c:\\git\\dspro2-jassair\\.env3\\lib\\site-packages (from torch<4.0,>=2.1.0->lightning) (3.1.6)\n",
      "Requirement already satisfied: sympy==1.13.1 in c:\\git\\dspro2-jassair\\.env3\\lib\\site-packages (from torch<4.0,>=2.1.0->lightning) (1.13.1)\n",
      "Requirement already satisfied: mpmath<1.4,>=1.1.0 in c:\\git\\dspro2-jassair\\.env3\\lib\\site-packages (from sympy==1.13.1->torch<4.0,>=2.1.0->lightning) (1.3.0)\n",
      "Requirement already satisfied: colorama in c:\\git\\dspro2-jassair\\.env3\\lib\\site-packages (from click!=8.0.0,>=7.1->wandb) (0.4.6)\n",
      "Requirement already satisfied: six>=1.4.0 in c:\\git\\dspro2-jassair\\.env3\\lib\\site-packages (from docker-pycreds>=0.4.0->wandb) (1.17.0)\n",
      "Collecting aiohttp!=4.0.0a0,!=4.0.0a1 (from fsspec[http]<2026.0,>=2022.5.0->lightning)\n",
      "  Downloading aiohttp-3.11.14-cp312-cp312-win_amd64.whl.metadata (8.0 kB)\n",
      "Collecting gitdb<5,>=4.0.1 (from gitpython!=3.1.29,>=1.0.0->wandb)\n",
      "  Using cached gitdb-4.0.12-py3-none-any.whl.metadata (1.2 kB)\n",
      "Collecting annotated-types>=0.6.0 (from pydantic<3,>=2.6->wandb)\n",
      "  Using cached annotated_types-0.7.0-py3-none-any.whl.metadata (15 kB)\n",
      "Collecting pydantic-core==2.27.2 (from pydantic<3,>=2.6->wandb)\n",
      "  Using cached pydantic_core-2.27.2-cp312-cp312-win_amd64.whl.metadata (6.7 kB)\n",
      "Requirement already satisfied: charset-normalizer<4,>=2 in c:\\git\\dspro2-jassair\\.env3\\lib\\site-packages (from requests<3,>=2.0.0->wandb) (3.4.1)\n",
      "Requirement already satisfied: idna<4,>=2.5 in c:\\git\\dspro2-jassair\\.env3\\lib\\site-packages (from requests<3,>=2.0.0->wandb) (3.10)\n",
      "Requirement already satisfied: urllib3<3,>=1.21.1 in c:\\git\\dspro2-jassair\\.env3\\lib\\site-packages (from requests<3,>=2.0.0->wandb) (2.3.0)\n",
      "Requirement already satisfied: certifi>=2017.4.17 in c:\\git\\dspro2-jassair\\.env3\\lib\\site-packages (from requests<3,>=2.0.0->wandb) (2025.1.31)\n",
      "Collecting aiohappyeyeballs>=2.3.0 (from aiohttp!=4.0.0a0,!=4.0.0a1->fsspec[http]<2026.0,>=2022.5.0->lightning)\n",
      "  Downloading aiohappyeyeballs-2.6.1-py3-none-any.whl.metadata (5.9 kB)\n",
      "Collecting aiosignal>=1.1.2 (from aiohttp!=4.0.0a0,!=4.0.0a1->fsspec[http]<2026.0,>=2022.5.0->lightning)\n",
      "  Using cached aiosignal-1.3.2-py2.py3-none-any.whl.metadata (3.8 kB)\n",
      "Requirement already satisfied: attrs>=17.3.0 in c:\\git\\dspro2-jassair\\.env3\\lib\\site-packages (from aiohttp!=4.0.0a0,!=4.0.0a1->fsspec[http]<2026.0,>=2022.5.0->lightning) (25.3.0)\n",
      "Collecting frozenlist>=1.1.1 (from aiohttp!=4.0.0a0,!=4.0.0a1->fsspec[http]<2026.0,>=2022.5.0->lightning)\n",
      "  Using cached frozenlist-1.5.0-cp312-cp312-win_amd64.whl.metadata (14 kB)\n",
      "Collecting multidict<7.0,>=4.5 (from aiohttp!=4.0.0a0,!=4.0.0a1->fsspec[http]<2026.0,>=2022.5.0->lightning)\n",
      "  Downloading multidict-6.2.0-cp312-cp312-win_amd64.whl.metadata (5.1 kB)\n",
      "Collecting propcache>=0.2.0 (from aiohttp!=4.0.0a0,!=4.0.0a1->fsspec[http]<2026.0,>=2022.5.0->lightning)\n",
      "  Using cached propcache-0.3.0-cp312-cp312-win_amd64.whl.metadata (10 kB)\n",
      "Collecting yarl<2.0,>=1.17.0 (from aiohttp!=4.0.0a0,!=4.0.0a1->fsspec[http]<2026.0,>=2022.5.0->lightning)\n",
      "  Using cached yarl-1.18.3-cp312-cp312-win_amd64.whl.metadata (71 kB)\n",
      "Collecting smmap<6,>=3.0.1 (from gitdb<5,>=4.0.1->gitpython!=3.1.29,>=1.0.0->wandb)\n",
      "  Using cached smmap-5.0.2-py3-none-any.whl.metadata (4.3 kB)\n",
      "Requirement already satisfied: MarkupSafe>=2.0 in c:\\git\\dspro2-jassair\\.env3\\lib\\site-packages (from jinja2->torch<4.0,>=2.1.0->lightning) (3.0.2)\n",
      "Downloading lightning-2.5.1-py3-none-any.whl (818 kB)\n",
      "   ---------------------------------------- 0.0/818.9 kB ? eta -:--:--\n",
      "   ---------------------------------------- 818.9/818.9 kB 9.0 MB/s eta 0:00:00\n",
      "Downloading wandb-0.19.8-py3-none-win_amd64.whl (20.2 MB)\n",
      "   ---------------------------------------- 0.0/20.2 MB ? eta -:--:--\n",
      "   -------- ------------------------------- 4.5/20.2 MB 22.3 MB/s eta 0:00:01\n",
      "   ------------------- -------------------- 9.7/20.2 MB 23.2 MB/s eta 0:00:01\n",
      "   ---------------------------- ----------- 14.4/20.2 MB 23.2 MB/s eta 0:00:01\n",
      "   ----------------------------------- ---- 18.1/20.2 MB 22.4 MB/s eta 0:00:01\n",
      "   ---------------------------------------- 20.2/20.2 MB 19.6 MB/s eta 0:00:00\n",
      "Using cached click-8.1.8-py3-none-any.whl (98 kB)\n",
      "Using cached docker_pycreds-0.4.0-py2.py3-none-any.whl (9.0 kB)\n",
      "Using cached GitPython-3.1.44-py3-none-any.whl (207 kB)\n",
      "Downloading lightning_utilities-0.14.2-py3-none-any.whl (28 kB)\n",
      "Downloading protobuf-5.29.4-cp310-abi3-win_amd64.whl (434 kB)\n",
      "Using cached pydantic-2.10.6-py3-none-any.whl (431 kB)\n",
      "Using cached pydantic_core-2.27.2-cp312-cp312-win_amd64.whl (2.0 MB)\n",
      "Downloading sentry_sdk-2.24.1-py2.py3-none-any.whl (336 kB)\n",
      "Downloading torchmetrics-1.7.0-py3-none-any.whl (960 kB)\n",
      "   ---------------------------------------- 0.0/960.9 kB ? eta -:--:--\n",
      "   --------------------------------------- 960.9/960.9 kB 14.9 MB/s eta 0:00:00\n",
      "Downloading pytorch_lightning-2.5.1-py3-none-any.whl (822 kB)\n",
      "   ---------------------------------------- 0.0/823.0 kB ? eta -:--:--\n",
      "   ---------------------------------------- 823.0/823.0 kB 7.1 MB/s eta 0:00:00\n",
      "Downloading setproctitle-1.3.5-cp312-cp312-win_amd64.whl (12 kB)\n",
      "Downloading aiohttp-3.11.14-cp312-cp312-win_amd64.whl (438 kB)\n",
      "Using cached annotated_types-0.7.0-py3-none-any.whl (13 kB)\n",
      "Using cached gitdb-4.0.12-py3-none-any.whl (62 kB)\n",
      "Downloading aiohappyeyeballs-2.6.1-py3-none-any.whl (15 kB)\n",
      "Using cached aiosignal-1.3.2-py2.py3-none-any.whl (7.6 kB)\n",
      "Using cached frozenlist-1.5.0-cp312-cp312-win_amd64.whl (51 kB)\n",
      "Downloading multidict-6.2.0-cp312-cp312-win_amd64.whl (28 kB)\n",
      "Using cached propcache-0.3.0-cp312-cp312-win_amd64.whl (44 kB)\n",
      "Using cached smmap-5.0.2-py3-none-any.whl (24 kB)\n",
      "Using cached yarl-1.18.3-cp312-cp312-win_amd64.whl (90 kB)\n",
      "Installing collected packages: smmap, setproctitle, sentry-sdk, pydantic-core, protobuf, propcache, multidict, lightning-utilities, frozenlist, docker-pycreds, click, annotated-types, aiohappyeyeballs, yarl, pydantic, gitdb, aiosignal, torchmetrics, gitpython, aiohttp, wandb, pytorch-lightning, lightning\n",
      "  Attempting uninstall: protobuf\n",
      "    Found existing installation: protobuf 6.30.1\n",
      "    Uninstalling protobuf-6.30.1:\n",
      "      Successfully uninstalled protobuf-6.30.1\n",
      "Successfully installed aiohappyeyeballs-2.6.1 aiohttp-3.11.14 aiosignal-1.3.2 annotated-types-0.7.0 click-8.1.8 docker-pycreds-0.4.0 frozenlist-1.5.0 gitdb-4.0.12 gitpython-3.1.44 lightning-2.5.1 lightning-utilities-0.14.2 multidict-6.2.0 propcache-0.3.0 protobuf-5.29.4 pydantic-2.10.6 pydantic-core-2.27.2 pytorch-lightning-2.5.1 sentry-sdk-2.24.1 setproctitle-1.3.5 smmap-5.0.2 torchmetrics-1.7.0 wandb-0.19.8 yarl-1.18.3\n",
      "Note: you may need to restart the kernel to use updated packages.\n"
     ]
    },
    {
     "name": "stderr",
     "output_type": "stream",
     "text": [
      "\n",
      "[notice] A new release of pip is available: 24.2 -> 25.0.1\n",
      "[notice] To update, run: python.exe -m pip install --upgrade pip\n"
     ]
    }
   ],
   "execution_count": 2
  },
  {
   "metadata": {},
   "cell_type": "markdown",
   "source": "## Import packages",
   "id": "3a61bb54bd1e4127"
  },
  {
   "metadata": {
    "ExecuteTime": {
     "end_time": "2025-03-25T19:06:58.051572Z",
     "start_time": "2025-03-25T19:06:58.040118Z"
    }
   },
   "cell_type": "code",
   "source": [
    "from pathlib import Path\n",
    "\n",
    "import PIL.Image\n",
    "import torch\n",
    "import torch.nn as nn\n",
    "import torch.optim as optim\n",
    "import torchvision.models as models\n",
    "import lightning as L\n",
    "import wandb\n",
    "from torch.utils.data import Dataset, DataLoader\n",
    "from lightning.pytorch.loggers import WandbLogger\n",
    "\n",
    "from jassair.utils import get_dataset_path, Datasets"
   ],
   "id": "ab3704f5552bc610",
   "outputs": [],
   "execution_count": 23
  },
  {
   "metadata": {},
   "cell_type": "markdown",
   "source": "## WandB login for experiment tracking",
   "id": "f18fd5d29ce9df92"
  },
  {
   "metadata": {},
   "cell_type": "code",
   "outputs": [],
   "execution_count": null,
   "source": "wandb.login()",
   "id": "6fae3a0e117edec1"
  },
  {
   "metadata": {},
   "cell_type": "markdown",
   "source": "## Global variable definition",
   "id": "bc4e6fbb2bfab8d1"
  },
  {
   "metadata": {
    "ExecuteTime": {
     "end_time": "2025-03-25T19:06:58.336041Z",
     "start_time": "2025-03-25T19:06:58.327493Z"
    }
   },
   "cell_type": "code",
   "source": [
    "DATA_DIR = get_dataset_path(Datasets.SYNTHETIC_SINGLE)\n",
    "BATCH_SIZE = 32\n",
    "NUM_CLASSES = 16"
   ],
   "id": "ec831c9c5322ffc8",
   "outputs": [],
   "execution_count": 24
  },
  {
   "metadata": {},
   "cell_type": "markdown",
   "source": "## Custom Synth-data Dataset",
   "id": "85f97c9f3a81ba34"
  },
  {
   "metadata": {
    "ExecuteTime": {
     "end_time": "2025-03-25T19:10:23.835755Z",
     "start_time": "2025-03-25T19:10:23.815333Z"
    }
   },
   "cell_type": "code",
   "source": [
    "class YoloDataset(Dataset):\n",
    "    def __init__(self, root_dir: Path, transform=None):\n",
    "        self.root_dir = root_dir\n",
    "        self.image_dir = root_dir / 'images'\n",
    "        self.label_dir = root_dir / 'labels'\n",
    "        self.transform = transform\n",
    "        self.image_files: list[Path] = [f for f in self.image_dir.iterdir()]\n",
    "\n",
    "    def __len__(self):\n",
    "        return len(self.image_files)\n",
    "\n",
    "    def __getitem__(self, idx):\n",
    "        image_path: Path = self.image_files[idx]\n",
    "        image = PIL.Image.open(image_path).convert(\"RGB\")\n",
    "        label_path = self.label_dir / f\"{image_path.stem}.txt\"\n",
    "        if not label_path.exists():\n",
    "            raise FileNotFoundError(label_path)\n",
    "        with label_path.open(\"r\", encoding=\"utf-8\") as f:\n",
    "            label = torch.tensor([int(f.readline().split()[0])])\n",
    "        if self.transform:\n",
    "            image = self.transform(image)\n",
    "        return image, label"
   ],
   "id": "f2457dd9e76a10e7",
   "outputs": [],
   "execution_count": 36
  },
  {
   "metadata": {},
   "cell_type": "markdown",
   "source": "## Pre-trained Model / Data transform",
   "id": "49b8efc9fa34e605"
  },
  {
   "metadata": {
    "ExecuteTime": {
     "end_time": "2025-03-25T19:31:41.894301Z",
     "start_time": "2025-03-25T19:31:41.125969Z"
    }
   },
   "cell_type": "code",
   "source": [
    "MODEL_WEIGHTS = models.ResNet50_Weights.IMAGENET1K_V2\n",
    "TRANSFORM = MODEL_WEIGHTS.transforms()\n",
    "MODEL = models.resnet50(weights=MODEL_WEIGHTS)"
   ],
   "id": "83bfcea328dfa19d",
   "outputs": [
    {
     "data": {
      "text/plain": [
       "'ResNet'"
      ]
     },
     "execution_count": 43,
     "metadata": {},
     "output_type": "execute_result"
    }
   ],
   "execution_count": 43
  },
  {
   "metadata": {},
   "cell_type": "markdown",
   "source": "## DataLoader definition",
   "id": "e00af6bf9b9f2135"
  },
  {
   "metadata": {
    "ExecuteTime": {
     "end_time": "2025-03-25T19:17:36.224419Z",
     "start_time": "2025-03-25T19:17:36.189486Z"
    }
   },
   "cell_type": "code",
   "source": [
    "train_dataset = YoloDataset(DATA_DIR / \"train\", transform=TRANSFORM)\n",
    "val_dataset = YoloDataset(DATA_DIR / \"valid\", transform=TRANSFORM)\n",
    "test_dataset = YoloDataset(DATA_DIR / \"test\", transform=TRANSFORM)\n",
    "\n",
    "train_loader = DataLoader(train_dataset, batch_size=BATCH_SIZE, shuffle=True, num_workers=4)\n",
    "val_loader = DataLoader(val_dataset, batch_size=BATCH_SIZE, shuffle=False, num_workers=4)\n",
    "test_loader = DataLoader(test_dataset, batch_size=BATCH_SIZE, shuffle=False, num_workers=4)\n",
    "\n",
    "# Sanity check\n",
    "image, label = train_dataset[1]\n",
    "print(f\"Image shape: {image.shape}, Label: {label}\")"
   ],
   "id": "18ee610675a48977",
   "outputs": [
    {
     "name": "stdout",
     "output_type": "stream",
     "text": [
      "C:\\git\\DSPRO2-jassAIr\\data\\synth_single\\train\\images\\Eichel-6_1.png\n",
      "Image shape: torch.Size([3, 224, 224]), Label: tensor([1])\n"
     ]
    }
   ],
   "execution_count": 41
  },
  {
   "metadata": {},
   "cell_type": "markdown",
   "source": "## Baseline Model",
   "id": "716edaa5ec6aea34"
  },
  {
   "metadata": {
    "ExecuteTime": {
     "end_time": "2025-03-25T19:31:00.664550Z",
     "start_time": "2025-03-25T19:31:00.650788Z"
    }
   },
   "cell_type": "code",
   "source": [
    "class ImageClassifier(L.LightningModule):\n",
    "    def __init__(self, lr: float, weight_decay: float, finetune_only: bool):\n",
    "        super().__init__()\n",
    "        self.save_hyperparameters()\n",
    "        \n",
    "        self.model = MODEL\n",
    "        \n",
    "        # If set, only train the newly attached FC layer\n",
    "        if self.hparams.finetune_only:\n",
    "            for param in self.model.parameters():\n",
    "                param.requires_grad = False\n",
    "                \n",
    "        in_features = self.model.fc.in_features\n",
    "        self.model.fc = nn.Linear(in_features, NUM_CLASSES)\n",
    "\n",
    "        self.criterion = nn.CrossEntropyLoss()\n",
    "\n",
    "    def forward(self, x):\n",
    "        return self.model(x)\n",
    "\n",
    "    def training_step(self, batch, batch_idx):\n",
    "        images, labels = batch\n",
    "        outputs = self(images)\n",
    "        loss = self.criterion(outputs, labels)\n",
    "        acc = (outputs.argmax(dim=1) == labels).float().mean()\n",
    "        \n",
    "        self.log(\"train_loss\", loss, on_step=True, on_epoch=True, prog_bar=True, logger=True)\n",
    "        self.log(\"train_acc\", acc, on_epoch=True, prog_bar=True, logger=True)\n",
    "        return loss\n",
    "\n",
    "    def validation_step(self, batch, batch_idx):\n",
    "        images, labels = batch\n",
    "        outputs = self(images)\n",
    "        loss = self.criterion(outputs, labels)\n",
    "        acc = (outputs.argmax(dim=1) == labels).float().mean()\n",
    "        \n",
    "        self.log(\"val_loss\", loss, on_epoch=True, prog_bar=True, logger=True)\n",
    "        self.log(\"val_acc\", acc, on_epoch=True, prog_bar=True, logger=True)\n",
    "\n",
    "    def test_step(self, batch, batch_idx):\n",
    "        images, labels = batch\n",
    "        outputs = self(images)\n",
    "        loss = self.criterion(outputs, labels)\n",
    "        acc = (outputs.argmax(dim=1) == labels).float().mean()\n",
    "        \n",
    "        self.log(\"test_loss\", loss, on_epoch=True, prog_bar=True, logger=True)\n",
    "        self.log(\"test_acc\", acc, on_epoch=True, prog_bar=True, logger=True)\n",
    "\n",
    "    def configure_optimizers(self):\n",
    "        optimizer = optim.AdamW(self.parameters(), lr=self.hparams.lr, weight_decay=self.hparams.weight_decay)\n",
    "        scheduler = optim.lr_scheduler.CyclicLR(optimizer, self.hparams.lr / 100, self.hparams.lr)\n",
    "        return [optimizer], [scheduler]"
   ],
   "id": "8e1e262cca21eb8d",
   "outputs": [],
   "execution_count": 42
  },
  {
   "metadata": {},
   "cell_type": "markdown",
   "source": "## Train Model",
   "id": "7ede355de15d3f42"
  },
  {
   "metadata": {},
   "cell_type": "code",
   "outputs": [],
   "execution_count": null,
   "source": [
    "HYPERPARAMETERS = {\n",
    "    \"lr\": 1e-4,\n",
    "    \"wd\": 1e-8,\n",
    "    \"ft_only\": True,\n",
    "    \"epochs\": 10,\n",
    "}"
   ],
   "id": "22ac9b784071073e"
  },
  {
   "metadata": {},
   "cell_type": "code",
   "outputs": [],
   "execution_count": null,
   "source": [
    "wandb.init(\n",
    "    entity=\"jassair\",\n",
    "    project=\"BaselineModel\",\n",
    "    name=f\"{MODEL._get_name()}_lr{HYPERPARAMETERS['lr']}\",\n",
    "    config=HYPERPARAMETERS,\n",
    ")\n",
    "wandb_logger = WandbLogger(project=\"NLP_Project_1\")"
   ],
   "id": "8fae4937e17f8c4d"
  },
  {
   "metadata": {},
   "cell_type": "code",
   "outputs": [],
   "execution_count": null,
   "source": [
    "trainer = L.Trainer(\n",
    "    max_epochs=wandb.config.get(\"epochs\"),\n",
    "    accelerator=\"auto\",\n",
    "    logger=wandb_logger,\n",
    "    log_every_n_steps=10\n",
    ")\n",
    "\n",
    "model = ImageClassifier(\n",
    "    wandb.config.get(\"lr\"), \n",
    "    wandb.config.get(\"ft_only\"),\n",
    "    wandb.config.get(\"wd\")\n",
    ")\n",
    "trainer.fit(model, train_dataloaders=train_loader, val_dataloaders=val_loader)\n",
    "wandb.finish()"
   ],
   "id": "f58a360026f7265"
  }
 ],
 "metadata": {
  "kernelspec": {
   "display_name": "Python 3",
   "language": "python",
   "name": "python3"
  },
  "language_info": {
   "codemirror_mode": {
    "name": "ipython",
    "version": 2
   },
   "file_extension": ".py",
   "mimetype": "text/x-python",
   "name": "python",
   "nbconvert_exporter": "python",
   "pygments_lexer": "ipython2",
   "version": "2.7.6"
  }
 },
 "nbformat": 4,
 "nbformat_minor": 5
}
