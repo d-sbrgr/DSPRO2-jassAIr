{
 "cells": [
  {
   "cell_type": "markdown",
   "id": "c0146f1718ad0e3d",
   "metadata": {},
   "source": [
    "## Install dependencies"
   ]
  },
  {
   "cell_type": "code",
   "execution_count": 1,
   "id": "initial_id",
   "metadata": {
    "ExecuteTime": {
     "end_time": "2025-03-26T09:42:22.722459Z",
     "start_time": "2025-03-26T09:42:17.847820Z"
    }
   },
   "outputs": [
    {
     "name": "stdout",
     "output_type": "stream",
     "text": [
      "Note: you may need to restart the kernel to use updated packages.\n"
     ]
    }
   ],
   "source": "%pip install -q lightning wandb torchvision torchmetrics matplotlib"
  },
  {
   "cell_type": "markdown",
   "id": "3a61bb54bd1e4127",
   "metadata": {},
   "source": [
    "## Import packages"
   ]
  },
  {
   "cell_type": "code",
   "execution_count": 2,
   "id": "ab3704f5552bc610",
   "metadata": {
    "ExecuteTime": {
     "end_time": "2025-03-25T19:06:58.051572Z",
     "start_time": "2025-03-25T19:06:58.040118Z"
    }
   },
   "outputs": [],
   "source": [
    "from pathlib import Path\n",
    "import time\n",
    "\n",
    "import PIL.Image\n",
    "import torch\n",
    "import torch.nn as nn\n",
    "import torch.optim as optim\n",
    "import torchvision.models as models\n",
    "import torchvision.transforms.v2 as v2\n",
    "import torchmetrics\n",
    "import lightning as L\n",
    "import wandb\n",
    "from torch.utils.data import Dataset, DataLoader\n",
    "from lightning.pytorch.loggers import WandbLogger\n",
    "\n",
    "import matplotlib.pyplot as plt\n",
    "\n",
    "from jassair.utils import get_dataset_path, Datasets"
   ]
  },
  {
   "cell_type": "markdown",
   "id": "6dd49b83-0cb1-47d1-902a-bcebd5c6bed3",
   "metadata": {},
   "source": [
    "## Lower matmul precision"
   ]
  },
  {
   "cell_type": "markdown",
   "id": "f18fd5d29ce9df92",
   "metadata": {},
   "source": [
    "## WandB login for experiment tracking"
   ]
  },
  {
   "cell_type": "code",
   "execution_count": 3,
   "id": "6fae3a0e117edec1",
   "metadata": {},
   "outputs": [
    {
     "name": "stderr",
     "output_type": "stream",
     "text": [
      "\u001B[34m\u001B[1mwandb\u001B[0m: \u001B[32m\u001B[41mERROR\u001B[0m Failed to detect the name of this notebook. You can set it manually with the WANDB_NOTEBOOK_NAME environment variable to enable code saving.\n",
      "\u001B[34m\u001B[1mwandb\u001B[0m: Using wandb-core as the SDK backend.  Please refer to https://wandb.me/wandb-core for more information.\n",
      "\u001B[34m\u001B[1mwandb\u001B[0m: Currently logged in as: \u001B[33mschurtenberger-david\u001B[0m (\u001B[33mdavid-schurtenberger\u001B[0m) to \u001B[32mhttps://api.wandb.ai\u001B[0m. Use \u001B[1m`wandb login --relogin`\u001B[0m to force relogin\n"
     ]
    },
    {
     "data": {
      "text/plain": [
       "True"
      ]
     },
     "execution_count": 3,
     "metadata": {},
     "output_type": "execute_result"
    }
   ],
   "source": [
    "wandb.login()"
   ]
  },
  {
   "cell_type": "markdown",
   "id": "bc4e6fbb2bfab8d1",
   "metadata": {},
   "source": [
    "## Global variable definition"
   ]
  },
  {
   "cell_type": "code",
   "execution_count": 4,
   "id": "ec831c9c5322ffc8",
   "metadata": {
    "ExecuteTime": {
     "end_time": "2025-03-25T19:06:58.336041Z",
     "start_time": "2025-03-25T19:06:58.327493Z"
    }
   },
   "outputs": [],
   "source": [
    "DATA_DIR = get_dataset_path(Datasets.S_1TO1_36C_NOVLP)\n",
    "BATCH_SIZE = 32\n",
    "NUM_CLASSES = 36"
   ]
  },
  {
   "cell_type": "markdown",
   "id": "85f97c9f3a81ba34",
   "metadata": {},
   "source": [
    "## Custom Synth-data Dataset"
   ]
  },
  {
   "cell_type": "code",
   "execution_count": 5,
   "id": "f2457dd9e76a10e7",
   "metadata": {
    "ExecuteTime": {
     "end_time": "2025-03-25T19:10:23.835755Z",
     "start_time": "2025-03-25T19:10:23.815333Z"
    }
   },
   "outputs": [],
   "source": [
    "class YoloStyleDataset(Dataset):\n",
    "    def __init__(self, root_dir: Path, transform=None):\n",
    "        self.root_dir = root_dir\n",
    "        self.image_dir = root_dir / 'images'\n",
    "        self.label_dir = root_dir / 'labels'\n",
    "        self.transform = transform\n",
    "        self.image_files: list[Path] = [f for f in self.image_dir.iterdir()]\n",
    "        self.labels: list[int] = []\n",
    "        for file in self.image_files:\n",
    "            label_file = self.label_dir / f\"{file.stem}.txt\"\n",
    "            with label_file.open(\"r\", encoding=\"utf-8\") as f:\n",
    "                self.labels.append(int(f.readline().split()[0]))\n",
    "\n",
    "    def __len__(self):\n",
    "        return len(self.image_files)\n",
    "\n",
    "    def __getitem__(self, idx):\n",
    "        image_path: Path = self.image_files[idx]\n",
    "        label = self.labels[idx]\n",
    "        image = PIL.Image.open(image_path).convert(\"RGB\")\n",
    "        if self.transform:\n",
    "            image = self.transform(image)\n",
    "        return image, label"
   ]
  },
  {
   "cell_type": "markdown",
   "id": "716edaa5ec6aea34",
   "metadata": {},
   "source": [
    "## Baseline Model"
   ]
  },
  {
   "cell_type": "code",
   "execution_count": 18,
   "id": "8e1e262cca21eb8d",
   "metadata": {
    "ExecuteTime": {
     "end_time": "2025-03-25T19:31:00.664550Z",
     "start_time": "2025-03-25T19:31:00.650788Z"
    }
   },
   "outputs": [],
   "source": [
    "class ImageClassifier(L.LightningModule):\n",
    "    def __init__(self, lr: float, weight_decay: float, finetune_only: bool):\n",
    "        super().__init__()\n",
    "        self.save_hyperparameters()\n",
    "        \n",
    "        self.model = MODEL\n",
    "        \n",
    "        # If set, only train the newly attached FC layer\n",
    "        if self.hparams.finetune_only:\n",
    "            for param in self.model.parameters():\n",
    "                param.requires_grad = False\n",
    "\n",
    "        match self.model._get_name().lower():\n",
    "            case \"efficientnet\":\n",
    "                in_features = self.model.classifier[1].in_features\n",
    "                self.model.classifier[1] = nn.Linear(in_features, NUM_CLASSES)\n",
    "            case \"resnet\":\n",
    "                in_features = self.model.fc.in_features\n",
    "                self.model.fc = nn.Linear(in_features, NUM_CLASSES)\n",
    "\n",
    "        self.criterion = nn.CrossEntropyLoss()\n",
    "        \n",
    "        self._train_acc = torchmetrics.Accuracy(\"multiclass\", num_classes=NUM_CLASSES)\n",
    "        self._train_loss = []\n",
    "        self._valid_acc = torchmetrics.Accuracy(\"multiclass\", num_classes=NUM_CLASSES)\n",
    "        self._valid_loss = []\n",
    "        self._test_preds = []\n",
    "        self._test_labels = []\n",
    "\n",
    "    def forward(self, x):\n",
    "        return self.model(x)\n",
    "\n",
    "    def training_step(self, batch, batch_idx):\n",
    "        images, labels = batch\n",
    "        outputs = self(images)\n",
    "        loss = self.criterion(outputs, labels)\n",
    "        self._train_acc(outputs, labels)\n",
    "        self._train_loss.append(loss)\n",
    "        \n",
    "        return loss\n",
    "\n",
    "    def validation_step(self, batch, batch_idx):\n",
    "        images, labels = batch\n",
    "        outputs = self(images)\n",
    "        loss = self.criterion(outputs, labels)\n",
    "        self._valid_acc(outputs, labels)\n",
    "        self._valid_loss.append(loss)\n",
    "        \n",
    "    def on_train_epoch_end(self):\n",
    "        loss = torch.stack(self._train_loss).mean()\n",
    "        self.log_dict({'train_loss': loss, 'train_acc': self._train_acc.compute()}, prog_bar=True)\n",
    "        self._train_loss.clear()\n",
    "        self._train_acc.reset()\n",
    "\n",
    "    def on_validation_epoch_end(self):\n",
    "        loss = torch.stack(self._valid_loss).mean()\n",
    "        self.log_dict({'val_loss': loss, 'val_acc': self._valid_acc.compute()}, prog_bar=True)\n",
    "        self._valid_loss.clear()\n",
    "        self._valid_acc.reset()\n",
    "\n",
    "    def test_step(self, batch, batch_idx):\n",
    "        x, y = batch\n",
    "        logits = self(x)\n",
    "        preds = torch.argmax(logits, dim=1)\n",
    "\n",
    "        self._test_preds.append(preds.detach().cpu())\n",
    "        self._test_labels.append(y.detach().cpu())\n",
    "\n",
    "        return {}\n",
    "\n",
    "    def test_epoch_end(self):\n",
    "        preds = torch.cat(self._test_preds)\n",
    "        targets = torch.cat(self._test_labels)\n",
    "\n",
    "        cm = self._confusion_matrix(preds, targets)\n",
    "\n",
    "        precision = []\n",
    "        recall = []\n",
    "        f1 = []\n",
    "\n",
    "        for i in range(self.num_classes):\n",
    "            true_positives = cm[i, i].item()\n",
    "            false_positives = cm[:, i].sum().item() - true_positives\n",
    "            false_negatives = cm[i, :].sum().item() - true_positives\n",
    "\n",
    "            _precision = true_positives / (true_positives + false_positives) if (true_positives + false_positives) > 0 else 0.0\n",
    "            _recall = true_positives / (true_positives + false_negatives) if (true_positives + false_negatives) > 0 else 0.0\n",
    "            _f1 = 2 * _precision * _recall / (_precision + _recall) if (_precision + _recall) > 0 else 0.0\n",
    "\n",
    "            precision.append(_precision)\n",
    "            recall.append(_recall)\n",
    "            f1.append(_f1)\n",
    "\n",
    "            self.log(f'test/precision_class_{i}', _precision)\n",
    "            self.log(f'test/recall_class_{i}', _recall)\n",
    "            self.log(f'test/f1_class_{i}', _f1)\n",
    "\n",
    "        # Overall Accuracy\n",
    "        acc = (preds == targets).sum().item() / len(targets)\n",
    "        self.log('test/accuracy', acc)\n",
    "\n",
    "        # Macro averages\n",
    "        self.log('test/macro_precision', sum(precision) / self.num_classes)\n",
    "        self.log('test/macro_recall', sum(recall) / self.num_classes)\n",
    "        self.log('test/macro_f1', sum(f1) / self.num_classes)\n",
    "\n",
    "    def _confusion_matrix(self, preds, targets):\n",
    "        cm = torch.zeros(self.num_classes, self.num_classes, dtype=torch.int32)\n",
    "        for t, p in zip(targets, preds):\n",
    "            cm[t, p] += 1\n",
    "        return cm\n",
    "\n",
    "    def configure_optimizers(self):\n",
    "        optimizer = optim.AdamW(self.parameters(), lr=self.hparams.lr, weight_decay=self.hparams.weight_decay)\n",
    "        scheduler = optim.lr_scheduler.CyclicLR(optimizer, self.hparams.lr / 1000, self.hparams.lr)\n",
    "        return [optimizer], [scheduler]"
   ]
  },
  {
   "cell_type": "markdown",
   "id": "de25a48a-4b6c-4789-82d5-bf38bddeddf9",
   "metadata": {},
   "source": [
    "#### Training routine"
   ]
  },
  {
   "cell_type": "code",
   "execution_count": 19,
   "id": "a0ec5c8b-33c5-4a0c-9302-447338804061",
   "metadata": {},
   "outputs": [],
   "source": [
    "def get_run_name(config, ft=False):\n",
    "    params = []\n",
    "    for k, v in config.items():\n",
    "        if isinstance(v, float):\n",
    "            params.append(f\"{k}{v:.4f}\")\n",
    "        else:\n",
    "            params.append(f\"{k}{v}\")\n",
    "    return f\"{MODEL_NAME}_{'_'.join(params)}_ft{ft}{time.strftime('%y%m%d%H%M%S')}\""
   ]
  },
  {
   "cell_type": "code",
   "execution_count": 20,
   "id": "57a3252c-6bf2-4299-9cc4-6f33d9f1f1dd",
   "metadata": {},
   "outputs": [],
   "source": [
    "def train_classifier(config, logger, *callbacks):\n",
    "    L.seed_everything(42)\n",
    "    model = ImageClassifier(\n",
    "        wandb.config.get(\"lr\"), \n",
    "        wandb.config.get(\"wd\"),\n",
    "        wandb.config.get(\"ft_only\"),\n",
    "    )\n",
    "    trainer = L.Trainer(\n",
    "        callbacks=list(callbacks),\n",
    "        max_epochs=wandb.config.get(\"epochs\"),\n",
    "        accelerator=\"auto\",\n",
    "        precision='16-mixed',\n",
    "        logger=logger,\n",
    "    )\n",
    "    trainer.fit(model, train_loader, val_loader)"
   ]
  },
  {
   "cell_type": "code",
   "execution_count": 21,
   "id": "4db868c3-55bb-45a0-968b-99222ae624b9",
   "metadata": {},
   "outputs": [],
   "source": [
    "def wandb_train_run(run):\n",
    "    config = wandb.config\n",
    "    run.name = get_run_name(config)\n",
    "    checkpoint_callback = L.pytorch.callbacks.ModelCheckpoint(\n",
    "        dirpath=\"./lightning_checkpoints\",\n",
    "        filename=run.name + \"_{epoch:02d}_{val_acc:.2f}\",\n",
    "        monitor=\"val_acc\",\n",
    "        save_last=True,\n",
    "        mode=\"max\"\n",
    "    )\n",
    "    early_stopping_callback = L.pytorch.callbacks.EarlyStopping(\n",
    "        min_delta=0.005, # Improve at least 0.5%\n",
    "        monitor=\"val_acc\",\n",
    "        patience=5,\n",
    "        mode=\"max\",\n",
    "    )\n",
    "    wandb_logger = WandbLogger()\n",
    "    train_classifier(config, wandb_logger, checkpoint_callback, early_stopping_callback)\n",
    "    artifact = wandb.Artifact(run.name, \"model\")\n",
    "    artifact.add_file(checkpoint_callback.best_model_path)\n",
    "    wandb.log_artifact(artifact)"
   ]
  },
  {
   "metadata": {},
   "cell_type": "code",
   "outputs": [],
   "execution_count": null,
   "source": [
    "def plot_cm(predictions, labels, name):\n",
    "    cm = torchmetrics.ConfusionMatrix(\"multiclass\", num_classes=5)\n",
    "    cm.update(predictions, labels)\n",
    "    fig, ax = cm.plot(labels=[\"A\", \"B\", \"C\", \"D\", \"E\"], cmap=\"plasma\")\n",
    "    cbar = fig.colorbar(ax.images[0], ax=ax)\n",
    "    plt.savefig(f\"{name}.png\", bbox_inches='tight')"
   ],
   "id": "d9ab94fe3aa89c82"
  },
  {
   "metadata": {},
   "cell_type": "code",
   "outputs": [],
   "execution_count": null,
   "source": [
    "def test_classifier(checkpoint, logger, name):\n",
    "    L.seed_everything(42)\n",
    "    model = ImageClassifier.load_from_checkpoint(checkpoint)\n",
    "    trainer = L.Trainer(\n",
    "        accelerator=\"auto\",\n",
    "        logger=logger,\n",
    "    )\n",
    "    trainer.test(model, test_loader)\n",
    "    plot_cm(model._test_preds, model._test_labels, name)"
   ],
   "id": "367fea4560f13eaf"
  },
  {
   "metadata": {},
   "cell_type": "code",
   "outputs": [],
   "execution_count": null,
   "source": [
    "def wandb_test_run(run, checkpoint):\n",
    "    config = wandb.config\n",
    "    run.name = get_run_name(config)\n",
    "    wandb_logger = WandbLogger()\n",
    "    test_classifier(checkpoint, wandb_logger, run.name)"
   ],
   "id": "ebb895552cbf3bc9"
  },
  {
   "cell_type": "code",
   "execution_count": 58,
   "id": "389e5e54-2efa-49c3-b322-b058ab03085e",
   "metadata": {},
   "outputs": [],
   "source": [
    "def classifier_sweep(config=None):\n",
    "    with wandb.init(config=config) as run:\n",
    "        wandb_train_run(run)"
   ]
  },
  {
   "cell_type": "markdown",
   "id": "7ede355de15d3f42",
   "metadata": {},
   "source": [
    "## EfficientNet"
   ]
  },
  {
   "cell_type": "markdown",
   "id": "87985efc-bd8b-4926-a75b-eef3b17dcf26",
   "metadata": {},
   "source": [
    "#### Load model and weights"
   ]
  },
  {
   "cell_type": "code",
   "execution_count": 23,
   "id": "debea0f2-21d6-4890-b131-976141fd28ff",
   "metadata": {},
   "outputs": [],
   "source": [
    "MODEL_WEIGHTS = models.EfficientNet_V2_S_Weights.IMAGENET1K_V1\n",
    "TRANSFORM = MODEL_WEIGHTS.transforms()\n",
    "MODEL = models.efficientnet_v2_s(weights=MODEL_WEIGHTS)\n",
    "MODEL_NAME = MODEL._get_name()"
   ]
  },
  {
   "cell_type": "code",
   "execution_count": 24,
   "id": "1cf40a96-02e3-42c9-80e5-34acc82afa3c",
   "metadata": {},
   "outputs": [
    {
     "name": "stdout",
     "output_type": "stream",
     "text": [
      "TRANSFORM: ImageClassification(\n",
      "    crop_size=[384]\n",
      "    resize_size=[384]\n",
      "    mean=[0.485, 0.456, 0.406]\n",
      "    std=[0.229, 0.224, 0.225]\n",
      "    interpolation=InterpolationMode.BILINEAR\n",
      ")\n"
     ]
    }
   ],
   "source": [
    "print(f\"TRANSFORM: {TRANSFORM}\")"
   ]
  },
  {
   "cell_type": "markdown",
   "id": "9535a01e-db3d-4dc1-a9ae-01b4ad214b80",
   "metadata": {},
   "source": [
    "#### Data augmentation"
   ]
  },
  {
   "cell_type": "code",
   "execution_count": 61,
   "id": "9229906a-a363-496e-b3d8-8181db0e959e",
   "metadata": {},
   "outputs": [
    {
     "name": "stdout",
     "output_type": "stream",
     "text": [
      "Compose(\n",
      "      Resize(size=[384], interpolation=InterpolationMode.BILINEAR, antialias=True)\n",
      "      ToImage()\n",
      "      ColorJitter(brightness=(0.7, 1.3), contrast=(0.7, 1.3), saturation=(0.7, 1.3), hue=(-0.1, 0.1))\n",
      "      ToDtype(scale=True)\n",
      "      Normalize(mean=[0.485, 0.456, 0.406], std=[0.229, 0.224, 0.225], inplace=False)\n",
      ")\n"
     ]
    }
   ],
   "source": [
    "gpu_transforms = v2.Compose([\n",
    "    v2.ToImage(),\n",
    "    v2.RandomAffine(degrees=180, translate=(0.1, 0.1)),\n",
    "    v2.ColorJitter(brightness=0.3, contrast=0.3, saturation=0.3, hue=0.1),\n",
    "    v2.Resize(384, interpolation=v2.InterpolationMode.BILINEAR),\n",
    "    v2.ToDtype(torch.float32, scale=True),  # Converts to float [0,1]\n",
    "    v2.Normalize(mean=[0.485, 0.456, 0.406],\n",
    "                 std=[0.229, 0.224, 0.225]),\n",
    "])\n",
    "print(transform)"
   ]
  },
  {
   "cell_type": "markdown",
   "id": "9ce742aa-196f-4abe-aa1d-a46c2b5a4b65",
   "metadata": {},
   "source": [
    "#### DataLoader"
   ]
  },
  {
   "cell_type": "code",
   "execution_count": 62,
   "id": "4d6298b7-cdc5-4cef-ad1c-98e06805f577",
   "metadata": {
    "editable": true,
    "slideshow": {
     "slide_type": ""
    },
    "tags": []
   },
   "outputs": [
    {
     "name": "stdout",
     "output_type": "stream",
     "text": [
      "Test Image shape: torch.Size([32, 3, 384, 384]), Label: torch.Size([32])\n"
     ]
    }
   ],
   "source": [
    "train_dataset = YoloStyleDataset(DATA_DIR / \"train\", transform)\n",
    "val_dataset = YoloStyleDataset(DATA_DIR / \"valid\", TRANSFORM)\n",
    "test_dataset = YoloStyleDataset(DATA_DIR / \"test\", TRANSFORM)\n",
    "\n",
    "train_loader = DataLoader(train_dataset, batch_size=BATCH_SIZE, shuffle=True, num_workers=8, persistent_workers=True)\n",
    "val_loader = DataLoader(val_dataset, batch_size=BATCH_SIZE, shuffle=False, num_workers=8)\n",
    "test_loader = DataLoader(test_dataset, batch_size=BATCH_SIZE, shuffle=False, num_workers=8)\n",
    "\n",
    "# Sanity check\n",
    "image, label = next(iter(test_loader))\n",
    "print(f\"Test Image shape: {image.shape}, Label: {label.shape}\")"
   ]
  },
  {
   "cell_type": "markdown",
   "id": "fb5ea731-a5e2-4c7e-bf1f-b6886cc385de",
   "metadata": {},
   "source": [
    "## Test run"
   ]
  },
  {
   "cell_type": "code",
   "execution_count": null,
   "id": "00bab53d-f347-44fb-afb8-8acb31b4c087",
   "metadata": {},
   "outputs": [],
   "source": [
    "with wandb.init(\n",
    "    entity=\"jassair\",\n",
    "    project=\"Baseline\",\n",
    "    config={\n",
    "        \"lr\": 1e-2,\n",
    "        \"wd\": 1e-6,\n",
    "        \"ft_only\": True,\n",
    "        \"epochs\": 50\n",
    "    },\n",
    ") as run:\n",
    "    wandb_train_run(run)"
   ]
  },
  {
   "cell_type": "markdown",
   "id": "30a6f26f-ecef-47b0-91ec-89fb49cfa44e",
   "metadata": {},
   "source": [
    "## Hyperparameter Sweep"
   ]
  },
  {
   "cell_type": "code",
   "execution_count": 63,
   "id": "86f46b72-b432-4355-857e-7bc368596f4c",
   "metadata": {},
   "outputs": [],
   "source": [
    "sweep_config = {\n",
    "    \"name\": \"EffiecientNet-Sweep\",\n",
    "    \"method\": \"grid\",\n",
    "    \"metric\": {\"name\": \"val_acc\", \"goal\": \"maximize\"},\n",
    "    \"parameters\": {\n",
    "        \"lr\": {\"values\": [1e-3, 1e-2]},\n",
    "        \"wd\": {\"values\": [1e-6, 1e-5, 1e-4]},\n",
    "        \"ft_only\": {\"value\": True},\n",
    "        \"epochs\": {\"value\": 50},\n",
    "    }\n",
    "}"
   ]
  },
  {
   "cell_type": "code",
   "execution_count": 64,
   "id": "2d70d0ad-99a0-4115-a28f-e754ea5158a5",
   "metadata": {},
   "outputs": [
    {
     "name": "stdout",
     "output_type": "stream",
     "text": [
      "Create sweep with ID: q21zodb0\n",
      "Sweep URL: https://wandb.ai/jassair/BaselineModel/sweeps/q21zodb0\n"
     ]
    }
   ],
   "source": [
    "sweep_id = wandb.sweep(\n",
    "    sweep=sweep_config, \n",
    "    entity=\"jassair\",\n",
    "    project=\"BaselineModel\",\n",
    ")"
   ]
  },
  {
   "cell_type": "code",
   "execution_count": null,
   "id": "3a380682-c033-4fb9-b8ab-d98ce01e84e7",
   "metadata": {},
   "outputs": [
    {
     "name": "stderr",
     "output_type": "stream",
     "text": [
      "\u001b[34m\u001b[1mwandb\u001b[0m: Agent Starting Run: dv4cgc1j with config:\n",
      "\u001b[34m\u001b[1mwandb\u001b[0m: \tepochs: 50\n",
      "\u001b[34m\u001b[1mwandb\u001b[0m: \tft_only: True\n",
      "\u001b[34m\u001b[1mwandb\u001b[0m: \tlr: 0.001\n",
      "\u001b[34m\u001b[1mwandb\u001b[0m: \twd: 1e-06\n",
      "\u001b[34m\u001b[1mwandb\u001b[0m: \u001b[32m\u001b[41mERROR\u001b[0m Failed to detect the name of this notebook. You can set it manually with the WANDB_NOTEBOOK_NAME environment variable to enable code saving.\n",
      "\u001b[34m\u001b[1mwandb\u001b[0m: Currently logged in as: \u001b[33mschurtenberger-david\u001b[0m (\u001b[33mjassair\u001b[0m) to \u001b[32mhttps://api.wandb.ai\u001b[0m. Use \u001b[1m`wandb login --relogin`\u001b[0m to force relogin\n"
     ]
    },
    {
     "data": {
      "text/html": [
       "Tracking run with wandb version 0.19.9"
      ],
      "text/plain": [
       "<IPython.core.display.HTML object>"
      ]
     },
     "metadata": {},
     "output_type": "display_data"
    },
    {
     "data": {
      "text/html": [
       "Run data is saved locally in <code>/home/jovyan/DSPRO2-jassAIr/wandb/run-20250419_185600-dv4cgc1j</code>"
      ],
      "text/plain": [
       "<IPython.core.display.HTML object>"
      ]
     },
     "metadata": {},
     "output_type": "display_data"
    },
    {
     "data": {
      "text/html": [
       "Syncing run <strong><a href='https://wandb.ai/jassair/BaselineModel/runs/dv4cgc1j' target=\"_blank\">trim-sweep-1</a></strong> to <a href='https://wandb.ai/jassair/BaselineModel' target=\"_blank\">Weights & Biases</a> (<a href='https://wandb.me/developer-guide' target=\"_blank\">docs</a>)<br>Sweep page: <a href='https://wandb.ai/jassair/BaselineModel/sweeps/q21zodb0' target=\"_blank\">https://wandb.ai/jassair/BaselineModel/sweeps/q21zodb0</a>"
      ],
      "text/plain": [
       "<IPython.core.display.HTML object>"
      ]
     },
     "metadata": {},
     "output_type": "display_data"
    },
    {
     "data": {
      "text/html": [
       " View project at <a href='https://wandb.ai/jassair/BaselineModel' target=\"_blank\">https://wandb.ai/jassair/BaselineModel</a>"
      ],
      "text/plain": [
       "<IPython.core.display.HTML object>"
      ]
     },
     "metadata": {},
     "output_type": "display_data"
    },
    {
     "data": {
      "text/html": [
       " View sweep at <a href='https://wandb.ai/jassair/BaselineModel/sweeps/q21zodb0' target=\"_blank\">https://wandb.ai/jassair/BaselineModel/sweeps/q21zodb0</a>"
      ],
      "text/plain": [
       "<IPython.core.display.HTML object>"
      ]
     },
     "metadata": {},
     "output_type": "display_data"
    },
    {
     "data": {
      "text/html": [
       " View run at <a href='https://wandb.ai/jassair/BaselineModel/runs/dv4cgc1j' target=\"_blank\">https://wandb.ai/jassair/BaselineModel/runs/dv4cgc1j</a>"
      ],
      "text/plain": [
       "<IPython.core.display.HTML object>"
      ]
     },
     "metadata": {},
     "output_type": "display_data"
    },
    {
     "name": "stderr",
     "output_type": "stream",
     "text": [
      "Seed set to 42\n",
      "Using 16bit Automatic Mixed Precision (AMP)\n",
      "GPU available: True (cuda), used: True\n",
      "TPU available: False, using: 0 TPU cores\n",
      "HPU available: False, using: 0 HPUs\n",
      "/opt/conda/lib/python3.12/site-packages/lightning/pytorch/loggers/wandb.py:397: There is a wandb run already in progress and newly created instances of `WandbLogger` will reuse this run. If this is not desired, call `wandb.finish()` before instantiating `WandbLogger`.\n",
      "/opt/conda/lib/python3.12/site-packages/lightning/pytorch/callbacks/model_checkpoint.py:654: Checkpoint directory /home/jovyan/DSPRO2-jassAIr/lightning_checkpoints exists and is not empty.\n",
      "LOCAL_RANK: 0 - CUDA_VISIBLE_DEVICES: [0]\n",
      "\n",
      "  | Name       | Type               | Params | Mode \n",
      "----------------------------------------------------------\n",
      "0 | model      | EfficientNet       | 20.2 M | train\n",
      "1 | criterion  | CrossEntropyLoss   | 0      | train\n",
      "2 | _train_acc | MulticlassAccuracy | 0      | train\n",
      "3 | _valid_acc | MulticlassAccuracy | 0      | train\n",
      "----------------------------------------------------------\n",
      "46.1 K    Trainable params\n",
      "20.2 M    Non-trainable params\n",
      "20.2 M    Total params\n",
      "80.894    Total estimated model params size (MB)\n",
      "717       Modules in train mode\n",
      "0         Modules in eval mode\n",
      "\u001b[34m\u001b[1mwandb\u001b[0m: \u001b[33mWARNING\u001b[0m Config item 'lr' was locked by 'sweep' (ignored update).\n"
     ]
    },
    {
     "data": {
      "application/vnd.jupyter.widget-view+json": {
       "model_id": "bd71c1adc03d41aaaee94b0fdeded9e4",
       "version_major": 2,
       "version_minor": 0
      },
      "text/plain": [
       "Sanity Checking: |          | 0/? [00:00<?, ?it/s]"
      ]
     },
     "metadata": {},
     "output_type": "display_data"
    },
    {
     "data": {
      "application/vnd.jupyter.widget-view+json": {
       "model_id": "61954cce01984ae0afe08af04aba917f",
       "version_major": 2,
       "version_minor": 0
      },
      "text/plain": [
       "Training: |          | 0/? [00:00<?, ?it/s]"
      ]
     },
     "metadata": {},
     "output_type": "display_data"
    }
   ],
   "source": [
    "wandb.agent(sweep_id=sweep_id, function=classifier_run)"
   ]
  },
  {
   "cell_type": "code",
   "execution_count": null,
   "id": "c255866c-8623-42b5-8f0a-71c3e5edbc92",
   "metadata": {},
   "outputs": [],
   "source": [
    "wandb.api.stop_sweep(sweep_id)"
   ]
  },
  {
   "cell_type": "markdown",
   "id": "398e4dd6-2b98-494b-861e-bab63ea9ed6a",
   "metadata": {},
   "source": [
    "## ResNet"
   ]
  },
  {
   "cell_type": "markdown",
   "id": "39737ad3-ff3d-4d61-a669-8e5774d3d9f5",
   "metadata": {},
   "source": [
    "#### Load model and weights"
   ]
  },
  {
   "cell_type": "code",
   "execution_count": null,
   "id": "9718ceb2-1454-48fa-92a4-da07309b9871",
   "metadata": {},
   "outputs": [],
   "source": [
    "MODEL_WEIGHTS = models.ResNet50_Weights.IMAGENET1K_V2\n",
    "TRANSFORM = MODEL_WEIGHTS.transforms()\n",
    "MODEL = models.resnet50(weights=MODEL_WEIGHTS)\n",
    "MODEL_NAME = MODEL._get_name()"
   ]
  },
  {
   "cell_type": "code",
   "execution_count": null,
   "id": "7da60bb9-726a-418c-b42d-b2276f4a5953",
   "metadata": {},
   "outputs": [],
   "source": [
    "print(f\"TRANSFORM: {TRANSFORM}\")"
   ]
  },
  {
   "cell_type": "markdown",
   "id": "a15d1470-35d1-4895-89ca-88a75b975526",
   "metadata": {},
   "source": [
    "## Data augmentation"
   ]
  },
  {
   "cell_type": "code",
   "execution_count": null,
   "id": "9858c96b-1eb9-4fa6-82da-729398939aed",
   "metadata": {},
   "outputs": [],
   "source": [
    "transform = v2.Compose([\n",
    "    v2.ToImage(),\n",
    "    v2.ColorJitter(brightness=0.3, contrast=0.3, saturation=0.3, hue=0.1),\n",
    "    v2.Resize(232, interpolation=v2.InterpolationMode.BILINEAR),\n",
    "    v2.ToDtype(torch.float32, scale=True),  # Converts to float [0,1]\n",
    "    v2.Normalize(mean=[0.485, 0.456, 0.406],\n",
    "                 std=[0.229, 0.224, 0.225]),\n",
    "])\n",
    "print(transform)"
   ]
  },
  {
   "cell_type": "markdown",
   "id": "88889b25-1ea7-4a86-86da-a1604135dde6",
   "metadata": {},
   "source": [
    "#### Data loaders"
   ]
  },
  {
   "cell_type": "code",
   "execution_count": null,
   "id": "3c67284e-fc79-4860-811f-b5b773c69a98",
   "metadata": {},
   "outputs": [],
   "source": [
    "train_dataset = YoloStyleDataset(DATA_DIR / \"train\", transform=transform)\n",
    "val_dataset = YoloStyleDataset(DATA_DIR / \"valid\", transform=TRANSFORM)\n",
    "test_dataset = YoloStyleDataset(DATA_DIR / \"test\", transform=TRANSFORM)\n",
    "\n",
    "train_loader = DataLoader(train_dataset, batch_size=BATCH_SIZE, shuffle=True, num_workers=16, pin_memory=True)\n",
    "val_loader = DataLoader(val_dataset, batch_size=BATCH_SIZE, shuffle=False, num_workers=16, pin_memory=True)\n",
    "test_loader = DataLoader(test_dataset, batch_size=BATCH_SIZE, shuffle=False, num_workers=16, pin_memory=True)\n",
    "\n",
    "# Sanity check\n",
    "image, label = train_dataset[1]\n",
    "print(f\"Train Image shape: {image.shape}, Label: {label}\")\n",
    "image, label = test_dataset[1]\n",
    "print(f\"Test Image shape: {image.shape}, Label: {label}\")"
   ]
  },
  {
   "cell_type": "code",
   "execution_count": null,
   "id": "56bfa86b-ccf3-4b44-8f3c-6974c99e62db",
   "metadata": {},
   "outputs": [],
   "source": [
    "sweep_config = {\n",
    "    \"name\": \"ResNet-Sweep\",\n",
    "    \"method\": \"random\",\n",
    "    \"metric\": {\"name\": \"val_acc\", \"goal\": \"maximize\"},\n",
    "    \"parameters\": {\n",
    "        \"lr\": {\"values\": [1e-4, 1e-3, 1e-2]},\n",
    "        \"wd\": {\"values\": [1e-6, 1e-5, 1e-4]},\n",
    "        \"ft_only\": {\"values\": [True, False]},\n",
    "        \"epochs\": {\"value\": 50},\n",
    "    }\n",
    "}"
   ]
  },
  {
   "cell_type": "code",
   "execution_count": null,
   "id": "e2948649-e222-49f8-8b34-c1a3256cfd3b",
   "metadata": {},
   "outputs": [],
   "source": [
    "sweep_id = wandb.sweep(\n",
    "    sweep=sweep_config, \n",
    "    entity=\"jassair\",\n",
    "    project=\"BaselineModel\",\n",
    ")"
   ]
  },
  {
   "cell_type": "code",
   "execution_count": null,
   "id": "5b6110bf-91ba-4425-af29-a80e6e2887fc",
   "metadata": {},
   "outputs": [],
   "source": [
    "wandb.agent(sweep_id=sweep_id, function=classifier_sweep, count=6)"
   ]
  },
  {
   "cell_type": "code",
   "execution_count": null,
   "id": "8378d764-c651-4572-bb8d-bccfdd518741",
   "metadata": {},
   "outputs": [],
   "source": [
    "wandb.api.stop_sweep(sweep_id)"
   ]
  },
  {
   "cell_type": "markdown",
   "id": "a60b2c0fd775a873",
   "metadata": {},
   "source": [
    "## Fine-tune model"
   ]
  },
  {
   "cell_type": "code",
   "execution_count": null,
   "id": "37dbfe0d-bc94-472d-bc7b-5084ae7ce24a",
   "metadata": {},
   "outputs": [],
   "source": [
    "FINETUNE = False"
   ]
  },
  {
   "cell_type": "code",
   "execution_count": null,
   "id": "4c73fd6ccd76868b",
   "metadata": {},
   "outputs": [],
   "source": [
    "if FINETUNE:\n",
    "    DATA_DIR = get_dataset_path(Datasets.R_1TO1_36C_NOVLP)\n",
    "    \n",
    "    train_dataset = YoloStyleDataset(DATA_DIR / \"train\", transform=transform)\n",
    "    val_dataset = YoloStyleDataset(DATA_DIR / \"valid\", transform=TRANSFORM)\n",
    "    test_dataset = YoloStyleDataset(DATA_DIR / \"test\", transform=TRANSFORM)\n",
    "    \n",
    "    train_loader = DataLoader(train_dataset, batch_size=BATCH_SIZE, shuffle=True, num_workers=4)\n",
    "    val_loader = DataLoader(val_dataset, batch_size=BATCH_SIZE, shuffle=False, num_workers=4)\n",
    "    test_loader = DataLoader(test_dataset, batch_size=BATCH_SIZE, shuffle=False, num_workers=4)\n",
    "    \n",
    "    # Sanity check\n",
    "    image, label = train_dataset[1]\n",
    "    print(f\"Image shape: {image.shape}, Label: {label}\")"
   ]
  },
  {
   "cell_type": "code",
   "execution_count": null,
   "id": "d3f28ba86a56ec4a",
   "metadata": {},
   "outputs": [],
   "source": [
    "if FINETUNE:\n",
    "    HYPERPARAMETERS = {\n",
    "        \"lr\": 1e-1,\n",
    "        \"wd\": 1e-7,\n",
    "        \"ft_only\": False,\n",
    "        \"epochs\": 50,\n",
    "    }"
   ]
  },
  {
   "cell_type": "code",
   "execution_count": null,
   "id": "8bfb14f6ae87eb39",
   "metadata": {},
   "outputs": [],
   "source": [
    "if FINETUNE:\n",
    "    RUN_NAME = f\"ft_{time.strftime('%y%m%d-%H%M%S')}_{MODEL._get_name()}_lr{HYPERPARAMETERS['lr']}\"\n",
    "    wandb.init(\n",
    "        entity=\"jassair\",\n",
    "        project=\"BaselineModel\",\n",
    "        name=RUN_NAME,\n",
    "        config=HYPERPARAMETERS,\n",
    "    )\n",
    "    wandb_logger = WandbLogger(project=\"BaselineModel\")"
   ]
  },
  {
   "cell_type": "code",
   "execution_count": null,
   "id": "0956d406-4e5c-43f2-8994-41cf685b0787",
   "metadata": {},
   "outputs": [],
   "source": [
    "if FINETUNE:\n",
    "    artifact = wandb.use_artifact(\"jassair/BaselineModel/250418-133900_EfficientNet_lr0.001:v0\", type=\"model\")\n",
    "    artifact_dir = artifact.download()\n",
    "    checkpoint_path = f\"{artifact_dir}/250418-133900_EfficientNet_lr0.001-epoch=71-val_acc=0.93.ckpt\""
   ]
  },
  {
   "cell_type": "code",
   "execution_count": null,
   "id": "c7a39ab5fce94589",
   "metadata": {},
   "outputs": [],
   "source": [
    "if FINETUNE:\n",
    "    early_stopping_callback = L.pytorch.callbacks.EarlyStopping(\n",
    "        monitor=\"val_acc\",\n",
    "        min_delta=0.005, # Increase accuracy by at least 0.5%\n",
    "        patience=15,\n",
    "        mode=\"max\"\n",
    "    )\n",
    "    \n",
    "    checkpoint_callback = L.pytorch.callbacks.ModelCheckpoint(\n",
    "        dirpath=\"./lightning_checkpoints\",\n",
    "        filename=RUN_NAME + \"_{epoch:02d}_{val_acc:.2f}\",\n",
    "        monitor=\"val_acc\",\n",
    "        save_last=True,\n",
    "        mode=\"max\"\n",
    "    )\n",
    "    \n",
    "    L.seed_everything(42)\n",
    "    trainer = L.Trainer(\n",
    "        callbacks=[checkpoint_callback, early_stopping_callback],\n",
    "        max_epochs=wandb.config.get(\"epochs\"),\n",
    "        accelerator=\"auto\",\n",
    "        logger=wandb_logger,\n",
    "    )\n",
    "    model = ImageClassifier.load_from_checkpoint(\n",
    "        checkpoint_path,\n",
    "        lr=wandb.config.get(\"lr\"), \n",
    "        weight_decay=wandb.config.get(\"wd\"),\n",
    "        finetune_only=wandb.config.get(\"ft_only\"),\n",
    "    )\n",
    "    model.configure_optimizers()\n",
    "    trainer.fit(model, train_loader, val_loader)\n",
    "    artifact = wandb.Artifact(RUN_NAME, type='model')\n",
    "    artifact.add_file(checkpoint_callback.best_model_path)\n",
    "    wandb.log_artifact(artifact)\n",
    "    wandb.finish()"
   ]
  },
  {
   "metadata": {},
   "cell_type": "markdown",
   "source": "### Evaluation",
   "id": "80b98a72d9579fab"
  },
  {
   "metadata": {},
   "cell_type": "code",
   "outputs": [],
   "execution_count": null,
   "source": [
    "def run_tests(cps: list[str], test_set: str):\n",
    "    for checkpoint in cps:\n",
    "        with wandb.init(entity=\"jassair\", project=\"BaselineModel\", config=dict(test=test_set)) as run:\n",
    "            wandb_test_run(run, checkpoint)"
   ],
   "id": "83ce0e1bedcfe034"
  },
  {
   "metadata": {},
   "cell_type": "markdown",
   "source": "#### ResNet",
   "id": "1ba5058faccce9d3"
  },
  {
   "metadata": {},
   "cell_type": "code",
   "outputs": [],
   "execution_count": null,
   "source": [
    "MODEL_WEIGHTS = models.ResNet50_Weights.IMAGENET1K_V2\n",
    "TRANSFORM = MODEL_WEIGHTS.transforms()\n",
    "MODEL = models.resnet50(weights=MODEL_WEIGHTS)\n",
    "MODEL_NAME = MODEL._get_name()"
   ],
   "id": "6cb86554892ceb67"
  },
  {
   "metadata": {},
   "cell_type": "code",
   "outputs": [],
   "execution_count": null,
   "source": [
    "checkpoints = [\n",
    "    \n",
    "]"
   ],
   "id": "9a38496b839c1891"
  },
  {
   "metadata": {},
   "cell_type": "markdown",
   "source": "##### Synthetic data",
   "id": "9f48966e76bec69d"
  },
  {
   "metadata": {},
   "cell_type": "code",
   "outputs": [],
   "execution_count": null,
   "source": [
    "test_dataset = YoloStyleDataset(get_dataset_path(Datasets.S_1TO1_36C_NOVLP) / \"test\")\n",
    "test_loader = DataLoader(test_dataset, batch_size=BATCH_SIZE, shuffle=False, num_workers=4, pin_memory=True)"
   ],
   "id": "fe2eee2d1d21255d"
  },
  {
   "metadata": {},
   "cell_type": "code",
   "outputs": [],
   "execution_count": null,
   "source": "run_tests(checkpoints, \"synth\")",
   "id": "52498195ad1d7177"
  },
  {
   "metadata": {},
   "cell_type": "markdown",
   "source": "##### Real world data",
   "id": "b238632d1c512c3c"
  },
  {
   "metadata": {},
   "cell_type": "code",
   "outputs": [],
   "execution_count": null,
   "source": [
    "test_dataset = YoloStyleDataset(get_dataset_path(Datasets.R_1TO1_36C_NOVLP) / \"test\")\n",
    "test_loader = DataLoader(test_dataset, batch_size=BATCH_SIZE, shuffle=False, num_workers=4, pin_memory=True)"
   ],
   "id": "8eff8d58195ec946"
  },
  {
   "metadata": {},
   "cell_type": "code",
   "outputs": [],
   "execution_count": null,
   "source": "run_tests(checkpoints, \"real\")",
   "id": "116b374636ba27d0"
  },
  {
   "metadata": {},
   "cell_type": "markdown",
   "source": "#### EfficientNet",
   "id": "daca27048e87affd"
  },
  {
   "metadata": {},
   "cell_type": "code",
   "outputs": [],
   "execution_count": null,
   "source": [
    "MODEL_WEIGHTS = models.EfficientNet_V2_S_Weights.IMAGENET1K_V1\n",
    "TRANSFORM = MODEL_WEIGHTS.transforms()\n",
    "MODEL = models.efficientnet_v2_s(weights=MODEL_WEIGHTS)\n",
    "MODEL_NAME = MODEL._get_name()"
   ],
   "id": "bc5b60e28a9b7cff"
  },
  {
   "metadata": {},
   "cell_type": "code",
   "outputs": [],
   "execution_count": null,
   "source": [
    "checkpoints = [\n",
    "    \n",
    "]"
   ],
   "id": "d219b083f554d7ea"
  },
  {
   "metadata": {},
   "cell_type": "markdown",
   "source": "##### Synthetic Data",
   "id": "41b333b0a22059da"
  },
  {
   "metadata": {},
   "cell_type": "code",
   "outputs": [],
   "execution_count": null,
   "source": [
    "test_dataset = YoloStyleDataset(get_dataset_path(Datasets.S_1TO1_36C_NOVLP) / \"test\")\n",
    "test_loader = DataLoader(test_dataset, batch_size=BATCH_SIZE, shuffle=False, num_workers=4, pin_memory=True)"
   ],
   "id": "e9465e3f6a61afb9"
  },
  {
   "metadata": {},
   "cell_type": "code",
   "outputs": [],
   "execution_count": null,
   "source": "run_tests(checkpoints, \"synth\")",
   "id": "7acb76d3ccffcf49"
  },
  {
   "metadata": {},
   "cell_type": "markdown",
   "source": "##### Real data",
   "id": "7166b9ace6c0d589"
  },
  {
   "metadata": {},
   "cell_type": "code",
   "outputs": [],
   "execution_count": null,
   "source": [
    "test_dataset = YoloStyleDataset(get_dataset_path(Datasets.R_1TO1_36C_NOVLP) / \"test\")\n",
    "test_loader = DataLoader(test_dataset, batch_size=BATCH_SIZE, shuffle=False, num_workers=4, pin_memory=True)"
   ],
   "id": "ec16962270e175c4"
  },
  {
   "metadata": {},
   "cell_type": "code",
   "outputs": [],
   "execution_count": null,
   "source": "run_tests(checkpoints, \"real\")",
   "id": "904516117816672c"
  }
 ],
 "metadata": {
  "kernelspec": {
   "display_name": "Python 3 (ipykernel)",
   "language": "python",
   "name": "python3"
  },
  "language_info": {
   "codemirror_mode": {
    "name": "ipython",
    "version": 3
   },
   "file_extension": ".py",
   "mimetype": "text/x-python",
   "name": "python",
   "nbconvert_exporter": "python",
   "pygments_lexer": "ipython3",
   "version": "3.12.9"
  }
 },
 "nbformat": 4,
 "nbformat_minor": 5
}
