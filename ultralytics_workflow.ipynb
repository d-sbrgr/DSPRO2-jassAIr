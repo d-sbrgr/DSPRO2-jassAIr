{
 "cells": [
  {
   "metadata": {},
   "cell_type": "markdown",
   "source": "# **Ultralytics YOLO Workflow**",
   "id": "8865bcf94ec9b629"
  },
  {
   "metadata": {
    "ExecuteTime": {
     "end_time": "2025-03-19T17:54:53.694284Z",
     "start_time": "2025-03-19T17:52:47.539043Z"
    }
   },
   "cell_type": "code",
   "source": "!pip install -q ultralytics opencv-python matplotlib",
   "id": "d131e796ac45d9f8",
   "outputs": [
    {
     "name": "stderr",
     "output_type": "stream",
     "text": [
      "\n",
      "[notice] A new release of pip is available: 23.2.1 -> 25.0.1\n",
      "[notice] To update, run: python.exe -m pip install --upgrade pip\n"
     ]
    }
   ],
   "execution_count": 3
  },
  {
   "metadata": {},
   "cell_type": "markdown",
   "source": "### Import Libraries",
   "id": "4eda62e117f22041"
  },
  {
   "metadata": {
    "ExecuteTime": {
     "end_time": "2025-03-19T17:59:40.359437Z",
     "start_time": "2025-03-19T17:59:40.334302Z"
    }
   },
   "cell_type": "code",
   "source": [
    "from ultralytics import YOLO\n",
    "import cv2\n",
    "import matplotlib.pyplot as plt\n",
    "from IPython.display import display, Image\n",
    "from jassair.utils.paths import get_dataset_path, Datasets\n"
   ],
   "id": "2e81e0c1077d61e5",
   "outputs": [],
   "execution_count": 7
  },
  {
   "metadata": {
    "ExecuteTime": {
     "end_time": "2025-03-19T17:59:42.675049Z",
     "start_time": "2025-03-19T17:59:42.663599Z"
    }
   },
   "cell_type": "code",
   "source": [
    "dataset_path = get_dataset_path(Datasets.FRENCH)\n",
    "dataset_path"
   ],
   "id": "99496b28b85b015a",
   "outputs": [],
   "execution_count": 8
  },
  {
   "metadata": {},
   "cell_type": "markdown",
   "source": "### Train YOLO model",
   "id": "ac1b1d0b38d87aac"
  },
  {
   "metadata": {
    "ExecuteTime": {
     "end_time": "2025-03-19T18:06:18.684012Z",
     "start_time": "2025-03-19T18:06:16.975544Z"
    }
   },
   "cell_type": "code",
   "source": "model = YOLO(\"yolo11n-cls.pt\") # Load pre-trained classification model",
   "id": "b75acd46a7914066",
   "outputs": [
    {
     "name": "stdout",
     "output_type": "stream",
     "text": [
      "Downloading https://github.com/ultralytics/assets/releases/download/v8.3.0/yolo11n-cls.pt to 'yolo11n-cls.pt'...\n"
     ]
    },
    {
     "name": "stderr",
     "output_type": "stream",
     "text": [
      "100%|██████████| 5.52M/5.52M [00:00<00:00, 22.1MB/s]\n"
     ]
    }
   ],
   "execution_count": 13
  },
  {
   "metadata": {
    "ExecuteTime": {
     "end_time": "2025-03-19T18:08:07.774477Z",
     "start_time": "2025-03-19T18:08:07.767637Z"
    }
   },
   "cell_type": "code",
   "source": [
    "data = dataset_path\n",
    "epochs = 50\n",
    "imgsz = 224"
   ],
   "id": "326e5e37a0de3944",
   "outputs": [],
   "execution_count": 14
  },
  {
   "metadata": {
    "ExecuteTime": {
     "end_time": "2025-03-19T20:20:51.513921Z",
     "start_time": "2025-03-19T18:08:10.178479Z"
    }
   },
   "cell_type": "code",
   "source": "model.train(data=data, epochs=epochs, imgsz=imgsz)",
   "id": "827f5fdd6406e207",
   "outputs": [
    {
     "name": "stdout",
     "output_type": "stream",
     "text": [
      "Ultralytics 8.3.93  Python-3.12.6 torch-2.6.0+cpu CPU (AMD Ryzen 7 4700U with Radeon Graphics)\n",
      "\u001B[34m\u001B[1mengine\\trainer: \u001B[0mtask=classify, mode=train, model=yolo11n-cls.pt, data=C:\\Users\\aaron\\Pythonfiles\\Hochschule\\DSPRO2\\DSPRO2-jassAIr\\data\\french-cards, epochs=50, time=None, patience=100, batch=16, imgsz=224, save=True, save_period=-1, cache=False, device=None, workers=8, project=None, name=train, exist_ok=False, pretrained=True, optimizer=auto, verbose=True, seed=0, deterministic=True, single_cls=False, rect=False, cos_lr=False, close_mosaic=10, resume=False, amp=True, fraction=1.0, profile=False, freeze=None, multi_scale=False, overlap_mask=True, mask_ratio=4, dropout=0.0, val=True, split=val, save_json=False, save_hybrid=False, conf=None, iou=0.7, max_det=300, half=False, dnn=False, plots=True, source=None, vid_stride=1, stream_buffer=False, visualize=False, augment=False, agnostic_nms=False, classes=None, retina_masks=False, embed=None, show=False, save_frames=False, save_txt=False, save_conf=False, save_crop=False, show_labels=True, show_conf=True, show_boxes=True, line_width=None, format=torchscript, keras=False, optimize=False, int8=False, dynamic=False, simplify=True, opset=None, workspace=None, nms=False, lr0=0.01, lrf=0.01, momentum=0.937, weight_decay=0.0005, warmup_epochs=3.0, warmup_momentum=0.8, warmup_bias_lr=0.1, box=7.5, cls=0.5, dfl=1.5, pose=12.0, kobj=1.0, nbs=64, hsv_h=0.015, hsv_s=0.7, hsv_v=0.4, degrees=0.0, translate=0.1, scale=0.5, shear=0.0, perspective=0.0, flipud=0.0, fliplr=0.5, bgr=0.0, mosaic=1.0, mixup=0.0, copy_paste=0.0, copy_paste_mode=flip, auto_augment=randaugment, erasing=0.4, crop_fraction=1.0, cfg=None, tracker=botsort.yaml, save_dir=runs\\classify\\train\n",
      "\u001B[34m\u001B[1mtrain:\u001B[0m C:\\Users\\aaron\\Pythonfiles\\Hochschule\\DSPRO2\\DSPRO2-jassAIr\\data\\french-cards\\train... found 7624 images in 53 classes  \n",
      "\u001B[34m\u001B[1mval:\u001B[0m None...\n",
      "\u001B[34m\u001B[1mtest:\u001B[0m C:\\Users\\aaron\\Pythonfiles\\Hochschule\\DSPRO2\\DSPRO2-jassAIr\\data\\french-cards\\test... found 265 images in 53 classes  \n",
      "Overriding model.yaml nc=80 with nc=53\n",
      "\n",
      "                   from  n    params  module                                       arguments                     \n",
      "  0                  -1  1       464  ultralytics.nn.modules.conv.Conv             [3, 16, 3, 2]                 \n",
      "  1                  -1  1      4672  ultralytics.nn.modules.conv.Conv             [16, 32, 3, 2]                \n",
      "  2                  -1  1      6640  ultralytics.nn.modules.block.C3k2            [32, 64, 1, False, 0.25]      \n",
      "  3                  -1  1     36992  ultralytics.nn.modules.conv.Conv             [64, 64, 3, 2]                \n",
      "  4                  -1  1     26080  ultralytics.nn.modules.block.C3k2            [64, 128, 1, False, 0.25]     \n",
      "  5                  -1  1    147712  ultralytics.nn.modules.conv.Conv             [128, 128, 3, 2]              \n",
      "  6                  -1  1     87040  ultralytics.nn.modules.block.C3k2            [128, 128, 1, True]           \n",
      "  7                  -1  1    295424  ultralytics.nn.modules.conv.Conv             [128, 256, 3, 2]              \n",
      "  8                  -1  1    346112  ultralytics.nn.modules.block.C3k2            [256, 256, 1, True]           \n",
      "  9                  -1  1    249728  ultralytics.nn.modules.block.C2PSA           [256, 256, 1]                 \n",
      " 10                  -1  1    398133  ultralytics.nn.modules.head.Classify         [256, 53]                     \n",
      "YOLO11n-cls summary: 86 layers, 1,598,997 parameters, 1,598,997 gradients, 3.3 GFLOPs\n",
      "Transferred 234/236 items from pretrained weights\n"
     ]
    },
    {
     "name": "stderr",
     "output_type": "stream",
     "text": [
      "\u001B[34m\u001B[1mtrain: \u001B[0mScanning C:\\Users\\aaron\\Pythonfiles\\Hochschule\\DSPRO2\\DSPRO2-jassAIr\\data\\french-cards\\train... 7624 images, 0 corrupt: 100%|██████████| 7624/7624 [00:03<00:00, 2208.74it/s]\n"
     ]
    },
    {
     "name": "stdout",
     "output_type": "stream",
     "text": [
      "\u001B[34m\u001B[1mtrain: \u001B[0mNew cache created: C:\\Users\\aaron\\Pythonfiles\\Hochschule\\DSPRO2\\DSPRO2-jassAIr\\data\\french-cards\\train.cache\n"
     ]
    },
    {
     "name": "stderr",
     "output_type": "stream",
     "text": [
      "\u001B[34m\u001B[1mval: \u001B[0mScanning C:\\Users\\aaron\\Pythonfiles\\Hochschule\\DSPRO2\\DSPRO2-jassAIr\\data\\french-cards\\test... 265 images, 0 corrupt: 100%|██████████| 265/265 [00:00<00:00, 1991.07it/s]"
     ]
    },
    {
     "name": "stdout",
     "output_type": "stream",
     "text": [
      "\u001B[34m\u001B[1mval: \u001B[0mNew cache created: C:\\Users\\aaron\\Pythonfiles\\Hochschule\\DSPRO2\\DSPRO2-jassAIr\\data\\french-cards\\test.cache\n"
     ]
    },
    {
     "name": "stderr",
     "output_type": "stream",
     "text": [
      "\n"
     ]
    },
    {
     "name": "stdout",
     "output_type": "stream",
     "text": [
      "\u001B[34m\u001B[1moptimizer:\u001B[0m 'optimizer=auto' found, ignoring 'lr0=0.01' and 'momentum=0.937' and determining best 'optimizer', 'lr0' and 'momentum' automatically... \n",
      "\u001B[34m\u001B[1moptimizer:\u001B[0m AdamW(lr=0.000175, momentum=0.9) with parameter groups 39 weight(decay=0.0), 40 weight(decay=0.0005), 40 bias(decay=0.0)\n",
      "Image sizes 224 train, 224 val\n",
      "Using 0 dataloader workers\n",
      "Logging results to \u001B[1mruns\\classify\\train\u001B[0m\n",
      "Starting training for 50 epochs...\n",
      "\n",
      "      Epoch    GPU_mem       loss  Instances       Size\n"
     ]
    },
    {
     "name": "stderr",
     "output_type": "stream",
     "text": [
      "       1/50         0G      3.771          8        224: 100%|██████████| 477/477 [02:50<00:00,  2.79it/s]\n",
      "               classes   top1_acc   top5_acc: 100%|██████████| 9/9 [00:01<00:00,  4.86it/s]"
     ]
    },
    {
     "name": "stdout",
     "output_type": "stream",
     "text": [
      "                   all      0.204      0.536\n"
     ]
    },
    {
     "name": "stderr",
     "output_type": "stream",
     "text": [
      "\n"
     ]
    },
    {
     "name": "stdout",
     "output_type": "stream",
     "text": [
      "\n",
      "      Epoch    GPU_mem       loss  Instances       Size\n"
     ]
    },
    {
     "name": "stderr",
     "output_type": "stream",
     "text": [
      "       2/50         0G      2.667          8        224: 100%|██████████| 477/477 [02:48<00:00,  2.83it/s]\n",
      "               classes   top1_acc   top5_acc: 100%|██████████| 9/9 [00:01<00:00,  5.03it/s]"
     ]
    },
    {
     "name": "stdout",
     "output_type": "stream",
     "text": [
      "                   all      0.355      0.838\n"
     ]
    },
    {
     "name": "stderr",
     "output_type": "stream",
     "text": [
      "\n"
     ]
    },
    {
     "name": "stdout",
     "output_type": "stream",
     "text": [
      "\n",
      "      Epoch    GPU_mem       loss  Instances       Size\n"
     ]
    },
    {
     "name": "stderr",
     "output_type": "stream",
     "text": [
      "       3/50         0G      1.993          8        224: 100%|██████████| 477/477 [02:43<00:00,  2.92it/s]\n",
      "               classes   top1_acc   top5_acc: 100%|██████████| 9/9 [00:01<00:00,  5.05it/s]"
     ]
    },
    {
     "name": "stdout",
     "output_type": "stream",
     "text": [
      "                   all      0.555      0.887\n",
      "\n",
      "      Epoch    GPU_mem       loss  Instances       Size\n"
     ]
    },
    {
     "name": "stderr",
     "output_type": "stream",
     "text": [
      "\n",
      "       4/50         0G       1.63          8        224: 100%|██████████| 477/477 [02:41<00:00,  2.95it/s]\n",
      "               classes   top1_acc   top5_acc: 100%|██████████| 9/9 [00:01<00:00,  5.07it/s]"
     ]
    },
    {
     "name": "stdout",
     "output_type": "stream",
     "text": [
      "                   all      0.706      0.917\n"
     ]
    },
    {
     "name": "stderr",
     "output_type": "stream",
     "text": [
      "\n"
     ]
    },
    {
     "name": "stdout",
     "output_type": "stream",
     "text": [
      "\n",
      "      Epoch    GPU_mem       loss  Instances       Size\n"
     ]
    },
    {
     "name": "stderr",
     "output_type": "stream",
     "text": [
      "       5/50         0G      1.373          8        224: 100%|██████████| 477/477 [02:41<00:00,  2.95it/s]\n",
      "               classes   top1_acc   top5_acc: 100%|██████████| 9/9 [00:01<00:00,  4.95it/s]"
     ]
    },
    {
     "name": "stdout",
     "output_type": "stream",
     "text": [
      "                   all      0.766      0.921\n"
     ]
    },
    {
     "name": "stderr",
     "output_type": "stream",
     "text": [
      "\n"
     ]
    },
    {
     "name": "stdout",
     "output_type": "stream",
     "text": [
      "\n",
      "      Epoch    GPU_mem       loss  Instances       Size\n"
     ]
    },
    {
     "name": "stderr",
     "output_type": "stream",
     "text": [
      "       6/50         0G       1.22          8        224: 100%|██████████| 477/477 [02:41<00:00,  2.95it/s]\n",
      "               classes   top1_acc   top5_acc: 100%|██████████| 9/9 [00:01<00:00,  5.02it/s]"
     ]
    },
    {
     "name": "stdout",
     "output_type": "stream",
     "text": [
      "                   all        0.8      0.947\n",
      "\n",
      "      Epoch    GPU_mem       loss  Instances       Size\n"
     ]
    },
    {
     "name": "stderr",
     "output_type": "stream",
     "text": [
      "\n",
      "       7/50         0G      1.096          8        224: 100%|██████████| 477/477 [02:40<00:00,  2.97it/s]\n",
      "               classes   top1_acc   top5_acc: 100%|██████████| 9/9 [00:01<00:00,  5.01it/s]"
     ]
    },
    {
     "name": "stdout",
     "output_type": "stream",
     "text": [
      "                   all      0.811      0.958\n",
      "\n",
      "      Epoch    GPU_mem       loss  Instances       Size\n"
     ]
    },
    {
     "name": "stderr",
     "output_type": "stream",
     "text": [
      "\n",
      "       8/50         0G     0.9994          8        224: 100%|██████████| 477/477 [02:41<00:00,  2.96it/s]\n",
      "               classes   top1_acc   top5_acc: 100%|██████████| 9/9 [00:01<00:00,  5.07it/s]"
     ]
    },
    {
     "name": "stdout",
     "output_type": "stream",
     "text": [
      "                   all      0.853      0.981\n",
      "\n",
      "      Epoch    GPU_mem       loss  Instances       Size\n"
     ]
    },
    {
     "name": "stderr",
     "output_type": "stream",
     "text": [
      "\n",
      "       9/50         0G      0.935          8        224: 100%|██████████| 477/477 [02:50<00:00,  2.79it/s]\n",
      "               classes   top1_acc   top5_acc: 100%|██████████| 9/9 [00:01<00:00,  5.40it/s]"
     ]
    },
    {
     "name": "stdout",
     "output_type": "stream",
     "text": [
      "                   all      0.883      0.981\n"
     ]
    },
    {
     "name": "stderr",
     "output_type": "stream",
     "text": [
      "\n"
     ]
    },
    {
     "name": "stdout",
     "output_type": "stream",
     "text": [
      "\n",
      "      Epoch    GPU_mem       loss  Instances       Size\n"
     ]
    },
    {
     "name": "stderr",
     "output_type": "stream",
     "text": [
      "      10/50         0G     0.8691          8        224: 100%|██████████| 477/477 [02:46<00:00,  2.86it/s]\n",
      "               classes   top1_acc   top5_acc: 100%|██████████| 9/9 [00:01<00:00,  5.34it/s]"
     ]
    },
    {
     "name": "stdout",
     "output_type": "stream",
     "text": [
      "                   all      0.887      0.989\n",
      "\n",
      "      Epoch    GPU_mem       loss  Instances       Size\n"
     ]
    },
    {
     "name": "stderr",
     "output_type": "stream",
     "text": [
      "\n",
      "      11/50         0G     0.8258          8        224: 100%|██████████| 477/477 [02:39<00:00,  2.99it/s]\n",
      "               classes   top1_acc   top5_acc: 100%|██████████| 9/9 [00:01<00:00,  5.09it/s]"
     ]
    },
    {
     "name": "stdout",
     "output_type": "stream",
     "text": [
      "                   all      0.917      0.996\n"
     ]
    },
    {
     "name": "stderr",
     "output_type": "stream",
     "text": [
      "\n"
     ]
    },
    {
     "name": "stdout",
     "output_type": "stream",
     "text": [
      "\n",
      "      Epoch    GPU_mem       loss  Instances       Size\n"
     ]
    },
    {
     "name": "stderr",
     "output_type": "stream",
     "text": [
      "      12/50         0G     0.7777          8        224: 100%|██████████| 477/477 [02:31<00:00,  3.15it/s]\n",
      "               classes   top1_acc   top5_acc: 100%|██████████| 9/9 [00:01<00:00,  5.33it/s]"
     ]
    },
    {
     "name": "stdout",
     "output_type": "stream",
     "text": [
      "                   all      0.898      0.981\n",
      "\n",
      "      Epoch    GPU_mem       loss  Instances       Size\n"
     ]
    },
    {
     "name": "stderr",
     "output_type": "stream",
     "text": [
      "\n",
      "      13/50         0G     0.7404          8        224: 100%|██████████| 477/477 [02:33<00:00,  3.10it/s]\n",
      "               classes   top1_acc   top5_acc: 100%|██████████| 9/9 [00:01<00:00,  5.34it/s]"
     ]
    },
    {
     "name": "stdout",
     "output_type": "stream",
     "text": [
      "                   all      0.902      0.989\n",
      "\n",
      "      Epoch    GPU_mem       loss  Instances       Size\n"
     ]
    },
    {
     "name": "stderr",
     "output_type": "stream",
     "text": [
      "\n",
      "      14/50         0G     0.7096          8        224: 100%|██████████| 477/477 [02:30<00:00,  3.17it/s]\n",
      "               classes   top1_acc   top5_acc: 100%|██████████| 9/9 [00:01<00:00,  5.32it/s]"
     ]
    },
    {
     "name": "stdout",
     "output_type": "stream",
     "text": [
      "                   all      0.917      0.992\n",
      "\n",
      "      Epoch    GPU_mem       loss  Instances       Size\n"
     ]
    },
    {
     "name": "stderr",
     "output_type": "stream",
     "text": [
      "\n",
      "      15/50         0G      0.682          8        224: 100%|██████████| 477/477 [02:30<00:00,  3.17it/s]\n",
      "               classes   top1_acc   top5_acc: 100%|██████████| 9/9 [00:01<00:00,  5.33it/s]"
     ]
    },
    {
     "name": "stdout",
     "output_type": "stream",
     "text": [
      "                   all      0.925          1\n",
      "\n",
      "      Epoch    GPU_mem       loss  Instances       Size\n"
     ]
    },
    {
     "name": "stderr",
     "output_type": "stream",
     "text": [
      "\n",
      "      16/50         0G     0.6545          8        224: 100%|██████████| 477/477 [02:30<00:00,  3.17it/s]\n",
      "               classes   top1_acc   top5_acc: 100%|██████████| 9/9 [00:01<00:00,  5.32it/s]"
     ]
    },
    {
     "name": "stdout",
     "output_type": "stream",
     "text": [
      "                   all      0.917          1\n",
      "\n",
      "      Epoch    GPU_mem       loss  Instances       Size\n"
     ]
    },
    {
     "name": "stderr",
     "output_type": "stream",
     "text": [
      "\n",
      "      17/50         0G     0.6465          8        224: 100%|██████████| 477/477 [02:30<00:00,  3.18it/s]\n",
      "               classes   top1_acc   top5_acc: 100%|██████████| 9/9 [00:01<00:00,  5.29it/s]"
     ]
    },
    {
     "name": "stdout",
     "output_type": "stream",
     "text": [
      "                   all      0.936      0.996\n"
     ]
    },
    {
     "name": "stderr",
     "output_type": "stream",
     "text": [
      "\n"
     ]
    },
    {
     "name": "stdout",
     "output_type": "stream",
     "text": [
      "\n",
      "      Epoch    GPU_mem       loss  Instances       Size\n"
     ]
    },
    {
     "name": "stderr",
     "output_type": "stream",
     "text": [
      "      18/50         0G     0.5953          8        224: 100%|██████████| 477/477 [02:29<00:00,  3.18it/s]\n",
      "               classes   top1_acc   top5_acc: 100%|██████████| 9/9 [00:01<00:00,  5.31it/s]"
     ]
    },
    {
     "name": "stdout",
     "output_type": "stream",
     "text": [
      "                   all      0.928      0.996\n"
     ]
    },
    {
     "name": "stderr",
     "output_type": "stream",
     "text": [
      "\n"
     ]
    },
    {
     "name": "stdout",
     "output_type": "stream",
     "text": [
      "\n",
      "      Epoch    GPU_mem       loss  Instances       Size\n"
     ]
    },
    {
     "name": "stderr",
     "output_type": "stream",
     "text": [
      "      19/50         0G     0.5859          8        224: 100%|██████████| 477/477 [02:31<00:00,  3.16it/s]\n",
      "               classes   top1_acc   top5_acc: 100%|██████████| 9/9 [00:01<00:00,  5.30it/s]"
     ]
    },
    {
     "name": "stdout",
     "output_type": "stream",
     "text": [
      "                   all      0.936      0.992\n",
      "\n",
      "      Epoch    GPU_mem       loss  Instances       Size\n"
     ]
    },
    {
     "name": "stderr",
     "output_type": "stream",
     "text": [
      "\n",
      "      20/50         0G     0.5742          8        224: 100%|██████████| 477/477 [02:30<00:00,  3.17it/s]\n",
      "               classes   top1_acc   top5_acc: 100%|██████████| 9/9 [00:01<00:00,  5.29it/s]"
     ]
    },
    {
     "name": "stdout",
     "output_type": "stream",
     "text": [
      "                   all      0.951      0.992\n",
      "\n",
      "      Epoch    GPU_mem       loss  Instances       Size\n"
     ]
    },
    {
     "name": "stderr",
     "output_type": "stream",
     "text": [
      "\n",
      "      21/50         0G     0.5476          8        224: 100%|██████████| 477/477 [02:35<00:00,  3.07it/s]\n",
      "               classes   top1_acc   top5_acc: 100%|██████████| 9/9 [00:01<00:00,  5.31it/s]"
     ]
    },
    {
     "name": "stdout",
     "output_type": "stream",
     "text": [
      "                   all      0.955      0.996\n",
      "\n",
      "      Epoch    GPU_mem       loss  Instances       Size\n"
     ]
    },
    {
     "name": "stderr",
     "output_type": "stream",
     "text": [
      "\n",
      "      22/50         0G     0.5355          8        224: 100%|██████████| 477/477 [02:30<00:00,  3.17it/s]\n",
      "               classes   top1_acc   top5_acc: 100%|██████████| 9/9 [00:01<00:00,  5.32it/s]"
     ]
    },
    {
     "name": "stdout",
     "output_type": "stream",
     "text": [
      "                   all      0.947          1\n",
      "\n",
      "      Epoch    GPU_mem       loss  Instances       Size\n"
     ]
    },
    {
     "name": "stderr",
     "output_type": "stream",
     "text": [
      "\n",
      "      23/50         0G     0.5169          8        224: 100%|██████████| 477/477 [02:31<00:00,  3.15it/s]\n",
      "               classes   top1_acc   top5_acc: 100%|██████████| 9/9 [00:01<00:00,  5.31it/s]"
     ]
    },
    {
     "name": "stdout",
     "output_type": "stream",
     "text": [
      "                   all      0.936          1\n",
      "\n",
      "      Epoch    GPU_mem       loss  Instances       Size\n"
     ]
    },
    {
     "name": "stderr",
     "output_type": "stream",
     "text": [
      "\n",
      "      24/50         0G     0.5126          8        224: 100%|██████████| 477/477 [02:33<00:00,  3.10it/s]\n",
      "               classes   top1_acc   top5_acc: 100%|██████████| 9/9 [00:01<00:00,  5.17it/s]"
     ]
    },
    {
     "name": "stdout",
     "output_type": "stream",
     "text": [
      "                   all      0.951          1\n",
      "\n",
      "      Epoch    GPU_mem       loss  Instances       Size\n"
     ]
    },
    {
     "name": "stderr",
     "output_type": "stream",
     "text": [
      "\n",
      "      25/50         0G     0.4933          8        224: 100%|██████████| 477/477 [02:31<00:00,  3.15it/s]\n",
      "               classes   top1_acc   top5_acc: 100%|██████████| 9/9 [00:01<00:00,  5.28it/s]"
     ]
    },
    {
     "name": "stdout",
     "output_type": "stream",
     "text": [
      "                   all      0.958      0.992\n",
      "\n",
      "      Epoch    GPU_mem       loss  Instances       Size\n"
     ]
    },
    {
     "name": "stderr",
     "output_type": "stream",
     "text": [
      "\n",
      "      26/50         0G     0.4807          8        224: 100%|██████████| 477/477 [02:32<00:00,  3.14it/s]\n",
      "               classes   top1_acc   top5_acc: 100%|██████████| 9/9 [00:01<00:00,  4.80it/s]"
     ]
    },
    {
     "name": "stdout",
     "output_type": "stream",
     "text": [
      "                   all      0.936      0.996\n"
     ]
    },
    {
     "name": "stderr",
     "output_type": "stream",
     "text": [
      "\n"
     ]
    },
    {
     "name": "stdout",
     "output_type": "stream",
     "text": [
      "\n",
      "      Epoch    GPU_mem       loss  Instances       Size\n"
     ]
    },
    {
     "name": "stderr",
     "output_type": "stream",
     "text": [
      "      27/50         0G     0.4615          8        224: 100%|██████████| 477/477 [02:31<00:00,  3.14it/s]\n",
      "               classes   top1_acc   top5_acc: 100%|██████████| 9/9 [00:01<00:00,  5.26it/s]"
     ]
    },
    {
     "name": "stdout",
     "output_type": "stream",
     "text": [
      "                   all      0.943      0.996\n",
      "\n",
      "      Epoch    GPU_mem       loss  Instances       Size\n"
     ]
    },
    {
     "name": "stderr",
     "output_type": "stream",
     "text": [
      "\n",
      "      28/50         0G     0.4577          8        224: 100%|██████████| 477/477 [02:32<00:00,  3.14it/s]\n",
      "               classes   top1_acc   top5_acc: 100%|██████████| 9/9 [00:01<00:00,  5.34it/s]"
     ]
    },
    {
     "name": "stdout",
     "output_type": "stream",
     "text": [
      "                   all      0.947          1\n"
     ]
    },
    {
     "name": "stderr",
     "output_type": "stream",
     "text": [
      "\n"
     ]
    },
    {
     "name": "stdout",
     "output_type": "stream",
     "text": [
      "\n",
      "      Epoch    GPU_mem       loss  Instances       Size\n"
     ]
    },
    {
     "name": "stderr",
     "output_type": "stream",
     "text": [
      "      29/50         0G     0.4459          8        224: 100%|██████████| 477/477 [02:35<00:00,  3.07it/s]\n",
      "               classes   top1_acc   top5_acc: 100%|██████████| 9/9 [00:01<00:00,  5.09it/s]"
     ]
    },
    {
     "name": "stdout",
     "output_type": "stream",
     "text": [
      "                   all       0.94          1\n"
     ]
    },
    {
     "name": "stderr",
     "output_type": "stream",
     "text": [
      "\n"
     ]
    },
    {
     "name": "stdout",
     "output_type": "stream",
     "text": [
      "\n",
      "      Epoch    GPU_mem       loss  Instances       Size\n"
     ]
    },
    {
     "name": "stderr",
     "output_type": "stream",
     "text": [
      "      30/50         0G     0.4273          8        224: 100%|██████████| 477/477 [02:37<00:00,  3.04it/s]\n",
      "               classes   top1_acc   top5_acc: 100%|██████████| 9/9 [00:01<00:00,  5.38it/s]"
     ]
    },
    {
     "name": "stdout",
     "output_type": "stream",
     "text": [
      "                   all      0.951      0.996\n",
      "\n",
      "      Epoch    GPU_mem       loss  Instances       Size\n"
     ]
    },
    {
     "name": "stderr",
     "output_type": "stream",
     "text": [
      "\n",
      "      31/50         0G     0.4209          8        224: 100%|██████████| 477/477 [02:30<00:00,  3.17it/s]\n",
      "               classes   top1_acc   top5_acc: 100%|██████████| 9/9 [00:01<00:00,  5.29it/s]"
     ]
    },
    {
     "name": "stdout",
     "output_type": "stream",
     "text": [
      "                   all      0.955      0.996\n",
      "\n",
      "      Epoch    GPU_mem       loss  Instances       Size\n"
     ]
    },
    {
     "name": "stderr",
     "output_type": "stream",
     "text": [
      "\n",
      "      32/50         0G     0.4136          8        224: 100%|██████████| 477/477 [02:47<00:00,  2.85it/s]\n",
      "               classes   top1_acc   top5_acc: 100%|██████████| 9/9 [00:01<00:00,  5.39it/s]"
     ]
    },
    {
     "name": "stdout",
     "output_type": "stream",
     "text": [
      "                   all      0.951      0.996\n",
      "\n",
      "      Epoch    GPU_mem       loss  Instances       Size\n"
     ]
    },
    {
     "name": "stderr",
     "output_type": "stream",
     "text": [
      "\n",
      "      33/50         0G     0.4208          8        224: 100%|██████████| 477/477 [02:39<00:00,  2.99it/s]\n",
      "               classes   top1_acc   top5_acc: 100%|██████████| 9/9 [00:01<00:00,  5.32it/s]"
     ]
    },
    {
     "name": "stdout",
     "output_type": "stream",
     "text": [
      "                   all      0.955      0.996\n"
     ]
    },
    {
     "name": "stderr",
     "output_type": "stream",
     "text": [
      "\n"
     ]
    },
    {
     "name": "stdout",
     "output_type": "stream",
     "text": [
      "\n",
      "      Epoch    GPU_mem       loss  Instances       Size\n"
     ]
    },
    {
     "name": "stderr",
     "output_type": "stream",
     "text": [
      "      34/50         0G     0.3914          8        224: 100%|██████████| 477/477 [02:50<00:00,  2.80it/s]\n",
      "               classes   top1_acc   top5_acc: 100%|██████████| 9/9 [00:01<00:00,  5.40it/s]"
     ]
    },
    {
     "name": "stdout",
     "output_type": "stream",
     "text": [
      "                   all      0.955      0.996\n",
      "\n",
      "      Epoch    GPU_mem       loss  Instances       Size\n"
     ]
    },
    {
     "name": "stderr",
     "output_type": "stream",
     "text": [
      "\n",
      "      35/50         0G     0.3776          8        224: 100%|██████████| 477/477 [02:33<00:00,  3.10it/s]\n",
      "               classes   top1_acc   top5_acc: 100%|██████████| 9/9 [00:01<00:00,  5.32it/s]"
     ]
    },
    {
     "name": "stdout",
     "output_type": "stream",
     "text": [
      "                   all      0.947      0.996\n",
      "\n",
      "      Epoch    GPU_mem       loss  Instances       Size\n"
     ]
    },
    {
     "name": "stderr",
     "output_type": "stream",
     "text": [
      "\n",
      "      36/50         0G     0.3736          8        224: 100%|██████████| 477/477 [02:31<00:00,  3.16it/s]\n",
      "               classes   top1_acc   top5_acc: 100%|██████████| 9/9 [00:01<00:00,  5.26it/s]"
     ]
    },
    {
     "name": "stdout",
     "output_type": "stream",
     "text": [
      "                   all      0.947      0.996\n",
      "\n",
      "      Epoch    GPU_mem       loss  Instances       Size\n"
     ]
    },
    {
     "name": "stderr",
     "output_type": "stream",
     "text": [
      "\n",
      "      37/50         0G     0.3914          8        224: 100%|██████████| 477/477 [02:48<00:00,  2.83it/s]\n",
      "               classes   top1_acc   top5_acc: 100%|██████████| 9/9 [00:02<00:00,  3.95it/s]"
     ]
    },
    {
     "name": "stdout",
     "output_type": "stream",
     "text": [
      "                   all      0.951      0.996\n",
      "\n",
      "      Epoch    GPU_mem       loss  Instances       Size\n"
     ]
    },
    {
     "name": "stderr",
     "output_type": "stream",
     "text": [
      "\n",
      "      38/50         0G     0.3729          8        224: 100%|██████████| 477/477 [03:03<00:00,  2.60it/s]\n",
      "               classes   top1_acc   top5_acc: 100%|██████████| 9/9 [00:01<00:00,  5.20it/s]"
     ]
    },
    {
     "name": "stdout",
     "output_type": "stream",
     "text": [
      "                   all      0.955      0.996\n",
      "\n",
      "      Epoch    GPU_mem       loss  Instances       Size\n"
     ]
    },
    {
     "name": "stderr",
     "output_type": "stream",
     "text": [
      "\n",
      "      39/50         0G     0.3714          8        224: 100%|██████████| 477/477 [02:31<00:00,  3.14it/s]\n",
      "               classes   top1_acc   top5_acc: 100%|██████████| 9/9 [00:01<00:00,  5.33it/s]"
     ]
    },
    {
     "name": "stdout",
     "output_type": "stream",
     "text": [
      "                   all      0.958          1\n"
     ]
    },
    {
     "name": "stderr",
     "output_type": "stream",
     "text": [
      "\n"
     ]
    },
    {
     "name": "stdout",
     "output_type": "stream",
     "text": [
      "\n",
      "      Epoch    GPU_mem       loss  Instances       Size\n"
     ]
    },
    {
     "name": "stderr",
     "output_type": "stream",
     "text": [
      "      40/50         0G     0.3481          8        224: 100%|██████████| 477/477 [02:32<00:00,  3.14it/s]\n",
      "               classes   top1_acc   top5_acc: 100%|██████████| 9/9 [00:01<00:00,  5.27it/s]"
     ]
    },
    {
     "name": "stdout",
     "output_type": "stream",
     "text": [
      "                   all      0.966          1\n"
     ]
    },
    {
     "name": "stderr",
     "output_type": "stream",
     "text": [
      "\n"
     ]
    },
    {
     "name": "stdout",
     "output_type": "stream",
     "text": [
      "\n",
      "      Epoch    GPU_mem       loss  Instances       Size\n"
     ]
    },
    {
     "name": "stderr",
     "output_type": "stream",
     "text": [
      "      41/50         0G      0.356          8        224: 100%|██████████| 477/477 [02:31<00:00,  3.15it/s]\n",
      "               classes   top1_acc   top5_acc: 100%|██████████| 9/9 [00:01<00:00,  5.24it/s]"
     ]
    },
    {
     "name": "stdout",
     "output_type": "stream",
     "text": [
      "                   all      0.955          1\n",
      "\n",
      "      Epoch    GPU_mem       loss  Instances       Size\n"
     ]
    },
    {
     "name": "stderr",
     "output_type": "stream",
     "text": [
      "\n",
      "      42/50         0G     0.3542          8        224: 100%|██████████| 477/477 [02:31<00:00,  3.14it/s]\n",
      "               classes   top1_acc   top5_acc: 100%|██████████| 9/9 [00:01<00:00,  5.20it/s]"
     ]
    },
    {
     "name": "stdout",
     "output_type": "stream",
     "text": [
      "                   all      0.955          1\n",
      "\n",
      "      Epoch    GPU_mem       loss  Instances       Size\n"
     ]
    },
    {
     "name": "stderr",
     "output_type": "stream",
     "text": [
      "\n",
      "      43/50         0G     0.3446          8        224: 100%|██████████| 477/477 [02:32<00:00,  3.13it/s]\n",
      "               classes   top1_acc   top5_acc: 100%|██████████| 9/9 [00:01<00:00,  5.34it/s]"
     ]
    },
    {
     "name": "stdout",
     "output_type": "stream",
     "text": [
      "                   all      0.951          1\n"
     ]
    },
    {
     "name": "stderr",
     "output_type": "stream",
     "text": [
      "\n"
     ]
    },
    {
     "name": "stdout",
     "output_type": "stream",
     "text": [
      "\n",
      "      Epoch    GPU_mem       loss  Instances       Size\n"
     ]
    },
    {
     "name": "stderr",
     "output_type": "stream",
     "text": [
      "      44/50         0G     0.3421          8        224: 100%|██████████| 477/477 [02:42<00:00,  2.94it/s]\n",
      "               classes   top1_acc   top5_acc: 100%|██████████| 9/9 [00:01<00:00,  5.19it/s]"
     ]
    },
    {
     "name": "stdout",
     "output_type": "stream",
     "text": [
      "                   all      0.947          1\n"
     ]
    },
    {
     "name": "stderr",
     "output_type": "stream",
     "text": [
      "\n"
     ]
    },
    {
     "name": "stdout",
     "output_type": "stream",
     "text": [
      "\n",
      "      Epoch    GPU_mem       loss  Instances       Size\n"
     ]
    },
    {
     "name": "stderr",
     "output_type": "stream",
     "text": [
      "      45/50         0G     0.3219          8        224: 100%|██████████| 477/477 [02:33<00:00,  3.11it/s]\n",
      "               classes   top1_acc   top5_acc: 100%|██████████| 9/9 [00:01<00:00,  5.21it/s]"
     ]
    },
    {
     "name": "stdout",
     "output_type": "stream",
     "text": [
      "                   all      0.951          1\n"
     ]
    },
    {
     "name": "stderr",
     "output_type": "stream",
     "text": [
      "\n"
     ]
    },
    {
     "name": "stdout",
     "output_type": "stream",
     "text": [
      "\n",
      "      Epoch    GPU_mem       loss  Instances       Size\n"
     ]
    },
    {
     "name": "stderr",
     "output_type": "stream",
     "text": [
      "      46/50         0G      0.324          8        224: 100%|██████████| 477/477 [02:33<00:00,  3.11it/s]\n",
      "               classes   top1_acc   top5_acc: 100%|██████████| 9/9 [00:01<00:00,  5.20it/s]"
     ]
    },
    {
     "name": "stdout",
     "output_type": "stream",
     "text": [
      "                   all      0.958          1\n"
     ]
    },
    {
     "name": "stderr",
     "output_type": "stream",
     "text": [
      "\n"
     ]
    },
    {
     "name": "stdout",
     "output_type": "stream",
     "text": [
      "\n",
      "      Epoch    GPU_mem       loss  Instances       Size\n"
     ]
    },
    {
     "name": "stderr",
     "output_type": "stream",
     "text": [
      "      47/50         0G     0.3197          8        224: 100%|██████████| 477/477 [02:32<00:00,  3.12it/s]\n",
      "               classes   top1_acc   top5_acc: 100%|██████████| 9/9 [00:01<00:00,  5.20it/s]"
     ]
    },
    {
     "name": "stdout",
     "output_type": "stream",
     "text": [
      "                   all      0.951          1\n",
      "\n",
      "      Epoch    GPU_mem       loss  Instances       Size\n"
     ]
    },
    {
     "name": "stderr",
     "output_type": "stream",
     "text": [
      "\n",
      "      48/50         0G     0.3211          8        224: 100%|██████████| 477/477 [02:36<00:00,  3.06it/s]\n",
      "               classes   top1_acc   top5_acc: 100%|██████████| 9/9 [00:05<00:00,  1.57it/s]"
     ]
    },
    {
     "name": "stdout",
     "output_type": "stream",
     "text": [
      "                   all      0.955          1\n",
      "\n",
      "      Epoch    GPU_mem       loss  Instances       Size\n"
     ]
    },
    {
     "name": "stderr",
     "output_type": "stream",
     "text": [
      "\n",
      "      49/50         0G     0.3113          8        224: 100%|██████████| 477/477 [02:33<00:00,  3.10it/s]\n",
      "               classes   top1_acc   top5_acc: 100%|██████████| 9/9 [00:01<00:00,  5.27it/s]"
     ]
    },
    {
     "name": "stdout",
     "output_type": "stream",
     "text": [
      "                   all      0.955          1\n"
     ]
    },
    {
     "name": "stderr",
     "output_type": "stream",
     "text": [
      "\n"
     ]
    },
    {
     "name": "stdout",
     "output_type": "stream",
     "text": [
      "\n",
      "      Epoch    GPU_mem       loss  Instances       Size\n"
     ]
    },
    {
     "name": "stderr",
     "output_type": "stream",
     "text": [
      "      50/50         0G     0.3171          8        224: 100%|██████████| 477/477 [02:40<00:00,  2.98it/s]\n",
      "               classes   top1_acc   top5_acc: 100%|██████████| 9/9 [00:01<00:00,  5.27it/s]"
     ]
    },
    {
     "name": "stdout",
     "output_type": "stream",
     "text": [
      "                   all      0.947          1\n",
      "\n",
      "50 epochs completed in 2.208 hours.\n"
     ]
    },
    {
     "name": "stderr",
     "output_type": "stream",
     "text": [
      "\n"
     ]
    },
    {
     "name": "stdout",
     "output_type": "stream",
     "text": [
      "Optimizer stripped from runs\\classify\\train\\weights\\last.pt, 3.3MB\n",
      "Optimizer stripped from runs\\classify\\train\\weights\\best.pt, 3.3MB\n",
      "\n",
      "Validating runs\\classify\\train\\weights\\best.pt...\n",
      "Ultralytics 8.3.93  Python-3.12.6 torch-2.6.0+cpu CPU (AMD Ryzen 7 4700U with Radeon Graphics)\n",
      "YOLO11n-cls summary (fused): 47 layers, 1,593,917 parameters, 0 gradients, 3.2 GFLOPs\n",
      "WARNING  Dataset 'split=val' not found, using 'split=test' instead.\n",
      "\u001B[34m\u001B[1mtrain:\u001B[0m C:\\Users\\aaron\\Pythonfiles\\Hochschule\\DSPRO2\\DSPRO2-jassAIr\\data\\french-cards\\train... found 7624 images in 53 classes  \n",
      "\u001B[34m\u001B[1mval:\u001B[0m C:\\Users\\aaron\\Pythonfiles\\Hochschule\\DSPRO2\\DSPRO2-jassAIr\\data\\french-cards\\test... found 265 images in 53 classes  \n",
      "\u001B[34m\u001B[1mtest:\u001B[0m C:\\Users\\aaron\\Pythonfiles\\Hochschule\\DSPRO2\\DSPRO2-jassAIr\\data\\french-cards\\test... found 265 images in 53 classes  \n"
     ]
    },
    {
     "name": "stderr",
     "output_type": "stream",
     "text": [
      "               classes   top1_acc   top5_acc: 100%|██████████| 9/9 [00:01<00:00,  5.79it/s]\n"
     ]
    },
    {
     "name": "stdout",
     "output_type": "stream",
     "text": [
      "                   all      0.966          1\n",
      "Speed: 0.0ms preprocess, 4.0ms inference, 0.0ms loss, 0.0ms postprocess per image\n",
      "Results saved to \u001B[1mruns\\classify\\train\u001B[0m\n"
     ]
    },
    {
     "data": {
      "text/plain": [
       "ultralytics.utils.metrics.ClassifyMetrics object with attributes:\n",
       "\n",
       "confusion_matrix: <ultralytics.utils.metrics.ConfusionMatrix object at 0x0000029A20AB13D0>\n",
       "curves: []\n",
       "curves_results: []\n",
       "fitness: 0.9830188751220703\n",
       "keys: ['metrics/accuracy_top1', 'metrics/accuracy_top5']\n",
       "results_dict: {'metrics/accuracy_top1': 0.9660377502441406, 'metrics/accuracy_top5': 1.0, 'fitness': 0.9830188751220703}\n",
       "save_dir: WindowsPath('runs/classify/train')\n",
       "speed: {'preprocess': 0.0006377354334547835, 'inference': 3.9939305659401105, 'loss': 3.924558185181528e-05, 'postprocess': 0.0001094339169421286}\n",
       "task: 'classify'\n",
       "top1: 0.9660377502441406\n",
       "top5: 1.0"
      ]
     },
     "execution_count": 15,
     "metadata": {},
     "output_type": "execute_result"
    }
   ],
   "execution_count": 15
  },
  {
   "metadata": {
    "ExecuteTime": {
     "end_time": "2025-03-20T08:14:23.272735Z",
     "start_time": "2025-03-20T08:14:18.943475Z"
    }
   },
   "cell_type": "code",
   "source": "model.val()\n",
   "id": "96f879045584e387",
   "outputs": [
    {
     "name": "stdout",
     "output_type": "stream",
     "text": [
      "Ultralytics 8.3.93  Python-3.12.6 torch-2.6.0+cpu CPU (AMD Ryzen 7 4700U with Radeon Graphics)\n",
      "YOLO11n-cls summary (fused): 47 layers, 1,593,917 parameters, 0 gradients, 3.2 GFLOPs\n",
      "WARNING  Dataset 'split=val' not found, using 'split=test' instead.\n",
      "\u001B[34m\u001B[1mtrain:\u001B[0m C:\\Users\\aaron\\Pythonfiles\\Hochschule\\DSPRO2\\DSPRO2-jassAIr\\data\\french-cards\\train... found 7624 images in 53 classes  \n",
      "\u001B[34m\u001B[1mval:\u001B[0m C:\\Users\\aaron\\Pythonfiles\\Hochschule\\DSPRO2\\DSPRO2-jassAIr\\data\\french-cards\\test... found 265 images in 53 classes  \n",
      "\u001B[34m\u001B[1mtest:\u001B[0m C:\\Users\\aaron\\Pythonfiles\\Hochschule\\DSPRO2\\DSPRO2-jassAIr\\data\\french-cards\\test... found 265 images in 53 classes  \n"
     ]
    },
    {
     "name": "stderr",
     "output_type": "stream",
     "text": [
      "\u001B[34m\u001B[1mval: \u001B[0mScanning C:\\Users\\aaron\\Pythonfiles\\Hochschule\\DSPRO2\\DSPRO2-jassAIr\\data\\french-cards\\test... 265 images, 0 corrupt: 100%|██████████| 265/265 [00:00<?, ?it/s]\n",
      "               classes   top1_acc   top5_acc: 100%|██████████| 17/17 [00:02<00:00,  8.15it/s]\n"
     ]
    },
    {
     "name": "stdout",
     "output_type": "stream",
     "text": [
      "                   all      0.966          1\n",
      "Speed: 0.0ms preprocess, 4.4ms inference, 0.0ms loss, 0.0ms postprocess per image\n",
      "Results saved to \u001B[1mruns\\classify\\train2\u001B[0m\n"
     ]
    },
    {
     "data": {
      "text/plain": [
       "ultralytics.utils.metrics.ClassifyMetrics object with attributes:\n",
       "\n",
       "confusion_matrix: <ultralytics.utils.metrics.ConfusionMatrix object at 0x0000029A2769B560>\n",
       "curves: []\n",
       "curves_results: []\n",
       "fitness: 0.9830188751220703\n",
       "keys: ['metrics/accuracy_top1', 'metrics/accuracy_top5']\n",
       "results_dict: {'metrics/accuracy_top1': 0.9660377502441406, 'metrics/accuracy_top5': 1.0, 'fitness': 0.9830188751220703}\n",
       "save_dir: WindowsPath('runs/classify/train2')\n",
       "speed: {'preprocess': 0.0011652828861941707, 'inference': 4.407278113374662, 'loss': 5.962265620254121e-05, 'postprocess': 0.00020188723146071972}\n",
       "task: 'classify'\n",
       "top1: 0.9660377502441406\n",
       "top5: 1.0"
      ]
     },
     "execution_count": 16,
     "metadata": {},
     "output_type": "execute_result"
    }
   ],
   "execution_count": 16
  },
  {
   "metadata": {
    "ExecuteTime": {
     "end_time": "2025-03-20T08:16:03.501291Z",
     "start_time": "2025-03-20T08:16:03.469539Z"
    }
   },
   "cell_type": "code",
   "source": "results = model(\"data/french-cards/test/eight of spades/4.jpg\")\n",
   "id": "2c09b429fff5924",
   "outputs": [
    {
     "name": "stdout",
     "output_type": "stream",
     "text": [
      "\n",
      "image 1/1 C:\\Users\\aaron\\Pythonfiles\\Hochschule\\DSPRO2\\DSPRO2-jassAIr\\data\\french-cards\\test\\eight of spades\\4.jpg: 224x224 eight of spades 0.99, nine of spades 0.01, six of spades 0.00, ten of spades 0.00, seven of spades 0.00, 18.0ms\n",
      "Speed: 1.7ms preprocess, 18.0ms inference, 0.0ms postprocess per image at shape (1, 3, 224, 224)\n"
     ]
    },
    {
     "data": {
      "text/plain": [
       "[ultralytics.engine.results.Results object with attributes:\n",
       " \n",
       " boxes: None\n",
       " keypoints: None\n",
       " masks: None\n",
       " names: {0: 'ace of clubs', 1: 'ace of diamonds', 2: 'ace of hearts', 3: 'ace of spades', 4: 'eight of clubs', 5: 'eight of diamonds', 6: 'eight of hearts', 7: 'eight of spades', 8: 'five of clubs', 9: 'five of diamonds', 10: 'five of hearts', 11: 'five of spades', 12: 'four of clubs', 13: 'four of diamonds', 14: 'four of hearts', 15: 'four of spades', 16: 'jack of clubs', 17: 'jack of diamonds', 18: 'jack of hearts', 19: 'jack of spades', 20: 'joker', 21: 'king of clubs', 22: 'king of diamonds', 23: 'king of hearts', 24: 'king of spades', 25: 'nine of clubs', 26: 'nine of diamonds', 27: 'nine of hearts', 28: 'nine of spades', 29: 'queen of clubs', 30: 'queen of diamonds', 31: 'queen of hearts', 32: 'queen of spades', 33: 'seven of clubs', 34: 'seven of diamonds', 35: 'seven of hearts', 36: 'seven of spades', 37: 'six of clubs', 38: 'six of diamonds', 39: 'six of hearts', 40: 'six of spades', 41: 'ten of clubs', 42: 'ten of diamonds', 43: 'ten of hearts', 44: 'ten of spades', 45: 'three of clubs', 46: 'three of diamonds', 47: 'three of hearts', 48: 'three of spades', 49: 'two of clubs', 50: 'two of diamonds', 51: 'two of hearts', 52: 'two of spades'}\n",
       " obb: None\n",
       " orig_img: array([[[1, 1, 1],\n",
       "         [2, 2, 2],\n",
       "         [3, 3, 3],\n",
       "         ...,\n",
       "         [1, 1, 1],\n",
       "         [1, 1, 1],\n",
       "         [1, 1, 1]],\n",
       " \n",
       "        [[2, 2, 2],\n",
       "         [2, 2, 2],\n",
       "         [3, 3, 3],\n",
       "         ...,\n",
       "         [1, 1, 1],\n",
       "         [1, 1, 1],\n",
       "         [1, 1, 1]],\n",
       " \n",
       "        [[1, 1, 1],\n",
       "         [1, 1, 1],\n",
       "         [2, 2, 2],\n",
       "         ...,\n",
       "         [1, 1, 1],\n",
       "         [1, 1, 1],\n",
       "         [1, 1, 1]],\n",
       " \n",
       "        ...,\n",
       " \n",
       "        [[1, 1, 1],\n",
       "         [1, 1, 1],\n",
       "         [1, 1, 1],\n",
       "         ...,\n",
       "         [7, 7, 7],\n",
       "         [1, 1, 1],\n",
       "         [0, 0, 0]],\n",
       " \n",
       "        [[1, 1, 1],\n",
       "         [1, 1, 1],\n",
       "         [1, 1, 1],\n",
       "         ...,\n",
       "         [0, 0, 0],\n",
       "         [5, 5, 5],\n",
       "         [2, 2, 2]],\n",
       " \n",
       "        [[1, 1, 1],\n",
       "         [1, 1, 1],\n",
       "         [1, 1, 1],\n",
       "         ...,\n",
       "         [5, 5, 5],\n",
       "         [1, 1, 1],\n",
       "         [0, 0, 0]]], dtype=uint8)\n",
       " orig_shape: (224, 224)\n",
       " path: 'C:\\\\Users\\\\aaron\\\\Pythonfiles\\\\Hochschule\\\\DSPRO2\\\\DSPRO2-jassAIr\\\\data\\\\french-cards\\\\test\\\\eight of spades\\\\4.jpg'\n",
       " probs: ultralytics.engine.results.Probs object\n",
       " save_dir: 'runs\\\\classify\\\\train3'\n",
       " speed: {'preprocess': 1.737200014758855, 'inference': 17.96899997862056, 'postprocess': 0.047799956519156694}]"
      ]
     },
     "execution_count": 19,
     "metadata": {},
     "output_type": "execute_result"
    }
   ],
   "execution_count": 19
  }
 ],
 "metadata": {
  "kernelspec": {
   "display_name": "Python 3",
   "language": "python",
   "name": "python3"
  },
  "language_info": {
   "codemirror_mode": {
    "name": "ipython",
    "version": 2
   },
   "file_extension": ".py",
   "mimetype": "text/x-python",
   "name": "python",
   "nbconvert_exporter": "python",
   "pygments_lexer": "ipython2",
   "version": "2.7.6"
  }
 },
 "nbformat": 4,
 "nbformat_minor": 5
}
