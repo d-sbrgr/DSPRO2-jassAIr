{
 "cells": [
  {
   "cell_type": "code",
   "id": "initial_id",
   "metadata": {
    "collapsed": true,
    "ExecuteTime": {
     "end_time": "2025-03-30T10:06:30.030037Z",
     "start_time": "2025-03-30T10:06:30.014989Z"
    }
   },
   "source": [
    "import time\n",
    "from jassair.utils import get_dataset_path, Datasets\n",
    "import cv2 as cv\n",
    "from IPython.display import display_png, Image, clear_output"
   ],
   "outputs": [],
   "execution_count": 3
  },
  {
   "metadata": {},
   "cell_type": "markdown",
   "source": "## Prepare test images from captured images",
   "id": "10084d9ecfeec69a"
  },
  {
   "metadata": {
    "ExecuteTime": {
     "end_time": "2025-03-30T10:06:33.308527Z",
     "start_time": "2025-03-30T10:06:30.750971Z"
    }
   },
   "cell_type": "code",
   "source": [
    "target_x = 640\n",
    "data_path = get_dataset_path(Datasets.REAL_LIFE_YOLO)\n",
    "\n",
    "target_dir = data_path / \"images\"\n",
    "target_dir.mkdir(exist_ok=True)\n",
    "\n",
    "for i, image_path in enumerate(data_path.glob(\"*.jpg\"), 1):\n",
    "    image = cv.imread(image_path)\n",
    "    \n",
    "    h, w = image.shape[:2]\n",
    "    h_2, w_2 = h // 2, w // 2\n",
    "    x = min(h, w)\n",
    "    x_2 = x // 2\n",
    "    \n",
    "    if x < target_x:\n",
    "        raise ValueError(f\"Image {image_path} is too small!, {image.shape[:2]}\")\n",
    "    \n",
    "    h_start = h_2 - x_2\n",
    "    h_stop = h_2 + x_2\n",
    "    w_start = w_2 - x_2\n",
    "    w_stop = w_2 + x_2        \n",
    "    \n",
    "    image = image[h_start:h_stop, w_start:w_stop]\n",
    "\n",
    "    image = cv.resize(image, (target_x, target_x))\n",
    "    cv.imwrite(f\"{target_dir}/image_{i}.png\", image) "
   ],
   "id": "ac3379818caf66a0",
   "outputs": [],
   "execution_count": 4
  },
  {
   "metadata": {},
   "cell_type": "markdown",
   "source": [
    "## Label the data\n",
    "\n",
    "Data can easily be labeled. For every picture, you will be asked to label it. You will then return a string of the following format: `[SUIT][RANK]`\n",
    "\n",
    "Example:\n",
    "* `r0` = \"Rose 10\"\n",
    "* `ek` = \"Eichel Konig\"\n",
    "* `sa` = \"Schelle Ass\"\n",
    "* `t6` = \"Schilte 6\"\n",
    "\n",
    "The suits have the following labels:\n",
    "* `e` = \"Eichel\"\n",
    "* `r` = \"Rose\"\n",
    "* `s` = \"Schelle\"\n",
    "* `t` = \"Schilte\"\n",
    "\n",
    "The ranks have the following labels:\n",
    "* `6` = \"6\"\n",
    "* `7` = \"7\"\n",
    "* `8` = \"8\"\n",
    "* `9` = \"9\"\n",
    "* `0` = \"10\"\n",
    "* `u` = \"Under\"\n",
    "* `o` = \"Ober\"\n",
    "* `k` = \"König\"\n",
    "* `a` = \"Ass\""
   ],
   "id": "b13a1a693bab35bd"
  },
  {
   "metadata": {
    "ExecuteTime": {
     "end_time": "2025-03-26T15:57:45.016670Z",
     "start_time": "2025-03-26T15:57:45.011164Z"
    }
   },
   "cell_type": "code",
   "source": [
    "SUIT = {\n",
    "    \"e\": 0,\n",
    "    \"r\": 9,\n",
    "    \"s\": 18,\n",
    "    \"t\": 27\n",
    "}\n",
    "\n",
    "RANK = {\n",
    "    \"0\": 0,\n",
    "    \"6\": 1,\n",
    "    \"7\": 2,\n",
    "    \"8\": 3,\n",
    "    \"9\": 4,\n",
    "    \"a\": 5,\n",
    "    \"k\": 6,\n",
    "    \"o\": 7,\n",
    "    \"u\": 8,\n",
    "}\n",
    "\n",
    "def get_label(data: str) -> int:\n",
    "    suit = data[0]\n",
    "    rank = data[1]\n",
    "    return SUIT.get(suit, -36) + RANK.get(rank, -36)"
   ],
   "id": "99aec17d83c6445e",
   "outputs": [],
   "execution_count": 48
  },
  {
   "metadata": {},
   "cell_type": "code",
   "source": [
    "image_dir = target_dir\n",
    "label_dir = data_path / \"labels\"\n",
    "label_dir.mkdir(exist_ok=True)\n",
    "\n",
    "redo = []\n",
    "\n",
    "for image_path in image_dir.glob(\"*.png\"):\n",
    "    time.sleep(1)\n",
    "    display_png(Image(image_path))\n",
    "    filename = label_dir / f\"{image_path.stem}.txt\"\n",
    "    time.sleep(3)\n",
    "    a = get_label(input(f\"What is this image?\"))\n",
    "    if a < 0:\n",
    "        redo.append(image_path.name)\n",
    "    else:\n",
    "        with filename.open(\"w\", encoding=\"utf-8\") as f:\n",
    "            f.write(str(a))\n",
    "    clear_output()\n",
    "if redo:\n",
    "    print(f\"Redo: {redo}\")\n",
    "else:\n",
    "    print(\"Labeling finished\")"
   ],
   "id": "9d8bb1d06f0342a9",
   "execution_count": 49,
   "outputs": []
  },
  {
   "metadata": {},
   "cell_type": "code",
   "outputs": [],
   "execution_count": null,
   "source": "",
   "id": "fa7e81175666deb5"
  }
 ],
 "metadata": {
  "kernelspec": {
   "display_name": "Python 3",
   "language": "python",
   "name": "python3"
  },
  "language_info": {
   "codemirror_mode": {
    "name": "ipython",
    "version": 2
   },
   "file_extension": ".py",
   "mimetype": "text/x-python",
   "name": "python",
   "nbconvert_exporter": "python",
   "pygments_lexer": "ipython2",
   "version": "2.7.6"
  }
 },
 "nbformat": 4,
 "nbformat_minor": 5
}
