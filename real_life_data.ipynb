{
 "cells": [
  {
   "cell_type": "code",
   "id": "initial_id",
   "metadata": {
    "collapsed": true,
    "ExecuteTime": {
     "end_time": "2025-03-26T13:25:33.841279Z",
     "start_time": "2025-03-26T13:25:33.834153Z"
    }
   },
   "source": [
    "import time\n",
    "from jassair.utils import get_dataset_path, Datasets\n",
    "import cv2 as cv\n",
    "from IPython.display import display_png, Image, clear_output"
   ],
   "outputs": [],
   "execution_count": 24
  },
  {
   "metadata": {},
   "cell_type": "markdown",
   "source": "## Prepare test images from captured images",
   "id": "10084d9ecfeec69a"
  },
  {
   "metadata": {
    "ExecuteTime": {
     "end_time": "2025-03-26T13:09:47.474499Z",
     "start_time": "2025-03-26T13:09:46.703319Z"
    }
   },
   "cell_type": "code",
   "source": [
    "target_x = 640\n",
    "data_path = get_dataset_path(Datasets.REAL_LIFE_TEST)\n",
    "\n",
    "target_dir = data_path / \"images\"\n",
    "target_dir.mkdir(exist_ok=True)\n",
    "\n",
    "for i, image_path in enumerate(data_path.glob(\"*.jpg\"), 1):\n",
    "    image = cv.imread(image_path)\n",
    "    \n",
    "    h, w = image.shape[:2]\n",
    "    h_2, w_2 = h // 2, w // 2\n",
    "    x = min(h, w)\n",
    "    x_2 = x // 2\n",
    "    \n",
    "    if x < target_x:\n",
    "        raise ValueError(f\"Image {image_path} is too small!, {image.shape[:2]}\")\n",
    "    \n",
    "    h_start = h_2 - x_2\n",
    "    h_stop = h_2 + x_2\n",
    "    w_start = w_2 - x_2\n",
    "    w_stop = w_2 + x_2        \n",
    "    \n",
    "    image = image[h_start:h_stop, w_start:w_stop]\n",
    "\n",
    "    image = cv.resize(image, (target_x, target_x))\n",
    "    cv.imwrite(f\"{target_dir}/image_{i}.png\", image) "
   ],
   "id": "ac3379818caf66a0",
   "outputs": [],
   "execution_count": 3
  },
  {
   "metadata": {},
   "cell_type": "markdown",
   "source": "## Label the data",
   "id": "b13a1a693bab35bd"
  },
  {
   "metadata": {
    "ExecuteTime": {
     "end_time": "2025-03-26T13:36:33.498828Z",
     "start_time": "2025-03-26T13:36:33.482427Z"
    }
   },
   "cell_type": "code",
   "source": [
    "LABELS = ['Eichel 10', 'Eichel 6', 'Eichel 7', 'Eichel 8', 'Eichel 9', 'Eichel Ass', 'Eichel Konig', 'Eichel Ober', 'Eichel Under', 'Rose 10', 'Rose 6', 'Rose 7', 'Rose 8', 'Rose 9', 'Rose Ass', 'Rose Konig', 'Rose Ober', 'Rose Under', 'Schelle 10', 'Schelle 6', 'Schelle 7', 'Schelle 8', 'Schelle 9', 'Schelle Ass', 'Schelle Konig', 'Schelle Ober', 'Schelle Under', 'Schilte 10', 'Schilte 6', 'Schilte 7', 'Schilte 8', 'Schilte 9', 'Schilte Ass', 'Schilte Konig', 'Schilte Ober', 'Schilte Under']\n",
    "\n",
    "LABELS = [f\"{k}={v}\" for k, v in enumerate(LABELS)]\n",
    "LABELS = [\" \".join(LABELS[x:x+4]) for x in range(0, len(LABELS), 4)]\n",
    "LABELS = \"\\n\".join(LABELS)"
   ],
   "id": "99aec17d83c6445e",
   "outputs": [],
   "execution_count": 32
  },
  {
   "metadata": {},
   "cell_type": "code",
   "source": [
    "image_dir = target_dir\n",
    "label_dir = data_path / \"labels\"\n",
    "label_dir.mkdir(exist_ok=True)\n",
    "\n",
    "for i, image_path in enumerate(image_dir.glob(\"*.png\"), 1):\n",
    "    time.sleep(1)\n",
    "    display_png(Image(image_path))\n",
    "    time.sleep(3)\n",
    "    a = input(f\"What is this image?\\n{LABELS}\")\n",
    "    with (label_dir / f\"image_{i}.txt\").open(\"w\", encoding=\"utf-8\") as f:\n",
    "        f.write(str(a))\n",
    "    clear_output()"
   ],
   "id": "9d8bb1d06f0342a9",
   "outputs": [],
   "execution_count": null
  },
  {
   "metadata": {},
   "cell_type": "code",
   "outputs": [],
   "execution_count": null,
   "source": "",
   "id": "fa7e81175666deb5"
  }
 ],
 "metadata": {
  "kernelspec": {
   "display_name": "Python 3",
   "language": "python",
   "name": "python3"
  },
  "language_info": {
   "codemirror_mode": {
    "name": "ipython",
    "version": 2
   },
   "file_extension": ".py",
   "mimetype": "text/x-python",
   "name": "python",
   "nbconvert_exporter": "python",
   "pygments_lexer": "ipython2",
   "version": "2.7.6"
  }
 },
 "nbformat": 4,
 "nbformat_minor": 5
}
